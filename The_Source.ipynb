{
 "cells": [
  {
   "cell_type": "markdown",
   "metadata": {},
   "source": [
    "# THE SOURCE"
   ]
  },
  {
   "cell_type": "code",
   "execution_count": 1,
   "metadata": {},
   "outputs": [
    {
     "name": "stderr",
     "output_type": "stream",
     "text": [
      "C:\\Users\\bobbyd\\Anaconda2\\envs\\neural_net\\lib\\site-packages\\sklearn\\cross_validation.py:41: DeprecationWarning: This module was deprecated in version 0.18 in favor of the model_selection module into which all the refactored classes and functions are moved. Also note that the interface of the new CV iterators are different from that of this module. This module will be removed in 0.20.\n",
      "  \"This module will be removed in 0.20.\", DeprecationWarning)\n"
     ]
    }
   ],
   "source": [
    "\"\"\"The purpose of this report is to do an analyzation of the Donald Trump Twitter account and design a predictive model\n",
    "    to predict the exact source of an individual tweet from the Donald Trump account. The result of the analysis will then be used\n",
    "    as a factor in a seperate model design to show the effect of Donal Trump's Twitter on the financial markets.\"\"\"\n",
    "\n",
    "import pandas as pd\n",
    "import numpy as np\n",
    "import re\n",
    "import matplotlib.pyplot as plt\n",
    "from vaderSentiment.vaderSentiment import SentimentIntensityAnalyzer\n",
    "import nltk\n",
    "import string\n",
    "import seaborn as sns\n",
    "import xgboost as xgb\n",
    "from sklearn.feature_extraction.text import TfidfVectorizer, CountVectorizer\n",
    "from sklearn.decomposition import TruncatedSVD\n",
    "from sklearn import ensemble, metrics, model_selection, naive_bayes\n",
    "from sklearn.model_selection import train_test_split\n",
    "from sklearn.preprocessing import LabelEncoder\n",
    "from sklearn.model_selection import KFold\n",
    "\n",
    "%matplotlib inline"
   ]
  },
  {
   "cell_type": "code",
   "execution_count": 2,
   "metadata": {},
   "outputs": [
    {
     "data": {
      "text/plain": [
       "(5884, 8)"
      ]
     },
     "execution_count": 2,
     "metadata": {},
     "output_type": "execute_result"
    }
   ],
   "source": [
    "#read in files\n",
    "trump_16 = pd.read_json('tweets_2016.json')\n",
    "trump_17 = pd.read_json('tweets_2017.json')\n",
    "trump_16.sort_index(ascending=False, inplace = True)\n",
    "trump_17.sort_index(ascending =False, inplace = True)\n",
    "trump = trump_16.append(trump_17, ignore_index=True)\n",
    "trump.shape"
   ]
  },
  {
   "cell_type": "markdown",
   "metadata": {},
   "source": [
    "# Preprocessing and Feature Addition"
   ]
  },
  {
   "cell_type": "markdown",
   "metadata": {},
   "source": [
    "The dataset consists of 5884 individual tweets and from Midnight Janbuary 1, 2016 to 11:00 p.m. on September 17, 2017. There are 8 different characteristics to every observation\n",
    "\n",
    "1) Time created \n",
    "\n",
    "2) Number of Likes \n",
    "\n",
    "3) Id of Individual Tweet \n",
    "\n",
    "4) Id of User tweet replies to(if applicable) \n",
    "\n",
    "5) Tweet is Retweet(if applicable)\n",
    "\n",
    "6) Number of times tweet was retweeted\n",
    "\n",
    "7) Source\n",
    "\n",
    "8) Tweet\n",
    "\n",
    "The text of the data will have to preprocessed and features will need to be added for a complete analyzation to take place.\n",
    "\n",
    "Let's start with an overall investigation of the dataset. "
   ]
  },
  {
   "cell_type": "code",
   "execution_count": 3,
   "metadata": {
    "collapsed": true
   },
   "outputs": [],
   "source": [
    "#preprocess trump tweets by removing all twitter special characters, leaving only the words of the text.\n",
    "trump.text = trump.text.apply(lambda x: re.sub(r\"&\\S+\", \"\", x, flags=re.MULTILINE))\n",
    "trump.text = trump.text.apply(lambda x: re.sub(r\"@\\S+\", \"\", x, flags=re.MULTILINE))\n",
    "trump.text = trump.text.apply(lambda x: re.sub(r\"http\\S+\", \"\", x, flags=re.MULTILINE))\n",
    "trump.text = trump.text.apply(lambda x: re.sub(r'\\d+', '',x, flags=re.MULTILINE))"
   ]
  },
  {
   "cell_type": "code",
   "execution_count": 4,
   "metadata": {},
   "outputs": [
    {
     "data": {
      "text/html": [
       "<div>\n",
       "<style>\n",
       "    .dataframe thead tr:only-child th {\n",
       "        text-align: right;\n",
       "    }\n",
       "\n",
       "    .dataframe thead th {\n",
       "        text-align: left;\n",
       "    }\n",
       "\n",
       "    .dataframe tbody tr th {\n",
       "        vertical-align: top;\n",
       "    }\n",
       "</style>\n",
       "<table border=\"1\" class=\"dataframe\">\n",
       "  <thead>\n",
       "    <tr style=\"text-align: right;\">\n",
       "      <th></th>\n",
       "      <th>created_at</th>\n",
       "      <th>favorite_count</th>\n",
       "      <th>id_str</th>\n",
       "      <th>in_reply_to_user_id_str</th>\n",
       "      <th>is_retweet</th>\n",
       "      <th>retweet_count</th>\n",
       "      <th>source</th>\n",
       "      <th>text</th>\n",
       "    </tr>\n",
       "  </thead>\n",
       "  <tbody>\n",
       "    <tr>\n",
       "      <th>0</th>\n",
       "      <td>2016-01-01 00:44:14</td>\n",
       "      <td>6735</td>\n",
       "      <td>682723973449289728</td>\n",
       "      <td>NaN</td>\n",
       "      <td>False</td>\n",
       "      <td>2108</td>\n",
       "      <td>Twitter for Android</td>\n",
       "      <td>I will be on  live,  with members of my family...</td>\n",
       "    </tr>\n",
       "    <tr>\n",
       "      <th>1</th>\n",
       "      <td>2016-01-01 03:25:27</td>\n",
       "      <td>8581</td>\n",
       "      <td>682764544402440192</td>\n",
       "      <td>NaN</td>\n",
       "      <td>False</td>\n",
       "      <td>3460</td>\n",
       "      <td>Twitter for iPhone</td>\n",
       "      <td>HAPPY NEW YEAR  THANK YOU!</td>\n",
       "    </tr>\n",
       "    <tr>\n",
       "      <th>2</th>\n",
       "      <td>2016-01-01 05:18:23</td>\n",
       "      <td>9143</td>\n",
       "      <td>682792967736848384</td>\n",
       "      <td>NaN</td>\n",
       "      <td>False</td>\n",
       "      <td>3434</td>\n",
       "      <td>Twitter for iPhone</td>\n",
       "      <td>#HappyNewYearAmerica!</td>\n",
       "    </tr>\n",
       "    <tr>\n",
       "      <th>3</th>\n",
       "      <td>2016-01-01 06:07:28</td>\n",
       "      <td>8258</td>\n",
       "      <td>682805320217980928</td>\n",
       "      <td>NaN</td>\n",
       "      <td>False</td>\n",
       "      <td>1948</td>\n",
       "      <td>Twitter for iPhone</td>\n",
       "      <td>Happy New Year from #MarALago! Thank you to my...</td>\n",
       "    </tr>\n",
       "    <tr>\n",
       "      <th>4</th>\n",
       "      <td>2016-01-01 06:08:06</td>\n",
       "      <td>7490</td>\n",
       "      <td>682805477168779264</td>\n",
       "      <td>NaN</td>\n",
       "      <td>False</td>\n",
       "      <td>2721</td>\n",
       "      <td>Twitter for Android</td>\n",
       "      <td>\" Hillary said she was in a \"Fog of War\" as ex...</td>\n",
       "    </tr>\n",
       "  </tbody>\n",
       "</table>\n",
       "</div>"
      ],
      "text/plain": [
       "           created_at  favorite_count              id_str  \\\n",
       "0 2016-01-01 00:44:14            6735  682723973449289728   \n",
       "1 2016-01-01 03:25:27            8581  682764544402440192   \n",
       "2 2016-01-01 05:18:23            9143  682792967736848384   \n",
       "3 2016-01-01 06:07:28            8258  682805320217980928   \n",
       "4 2016-01-01 06:08:06            7490  682805477168779264   \n",
       "\n",
       "   in_reply_to_user_id_str  is_retweet  retweet_count               source  \\\n",
       "0                      NaN       False           2108  Twitter for Android   \n",
       "1                      NaN       False           3460   Twitter for iPhone   \n",
       "2                      NaN       False           3434   Twitter for iPhone   \n",
       "3                      NaN       False           1948   Twitter for iPhone   \n",
       "4                      NaN       False           2721  Twitter for Android   \n",
       "\n",
       "                                                text  \n",
       "0  I will be on  live,  with members of my family...  \n",
       "1                       HAPPY NEW YEAR  THANK YOU!    \n",
       "2                             #HappyNewYearAmerica!   \n",
       "3  Happy New Year from #MarALago! Thank you to my...  \n",
       "4  \" Hillary said she was in a \"Fog of War\" as ex...  "
      ]
     },
     "execution_count": 4,
     "metadata": {},
     "output_type": "execute_result"
    }
   ],
   "source": [
    "trump.head()"
   ]
  },
  {
   "cell_type": "code",
   "execution_count": 5,
   "metadata": {},
   "outputs": [
    {
     "data": {
      "text/html": [
       "<div>\n",
       "<style>\n",
       "    .dataframe thead tr:only-child th {\n",
       "        text-align: right;\n",
       "    }\n",
       "\n",
       "    .dataframe thead th {\n",
       "        text-align: left;\n",
       "    }\n",
       "\n",
       "    .dataframe tbody tr th {\n",
       "        vertical-align: top;\n",
       "    }\n",
       "</style>\n",
       "<table border=\"1\" class=\"dataframe\">\n",
       "  <thead>\n",
       "    <tr style=\"text-align: right;\">\n",
       "      <th></th>\n",
       "      <th>created_at</th>\n",
       "      <th>favorite_count</th>\n",
       "      <th>id_str</th>\n",
       "      <th>in_reply_to_user_id_str</th>\n",
       "      <th>is_retweet</th>\n",
       "      <th>retweet_count</th>\n",
       "      <th>source</th>\n",
       "      <th>text</th>\n",
       "    </tr>\n",
       "  </thead>\n",
       "  <tbody>\n",
       "    <tr>\n",
       "      <th>5879</th>\n",
       "      <td>2017-09-15 22:58:30</td>\n",
       "      <td>44914</td>\n",
       "      <td>908827394856947712</td>\n",
       "      <td>NaN</td>\n",
       "      <td>False</td>\n",
       "      <td>11823</td>\n",
       "      <td>Twitter for iPhone</td>\n",
       "      <td>We will defend our people, our nations and our...</td>\n",
       "    </tr>\n",
       "    <tr>\n",
       "      <th>5880</th>\n",
       "      <td>2017-09-15 23:54:00</td>\n",
       "      <td>71686</td>\n",
       "      <td>908841360131743744</td>\n",
       "      <td>NaN</td>\n",
       "      <td>False</td>\n",
       "      <td>17473</td>\n",
       "      <td>Media Studio</td>\n",
       "      <td>HAPPY th BIRTHDAY to the  The American people ...</td>\n",
       "    </tr>\n",
       "    <tr>\n",
       "      <th>5881</th>\n",
       "      <td>2017-09-16 22:40:23</td>\n",
       "      <td>22322</td>\n",
       "      <td>909185223887347712</td>\n",
       "      <td>NaN</td>\n",
       "      <td>False</td>\n",
       "      <td>4691</td>\n",
       "      <td>Twitter for iPhone</td>\n",
       "      <td>A great deal of good things happening for our ...</td>\n",
       "    </tr>\n",
       "    <tr>\n",
       "      <th>5882</th>\n",
       "      <td>2017-09-16 22:59:06</td>\n",
       "      <td>13697</td>\n",
       "      <td>909189931154771968</td>\n",
       "      <td>NaN</td>\n",
       "      <td>False</td>\n",
       "      <td>3347</td>\n",
       "      <td>Twitter for iPhone</td>\n",
       "      <td>Attorney General Bill Shuette will be a fantas...</td>\n",
       "    </tr>\n",
       "    <tr>\n",
       "      <th>5883</th>\n",
       "      <td>2017-09-16 23:04:03</td>\n",
       "      <td>11893</td>\n",
       "      <td>909191177810915328</td>\n",
       "      <td>NaN</td>\n",
       "      <td>False</td>\n",
       "      <td>2504</td>\n",
       "      <td>Twitter for iPhone</td>\n",
       "      <td>I will be in Huntsville, Alabama, on Saturday ...</td>\n",
       "    </tr>\n",
       "  </tbody>\n",
       "</table>\n",
       "</div>"
      ],
      "text/plain": [
       "              created_at  favorite_count              id_str  \\\n",
       "5879 2017-09-15 22:58:30           44914  908827394856947712   \n",
       "5880 2017-09-15 23:54:00           71686  908841360131743744   \n",
       "5881 2017-09-16 22:40:23           22322  909185223887347712   \n",
       "5882 2017-09-16 22:59:06           13697  909189931154771968   \n",
       "5883 2017-09-16 23:04:03           11893  909191177810915328   \n",
       "\n",
       "      in_reply_to_user_id_str  is_retweet  retweet_count              source  \\\n",
       "5879                      NaN       False          11823  Twitter for iPhone   \n",
       "5880                      NaN       False          17473        Media Studio   \n",
       "5881                      NaN       False           4691  Twitter for iPhone   \n",
       "5882                      NaN       False           3347  Twitter for iPhone   \n",
       "5883                      NaN       False           2504  Twitter for iPhone   \n",
       "\n",
       "                                                   text  \n",
       "5879  We will defend our people, our nations and our...  \n",
       "5880  HAPPY th BIRTHDAY to the  The American people ...  \n",
       "5881  A great deal of good things happening for our ...  \n",
       "5882  Attorney General Bill Shuette will be a fantas...  \n",
       "5883  I will be in Huntsville, Alabama, on Saturday ...  "
      ]
     },
     "execution_count": 5,
     "metadata": {},
     "output_type": "execute_result"
    }
   ],
   "source": [
    "trump.tail()"
   ]
  },
  {
   "cell_type": "code",
   "execution_count": 6,
   "metadata": {},
   "outputs": [
    {
     "name": "stdout",
     "output_type": "stream",
     "text": [
      "<class 'pandas.core.frame.DataFrame'>\n",
      "RangeIndex: 5884 entries, 0 to 5883\n",
      "Data columns (total 8 columns):\n",
      "created_at                 5884 non-null datetime64[ns]\n",
      "favorite_count             5884 non-null int64\n",
      "id_str                     5884 non-null int64\n",
      "in_reply_to_user_id_str    35 non-null float64\n",
      "is_retweet                 5884 non-null bool\n",
      "retweet_count              5884 non-null int64\n",
      "source                     5884 non-null object\n",
      "text                       5884 non-null object\n",
      "dtypes: bool(1), datetime64[ns](1), float64(1), int64(3), object(2)\n",
      "memory usage: 327.6+ KB\n"
     ]
    }
   ],
   "source": [
    "trump.info()"
   ]
  },
  {
   "cell_type": "markdown",
   "metadata": {},
   "source": [
    "The is_reply_to_user_id column only has 35 values, the id_str column has no repeat values and is not of use for analyzation or predicitve modeling. Both columns can be dropped from the dataset."
   ]
  },
  {
   "cell_type": "code",
   "execution_count": 7,
   "metadata": {
    "collapsed": true
   },
   "outputs": [],
   "source": [
    "trump.drop('id_str', axis=1, inplace=True)\n",
    "trump.drop('in_reply_to_user_id_str', axis=1, inplace=True)"
   ]
  },
  {
   "cell_type": "code",
   "execution_count": 8,
   "metadata": {},
   "outputs": [
    {
     "data": {
      "text/plain": [
       "created_at        377\n",
       "favorite_count    377\n",
       "is_retweet        377\n",
       "retweet_count     377\n",
       "source            377\n",
       "text              377\n",
       "dtype: int64"
      ]
     },
     "execution_count": 8,
     "metadata": {},
     "output_type": "execute_result"
    }
   ],
   "source": [
    "trump[trump['is_retweet']==True].count()"
   ]
  },
  {
   "cell_type": "markdown",
   "metadata": {},
   "source": [
    "Less than 5% of the tweets are something Donald Trump has retweeted, but will leave it in the dataset to see what types of things he retweets."
   ]
  },
  {
   "cell_type": "code",
   "execution_count": 9,
   "metadata": {},
   "outputs": [
    {
     "data": {
      "text/plain": [
       "26     RT  So proud to be out on the campaign trail w...\n",
       "91     RT  Explosive Trump attack on HRC, Bill, Monic...\n",
       "167    RT  REUTERS ROLLING:  TRUMP %, CRUZ .%, BUSH ....\n",
       "187    RT      obvious to all that he raised some GRE...\n",
       "239     RT  I look forward to being on  with  at :pmET. \n",
       "Name: text, dtype: object"
      ]
     },
     "execution_count": 9,
     "metadata": {},
     "output_type": "execute_result"
    }
   ],
   "source": [
    "trump[trump['is_retweet']==True].text[0:5]"
   ]
  },
  {
   "cell_type": "markdown",
   "metadata": {},
   "source": [
    "Now lets investigate the target vartiable, the source of each individual tweet."
   ]
  },
  {
   "cell_type": "code",
   "execution_count": 10,
   "metadata": {},
   "outputs": [
    {
     "data": {
      "text/plain": [
       "Twitter for iPhone     3221\n",
       "Twitter for Android    2116\n",
       "Twitter Web Client      358\n",
       "Twitter Ads              96\n",
       "Media Studio             65\n",
       "Twitter for iPad         22\n",
       "Instagram                 2\n",
       "TweetDeck                 2\n",
       "Mobile Web (M5)           1\n",
       "Periscope                 1\n",
       "Name: source, dtype: int64"
      ]
     },
     "execution_count": 10,
     "metadata": {},
     "output_type": "execute_result"
    }
   ],
   "source": [
    "trump['source'].value_counts()"
   ]
  },
  {
   "cell_type": "markdown",
   "metadata": {},
   "source": [
    "Over 95% of the dataset comes one of three sources and any investigation can focus solely on Twitter for IPhone, Twitter for Android and Twitter Web Client."
   ]
  },
  {
   "cell_type": "code",
   "execution_count": 11,
   "metadata": {
    "collapsed": true
   },
   "outputs": [],
   "source": [
    "# Training dataframe with observations from three relevan sources only\n",
    "trump = trump[trump.source != 'Twitter Ads']\n",
    "trump = trump[trump.source != 'Media Studio']\n",
    "trump = trump[trump.source != 'Twitter for iPad']\n",
    "trump = trump[trump.source != 'TweetDeck']\n",
    "trump = trump[trump.source != 'Instagram']\n",
    "trump = trump[trump.source != 'Periscope']\n",
    "trump = trump[trump.source != 'Mobile Web (M5)']"
   ]
  },
  {
   "cell_type": "code",
   "execution_count": 12,
   "metadata": {},
   "outputs": [
    {
     "data": {
      "text/plain": [
       "created_at        datetime64[ns]\n",
       "favorite_count             int64\n",
       "is_retweet                  bool\n",
       "retweet_count              int64\n",
       "source                    object\n",
       "text                      object\n",
       "dtype: object"
      ]
     },
     "execution_count": 12,
     "metadata": {},
     "output_type": "execute_result"
    }
   ],
   "source": [
    "# Check the data types for the remaining columns\n",
    "trump.dtypes"
   ]
  },
  {
   "cell_type": "markdown",
   "metadata": {},
   "source": [
    "The final step in the preprocessing of the dataset is to make the index a datetime index"
   ]
  },
  {
   "cell_type": "code",
   "execution_count": 13,
   "metadata": {},
   "outputs": [
    {
     "data": {
      "text/plain": [
       "(5695, 5)"
      ]
     },
     "execution_count": 13,
     "metadata": {},
     "output_type": "execute_result"
    }
   ],
   "source": [
    "#Make dataframe a datetime index\n",
    "trump.index=pd.DatetimeIndex(trump['created_at'])\n",
    "trump.drop('created_at', axis = 1, inplace =True)\n",
    "trump.shape"
   ]
  },
  {
   "cell_type": "markdown",
   "metadata": {},
   "source": [
    "So our preprocessed dataset consist of 5695 observations and 5 characteristics for each observation"
   ]
  },
  {
   "cell_type": "markdown",
   "metadata": {},
   "source": [
    "# Data Analyzation\n"
   ]
  },
  {
   "cell_type": "markdown",
   "metadata": {},
   "source": [
    "Let's start by generating any new features that might be impoprtant factors in the source classification."
   ]
  },
  {
   "cell_type": "code",
   "execution_count": 14,
   "metadata": {
    "collapsed": true
   },
   "outputs": [],
   "source": [
    "# Obtain the hour of the day and the day of the week for each observation and add them as features to the dataframe\n",
    "trump['hours'] = trump.index.hour\n",
    "trump['weekday'] = trump.index.weekday_name"
   ]
  },
  {
   "cell_type": "markdown",
   "metadata": {},
   "source": [
    "## Natural Language Processing"
   ]
  },
  {
   "cell_type": "code",
   "execution_count": 15,
   "metadata": {
    "collapsed": true
   },
   "outputs": [],
   "source": [
    "from nltk.corpus import stopwords\n",
    "\n",
    "# get english stop words\n",
    "english = stopwords.words('english')"
   ]
  },
  {
   "cell_type": "markdown",
   "metadata": {},
   "source": [
    "Specific packages within Python allow us to analyze written text for both its Meta and Text attributes.\n"
   ]
  },
  {
   "cell_type": "markdown",
   "metadata": {},
   "source": [
    "### Meta Attributes:\n",
    "\n",
    "Meta attributes include:\n",
    "\n",
    "1) Number of words per tweet\n",
    "\n",
    "2) Number of unique words in tweet\n",
    "\n",
    "3) Number of characters in tweet\n",
    "\n",
    "4) Number of stopwords\n",
    "\n",
    "5) Number of punctuation\n",
    "\n",
    "6) Number of upper case words\n",
    "\n",
    "7) Number of title case words\n",
    "\n",
    "8) Average length of word"
   ]
  },
  {
   "cell_type": "code",
   "execution_count": 16,
   "metadata": {
    "collapsed": true
   },
   "outputs": [],
   "source": [
    "# Number of words in tweet\n",
    "trump['num_words'] = trump['text'].apply(lambda x: len(str(x).split()))\n",
    "\n",
    "# Number of unique word per tweet\n",
    "trump['num_unique_words'] = trump['text'].apply(lambda x: len(set(str(x).split())))\n",
    "\n",
    "# Number of characters in tweet\n",
    "trump['num_char'] = trump['text'].apply(lambda x: len(str(x)))\n",
    "\n",
    "# Number of stop words\n",
    "trump['num_stops'] = trump['text'].apply(lambda x: len([w for w in str(x).lower().split() if w in english]))\n",
    "\n",
    "# Number of puncuation in tweet\n",
    "trump['num_punc'] = trump['text'].apply(lambda x: len([c for c in str(x) if c in string.punctuation]))\n",
    "\n",
    "# Number of upper case words\n",
    "trump['num_upper'] = trump['text'].apply(lambda x: len([w for w in str(x).split() if w.isupper()]))\n",
    "\n",
    "# Number of title case words in tweet\n",
    "trump['num_title'] = trump['text'].apply(lambda x: len([w for w in str(x).split() if w.istitle()]))\n",
    "\n",
    "# Average length of word\n",
    "# trump['avg_len'] = trump['text'].apply(lambda x: np.mean([len(w) for w in str(x).split()]))\n",
    "\n"
   ]
  },
  {
   "cell_type": "code",
   "execution_count": 17,
   "metadata": {},
   "outputs": [
    {
     "data": {
      "text/html": [
       "<div>\n",
       "<style>\n",
       "    .dataframe thead tr:only-child th {\n",
       "        text-align: right;\n",
       "    }\n",
       "\n",
       "    .dataframe thead th {\n",
       "        text-align: left;\n",
       "    }\n",
       "\n",
       "    .dataframe tbody tr th {\n",
       "        vertical-align: top;\n",
       "    }\n",
       "</style>\n",
       "<table border=\"1\" class=\"dataframe\">\n",
       "  <thead>\n",
       "    <tr style=\"text-align: right;\">\n",
       "      <th></th>\n",
       "      <th>favorite_count</th>\n",
       "      <th>is_retweet</th>\n",
       "      <th>retweet_count</th>\n",
       "      <th>source</th>\n",
       "      <th>text</th>\n",
       "      <th>hours</th>\n",
       "      <th>weekday</th>\n",
       "      <th>num_words</th>\n",
       "      <th>num_unique_words</th>\n",
       "      <th>num_char</th>\n",
       "      <th>num_stops</th>\n",
       "      <th>num_punc</th>\n",
       "      <th>num_upper</th>\n",
       "      <th>num_title</th>\n",
       "    </tr>\n",
       "    <tr>\n",
       "      <th>created_at</th>\n",
       "      <th></th>\n",
       "      <th></th>\n",
       "      <th></th>\n",
       "      <th></th>\n",
       "      <th></th>\n",
       "      <th></th>\n",
       "      <th></th>\n",
       "      <th></th>\n",
       "      <th></th>\n",
       "      <th></th>\n",
       "      <th></th>\n",
       "      <th></th>\n",
       "      <th></th>\n",
       "      <th></th>\n",
       "    </tr>\n",
       "  </thead>\n",
       "  <tbody>\n",
       "    <tr>\n",
       "      <th>2016-01-01 00:44:14</th>\n",
       "      <td>6735</td>\n",
       "      <td>False</td>\n",
       "      <td>2108</td>\n",
       "      <td>Twitter for Android</td>\n",
       "      <td>I will be on  live,  with members of my family...</td>\n",
       "      <td>0</td>\n",
       "      <td>Friday</td>\n",
       "      <td>25</td>\n",
       "      <td>24</td>\n",
       "      <td>122</td>\n",
       "      <td>12</td>\n",
       "      <td>7</td>\n",
       "      <td>6</td>\n",
       "      <td>5</td>\n",
       "    </tr>\n",
       "    <tr>\n",
       "      <th>2016-01-01 03:25:27</th>\n",
       "      <td>8581</td>\n",
       "      <td>False</td>\n",
       "      <td>3460</td>\n",
       "      <td>Twitter for iPhone</td>\n",
       "      <td>HAPPY NEW YEAR  THANK YOU!</td>\n",
       "      <td>3</td>\n",
       "      <td>Friday</td>\n",
       "      <td>5</td>\n",
       "      <td>5</td>\n",
       "      <td>28</td>\n",
       "      <td>0</td>\n",
       "      <td>1</td>\n",
       "      <td>5</td>\n",
       "      <td>0</td>\n",
       "    </tr>\n",
       "    <tr>\n",
       "      <th>2016-01-01 05:18:23</th>\n",
       "      <td>9143</td>\n",
       "      <td>False</td>\n",
       "      <td>3434</td>\n",
       "      <td>Twitter for iPhone</td>\n",
       "      <td>#HappyNewYearAmerica!</td>\n",
       "      <td>5</td>\n",
       "      <td>Friday</td>\n",
       "      <td>1</td>\n",
       "      <td>1</td>\n",
       "      <td>22</td>\n",
       "      <td>0</td>\n",
       "      <td>2</td>\n",
       "      <td>0</td>\n",
       "      <td>0</td>\n",
       "    </tr>\n",
       "    <tr>\n",
       "      <th>2016-01-01 06:07:28</th>\n",
       "      <td>8258</td>\n",
       "      <td>False</td>\n",
       "      <td>1948</td>\n",
       "      <td>Twitter for iPhone</td>\n",
       "      <td>Happy New Year from #MarALago! Thank you to my...</td>\n",
       "      <td>6</td>\n",
       "      <td>Friday</td>\n",
       "      <td>16</td>\n",
       "      <td>16</td>\n",
       "      <td>86</td>\n",
       "      <td>8</td>\n",
       "      <td>3</td>\n",
       "      <td>0</td>\n",
       "      <td>4</td>\n",
       "    </tr>\n",
       "    <tr>\n",
       "      <th>2016-01-01 06:08:06</th>\n",
       "      <td>7490</td>\n",
       "      <td>False</td>\n",
       "      <td>2721</td>\n",
       "      <td>Twitter for Android</td>\n",
       "      <td>\" Hillary said she was in a \"Fog of War\" as ex...</td>\n",
       "      <td>6</td>\n",
       "      <td>Friday</td>\n",
       "      <td>25</td>\n",
       "      <td>24</td>\n",
       "      <td>125</td>\n",
       "      <td>11</td>\n",
       "      <td>7</td>\n",
       "      <td>2</td>\n",
       "      <td>7</td>\n",
       "    </tr>\n",
       "  </tbody>\n",
       "</table>\n",
       "</div>"
      ],
      "text/plain": [
       "                     favorite_count  is_retweet  retweet_count  \\\n",
       "created_at                                                       \n",
       "2016-01-01 00:44:14            6735       False           2108   \n",
       "2016-01-01 03:25:27            8581       False           3460   \n",
       "2016-01-01 05:18:23            9143       False           3434   \n",
       "2016-01-01 06:07:28            8258       False           1948   \n",
       "2016-01-01 06:08:06            7490       False           2721   \n",
       "\n",
       "                                  source  \\\n",
       "created_at                                 \n",
       "2016-01-01 00:44:14  Twitter for Android   \n",
       "2016-01-01 03:25:27   Twitter for iPhone   \n",
       "2016-01-01 05:18:23   Twitter for iPhone   \n",
       "2016-01-01 06:07:28   Twitter for iPhone   \n",
       "2016-01-01 06:08:06  Twitter for Android   \n",
       "\n",
       "                                                                  text  hours  \\\n",
       "created_at                                                                      \n",
       "2016-01-01 00:44:14  I will be on  live,  with members of my family...      0   \n",
       "2016-01-01 03:25:27                       HAPPY NEW YEAR  THANK YOU!        3   \n",
       "2016-01-01 05:18:23                             #HappyNewYearAmerica!       5   \n",
       "2016-01-01 06:07:28  Happy New Year from #MarALago! Thank you to my...      6   \n",
       "2016-01-01 06:08:06  \" Hillary said she was in a \"Fog of War\" as ex...      6   \n",
       "\n",
       "                    weekday  num_words  num_unique_words  num_char  num_stops  \\\n",
       "created_at                                                                      \n",
       "2016-01-01 00:44:14  Friday         25                24       122         12   \n",
       "2016-01-01 03:25:27  Friday          5                 5        28          0   \n",
       "2016-01-01 05:18:23  Friday          1                 1        22          0   \n",
       "2016-01-01 06:07:28  Friday         16                16        86          8   \n",
       "2016-01-01 06:08:06  Friday         25                24       125         11   \n",
       "\n",
       "                     num_punc  num_upper  num_title  \n",
       "created_at                                           \n",
       "2016-01-01 00:44:14         7          6          5  \n",
       "2016-01-01 03:25:27         1          5          0  \n",
       "2016-01-01 05:18:23         2          0          0  \n",
       "2016-01-01 06:07:28         3          0          4  \n",
       "2016-01-01 06:08:06         7          2          7  "
      ]
     },
     "execution_count": 17,
     "metadata": {},
     "output_type": "execute_result"
    }
   ],
   "source": [
    "trump.head()"
   ]
  },
  {
   "cell_type": "markdown",
   "metadata": {},
   "source": [
    "Let's plot some of the new variables to see any correlation. Obviously, we will start with difference in the number of words in a Tweet depending on the source."
   ]
  },
  {
   "cell_type": "code",
   "execution_count": 18,
   "metadata": {},
   "outputs": [
    {
     "data": {
      "text/plain": [
       "<matplotlib.text.Text at 0x26eaf64ab70>"
      ]
     },
     "execution_count": 18,
     "metadata": {},
     "output_type": "execute_result"
    },
    {
     "data": {
      "image/png": "[encoded data removed]",
      "text/plain": [
       "<matplotlib.figure.Figure at 0x26eafe22c50>"
      ]
     },
     "metadata": {},
     "output_type": "display_data"
    }
   ],
   "source": [
    "plt.figure(figsize=(12,8))\n",
    "sns.violinplot(x='source', y= 'num_words', data= trump)\n",
    "plt.xlabel(' Source of Tweet', fontsize=12)\n",
    "plt.ylabel('NUmber of Words', fontsize=12)\n",
    "plt.title('Number of Words per Tweet by Source', fontsize=15)"
   ]
  },
  {
   "cell_type": "markdown",
   "metadata": {},
   "source": [
    "There is a significantly higher mean with the android source versus the other two but the distibutions of the sources is consistent with each other. Basically, this graph says that the android source was used much more for Tweets ranging from 20-30 words. i.e. longer tweets."
   ]
  },
  {
   "cell_type": "markdown",
   "metadata": {},
   "source": [
    "Next let's investigate the amount of punctuation in each by source"
   ]
  },
  {
   "cell_type": "code",
   "execution_count": 19,
   "metadata": {},
   "outputs": [
    {
     "data": {
      "text/plain": [
       "<matplotlib.text.Text at 0x26eafe82e80>"
      ]
     },
     "execution_count": 19,
     "metadata": {},
     "output_type": "execute_result"
    },
    {
     "data": {
      "image/png": "[encoded data removed]",
      "text/plain": [
       "<matplotlib.figure.Figure at 0x26eaf6122e8>"
      ]
     },
     "metadata": {},
     "output_type": "display_data"
    }
   ],
   "source": [
    "plt.figure(figsize=(12,8))\n",
    "sns.violinplot(x=trump['source'], y= 'num_punc', data= trump)\n",
    "plt.xlabel(' Source of Tweet', fontsize=12)\n",
    "plt.ylabel('Amount of Punctuation', fontsize=12)\n",
    "plt.title('Amount of Punctuation per Tweet by Source', fontsize=15)"
   ]
  },
  {
   "cell_type": "markdown",
   "metadata": {},
   "source": [
    "There are some outliers within the Android and iPhone sources but the Web Client is normally distributed. The outliers can be dealt with by taking the log of the Android and iPhone punctuation values."
   ]
  },
  {
   "cell_type": "code",
   "execution_count": 20,
   "metadata": {
    "collapsed": true
   },
   "outputs": [],
   "source": [
    "trump['num_punc']= trump['num_punc'].apply(lambda x: np.log(x))"
   ]
  },
  {
   "cell_type": "code",
   "execution_count": 21,
   "metadata": {},
   "outputs": [
    {
     "data": {
      "text/plain": [
       "<matplotlib.text.Text at 0x26eb00f6048>"
      ]
     },
     "execution_count": 21,
     "metadata": {},
     "output_type": "execute_result"
    },
    {
     "data": {
      "image/png": "[encoded data removed]",
      "text/plain": [
       "<matplotlib.figure.Figure at 0x26eb00e6dd8>"
      ]
     },
     "metadata": {},
     "output_type": "display_data"
    }
   ],
   "source": [
    "plt.figure(figsize=(12,8))\n",
    "sns.violinplot(x=trump.source, y= 'num_unique_words', data= trump)\n",
    "plt.xlabel(' Source of Tweet', fontsize=12)\n",
    "plt.ylabel('NUmber of Unique Words', fontsize=12)\n",
    "plt.title('Number of Unique Words per Tweet by Source', fontsize=15)"
   ]
  },
  {
   "cell_type": "markdown",
   "metadata": {},
   "source": [
    "As expected there is some obvious correlation between number of words and the number of unique words. The graphs are nearly identical."
   ]
  },
  {
   "cell_type": "code",
   "execution_count": 22,
   "metadata": {},
   "outputs": [
    {
     "data": {
      "text/plain": [
       "<matplotlib.text.Text at 0x26eafae76a0>"
      ]
     },
     "execution_count": 22,
     "metadata": {},
     "output_type": "execute_result"
    },
    {
     "data": {
      "image/png": "[encoded data removed]",
      "text/plain": [
       "<matplotlib.figure.Figure at 0x26eb011b5f8>"
      ]
     },
     "metadata": {},
     "output_type": "display_data"
    }
   ],
   "source": [
    "plt.figure(figsize=(12,8))\n",
    "sns.violinplot(x=trump.source, y= 'num_char', data= trump)\n",
    "plt.xlabel(' Source of Tweet', fontsize=12)\n",
    "plt.ylabel('Number of Characters', fontsize=12)\n",
    "plt.title('Number of Characters per Tweet by Source', fontsize=15)"
   ]
  },
  {
   "cell_type": "markdown",
   "metadata": {},
   "source": [
    "Outliers on the low side of the charcter per tweet count might require another log function"
   ]
  },
  {
   "cell_type": "code",
   "execution_count": 23,
   "metadata": {
    "collapsed": true
   },
   "outputs": [],
   "source": [
    "trump['num_char']=trump['num_char'].apply(lambda x: np.log(x))"
   ]
  },
  {
   "cell_type": "markdown",
   "metadata": {},
   "source": [
    "# Train_Test_Split"
   ]
  },
  {
   "cell_type": "code",
   "execution_count": 40,
   "metadata": {
    "collapsed": true
   },
   "outputs": [],
   "source": [
    "## Prepare target variable for model training with label encoding\n",
    "le = LabelEncoder()\n",
    "y = le.fit_transform(trump['source'])\n",
    "X= trump.drop('source', axis=1)"
   ]
  },
  {
   "cell_type": "code",
   "execution_count": 41,
   "metadata": {
    "collapsed": true
   },
   "outputs": [],
   "source": [
    "X['is_retweet'] = le.fit_transform(X['is_retweet'])\n"
   ]
  },
  {
   "cell_type": "code",
   "execution_count": 42,
   "metadata": {},
   "outputs": [
    {
     "data": {
      "text/plain": [
       "(array([0, 1], dtype=int64), array([1, 2, 2, ..., 2, 2, 2], dtype=int64))"
      ]
     },
     "execution_count": 42,
     "metadata": {},
     "output_type": "execute_result"
    }
   ],
   "source": [
    "le.classes_, y"
   ]
  },
  {
   "cell_type": "code",
   "execution_count": 46,
   "metadata": {},
   "outputs": [
    {
     "data": {
      "text/plain": [
       "((3986, 13), (1709, 13), (3986,), (1709,))"
      ]
     },
     "execution_count": 46,
     "metadata": {},
     "output_type": "execute_result"
    }
   ],
   "source": [
    "X_train, X_test, y_train, y_test = train_test_split(X,y, test_size=.3)\n",
    "\n",
    "X_train.shape, X_test.shape, y_train.shape, y_test.shape"
   ]
  },
  {
   "cell_type": "markdown",
   "metadata": {},
   "source": [
    "## XGBoost"
   ]
  },
  {
   "cell_type": "markdown",
   "metadata": {},
   "source": [
    "Let's perform XGBoost classifier on only the numerical variables."
   ]
  },
  {
   "cell_type": "code",
   "execution_count": 27,
   "metadata": {},
   "outputs": [
    {
     "name": "stdout",
     "output_type": "stream",
     "text": [
      "The catergorical variables are: ['source', 'text', 'weekday']\n",
      "The numerical variables are: ['favorite_count', 'is_retweet', 'retweet_count', 'hours', 'num_words', 'num_unique_words', 'num_char', 'num_stops', 'num_punc', 'num_upper', 'num_title']\n"
     ]
    }
   ],
   "source": [
    "numerical = [f for f in trump.columns if trump.dtypes[f] != 'object']\n",
    "categorical = [f for f in trump.columns if trump.dtypes[f] == 'object']\n",
    "\n",
    "print('The catergorical variables are: {}\\nThe numerical variables are: {}'.format(str(categorical),str(numerical)))"
   ]
  },
  {
   "cell_type": "code",
   "execution_count": 43,
   "metadata": {
    "collapsed": true
   },
   "outputs": [],
   "source": [
    "# Define a function to calculate the xgboost classifier\n",
    "def RunXGB(train_X, train_y, test_X,test_y, test_X2=None, seed_val=0, child=1, colsample=.3):\n",
    "    param= {}\n",
    "    param['objective'] = 'multi:softprob'\n",
    "    param['eta'] = .1\n",
    "    param['max_depth'] = 3\n",
    "    param['silent'] = 1\n",
    "    param['num_class'] = 3\n",
    "    param['eval_metric'] = 'mlogloss'\n",
    "    param['min_child_weight'] = child\n",
    "    param['subsample'] = .8\n",
    "    param['colsample_bytree'] = colsample\n",
    "    param['seed'] = seed_val\n",
    "    num_rounds = 2000\n",
    "    \n",
    "    plist =list(param.items())\n",
    "    xgtrain = xgb.DMatrix(train_X, label=train_y)\n",
    "    \n",
    "    if test_y is not None:\n",
    "        xgtest = xgb.DMatrix(test_X, label= test_y)\n",
    "        watchlist = [ (xgtrain, 'train', xgtest, 'test') ]\n",
    "        model = xgb.train(plist, xgtrain, num_rounds, watchlist, early_stopping_rounds =50, verbose_eval=20)\n",
    "    else:\n",
    "        xgtest = xgb.DMatrix(test_X)\n",
    "        model = xgb.train(plist, xgtrain,num_rounds)\n",
    "        \n",
    "    pred_test_y = model.predict(xgtest, ntree_limit=model.best_ntree_limit)\n",
    "    if test_X2 is not None:\n",
    "        xgtest2 = xgb.DMatrix(test_X2)\n",
    "        pred_test_y2 = model.predict(xgtest2, ntree_limit = model.best_ntree_limit)\n",
    "    return pred_test_y, pred_test_y2, model\n"
   ]
  },
  {
   "cell_type": "code",
   "execution_count": 45,
   "metadata": {},
   "outputs": [
    {
     "name": "stdout",
     "output_type": "stream",
     "text": [
      "[0]\ttrain-mlogloss:1.05293\ttest-mlogloss:1.05403\n",
      "Multiple eval metrics have been passed: 'test-mlogloss' will be used for early stopping.\n",
      "\n",
      "Will train until test-mlogloss hasn't improved in 50 rounds.\n",
      "[20]\ttrain-mlogloss:0.722808\ttest-mlogloss:0.744164\n",
      "[40]\ttrain-mlogloss:0.644361\ttest-mlogloss:0.678602\n",
      "[60]\ttrain-mlogloss:0.607102\ttest-mlogloss:0.649383\n",
      "[80]\ttrain-mlogloss:0.582912\ttest-mlogloss:0.63427\n",
      "[100]\ttrain-mlogloss:0.564803\ttest-mlogloss:0.624435\n",
      "[120]\ttrain-mlogloss:0.551086\ttest-mlogloss:0.618704\n",
      "[140]\ttrain-mlogloss:0.538664\ttest-mlogloss:0.61569\n",
      "[160]\ttrain-mlogloss:0.527316\ttest-mlogloss:0.611495\n",
      "[180]\ttrain-mlogloss:0.516335\ttest-mlogloss:0.608638\n",
      "[200]\ttrain-mlogloss:0.507479\ttest-mlogloss:0.608236\n",
      "[220]\ttrain-mlogloss:0.499008\ttest-mlogloss:0.607149\n",
      "[240]\ttrain-mlogloss:0.491233\ttest-mlogloss:0.607381\n",
      "[260]\ttrain-mlogloss:0.482921\ttest-mlogloss:0.606952\n",
      "[280]\ttrain-mlogloss:0.474688\ttest-mlogloss:0.605663\n",
      "[300]\ttrain-mlogloss:0.467018\ttest-mlogloss:0.605555\n",
      "[320]\ttrain-mlogloss:0.45937\ttest-mlogloss:0.605275\n",
      "[340]\ttrain-mlogloss:0.452999\ttest-mlogloss:0.605833\n",
      "[360]\ttrain-mlogloss:0.446989\ttest-mlogloss:0.606234\n",
      "Stopping. Best iteration:\n",
      "[311]\ttrain-mlogloss:0.462492\ttest-mlogloss:0.604562\n",
      "\n"
     ]
    },
    {
     "ename": "ValueError",
     "evalue": "not enough values to unpack (expected 3, got 2)",
     "output_type": "error",
     "traceback": [
      "\u001b[1;31m---------------------------------------------------------------------------\u001b[0m",
      "\u001b[1;31mValueError\u001b[0m                                Traceback (most recent call last)",
      "\u001b[1;32m<ipython-input-45-f64524275612>\u001b[0m in \u001b[0;36m<module>\u001b[1;34m()\u001b[0m\n\u001b[0;32m      6\u001b[0m     \u001b[0mdev_X\u001b[0m\u001b[1;33m,\u001b[0m \u001b[0mval_X\u001b[0m \u001b[1;33m=\u001b[0m\u001b[0mX\u001b[0m\u001b[1;33m[\u001b[0m\u001b[0mnumerical\u001b[0m\u001b[1;33m]\u001b[0m\u001b[1;33m.\u001b[0m\u001b[0miloc\u001b[0m\u001b[1;33m[\u001b[0m\u001b[0mdev_index\u001b[0m\u001b[1;33m]\u001b[0m\u001b[1;33m,\u001b[0m \u001b[0mX\u001b[0m\u001b[1;33m[\u001b[0m\u001b[0mnumerical\u001b[0m\u001b[1;33m]\u001b[0m\u001b[1;33m.\u001b[0m\u001b[0miloc\u001b[0m\u001b[1;33m[\u001b[0m\u001b[0mval_index\u001b[0m\u001b[1;33m]\u001b[0m\u001b[1;33m\u001b[0m\u001b[0m\n\u001b[0;32m      7\u001b[0m     \u001b[0mdev_y\u001b[0m\u001b[1;33m,\u001b[0m \u001b[0mval_y\u001b[0m \u001b[1;33m=\u001b[0m \u001b[0my\u001b[0m\u001b[1;33m[\u001b[0m\u001b[0mdev_index\u001b[0m\u001b[1;33m]\u001b[0m\u001b[1;33m,\u001b[0m \u001b[0my\u001b[0m\u001b[1;33m[\u001b[0m\u001b[0mval_index\u001b[0m\u001b[1;33m]\u001b[0m\u001b[1;33m\u001b[0m\u001b[0m\n\u001b[1;32m----> 8\u001b[1;33m     \u001b[0mpred_val_y\u001b[0m\u001b[1;33m,\u001b[0m \u001b[0mpred_test_y\u001b[0m\u001b[1;33m,\u001b[0m \u001b[0mmodel\u001b[0m \u001b[1;33m=\u001b[0m \u001b[0mrunxgb\u001b[0m\u001b[1;33m(\u001b[0m\u001b[0mdev_X\u001b[0m\u001b[1;33m,\u001b[0m \u001b[0mdev_y\u001b[0m\u001b[1;33m,\u001b[0m \u001b[0mval_X\u001b[0m\u001b[1;33m,\u001b[0m \u001b[0mval_y\u001b[0m\u001b[1;33m,\u001b[0m \u001b[0mseed_val\u001b[0m\u001b[1;33m=\u001b[0m\u001b[1;36m0\u001b[0m\u001b[1;33m)\u001b[0m\u001b[1;33m\u001b[0m\u001b[0m\n\u001b[0m\u001b[0;32m      9\u001b[0m     \u001b[0mpred_full_test\u001b[0m \u001b[1;33m=\u001b[0m \u001b[0mpred_full_test\u001b[0m \u001b[1;33m+\u001b[0m \u001b[0mpred_test_y\u001b[0m\u001b[1;33m\u001b[0m\u001b[0m\n\u001b[0;32m     10\u001b[0m     \u001b[0mpred_train\u001b[0m\u001b[1;33m[\u001b[0m\u001b[0mval_index\u001b[0m\u001b[1;33m,\u001b[0m\u001b[1;33m:\u001b[0m\u001b[1;33m]\u001b[0m \u001b[1;33m=\u001b[0m \u001b[0mpred_val_y\u001b[0m\u001b[1;33m\u001b[0m\u001b[0m\n",
      "\u001b[1;31mValueError\u001b[0m: not enough values to unpack (expected 3, got 2)"
     ]
    }
   ],
   "source": [
    "kf = KFold(n_splits=5, shuffle=True, random_state=2017)\n",
    "cv_scores=[]\n",
    "pred_full_test=0\n",
    "pred_train= np.zeros([X[numerical].shape[0], 3])\n",
    "for dev_index, val_index in kf.split(X[numerical]):\n",
    "    dev_X, val_X =X[numerical].iloc[dev_index], X[numerical].iloc[val_index]\n",
    "    dev_y, val_y = y[dev_index], y[val_index]\n",
    "    pred_val_y, pred_test_y, model = runxgb(dev_X, dev_y, val_X, val_y, test_X, seed_val=0)\n",
    "    pred_full_test = pred_full_test + pred_test_y\n",
    "    pred_train[val_index,:] = pred_val_y\n",
    "    cv_scores.append(metrics.log_loss(val_y, pred_val_y))\n",
    "print('cv scores:', cv_scores)"
   ]
  },
  {
   "cell_type": "code",
   "execution_count": 47,
   "metadata": {},
   "outputs": [
    {
     "name": "stdout",
     "output_type": "stream",
     "text": [
      "[0]\ttrain-mlogloss:1.05928\ttest-mlogloss:1.06072\n",
      "Multiple eval metrics have been passed: 'test-mlogloss' will be used for early stopping.\n",
      "\n",
      "Will train until test-mlogloss hasn't improved in 50 rounds.\n",
      "[20]\ttrain-mlogloss:0.727864\ttest-mlogloss:0.74847\n",
      "[40]\ttrain-mlogloss:0.648713\ttest-mlogloss:0.680764\n",
      "[60]\ttrain-mlogloss:0.609257\ttest-mlogloss:0.651225\n",
      "[80]\ttrain-mlogloss:0.583889\ttest-mlogloss:0.632079\n",
      "[100]\ttrain-mlogloss:0.566221\ttest-mlogloss:0.623439\n",
      "[120]\ttrain-mlogloss:0.550558\ttest-mlogloss:0.616595\n",
      "[140]\ttrain-mlogloss:0.53796\ttest-mlogloss:0.611757\n",
      "[160]\ttrain-mlogloss:0.525696\ttest-mlogloss:0.606575\n",
      "[180]\ttrain-mlogloss:0.515006\ttest-mlogloss:0.604268\n",
      "[200]\ttrain-mlogloss:0.505075\ttest-mlogloss:0.601115\n",
      "[220]\ttrain-mlogloss:0.496212\ttest-mlogloss:0.598602\n",
      "[240]\ttrain-mlogloss:0.486929\ttest-mlogloss:0.597378\n",
      "[260]\ttrain-mlogloss:0.479183\ttest-mlogloss:0.597584\n",
      "[280]\ttrain-mlogloss:0.47065\ttest-mlogloss:0.595934\n",
      "[300]\ttrain-mlogloss:0.463541\ttest-mlogloss:0.593973\n",
      "[320]\ttrain-mlogloss:0.456077\ttest-mlogloss:0.592533\n",
      "[340]\ttrain-mlogloss:0.448853\ttest-mlogloss:0.592068\n",
      "[360]\ttrain-mlogloss:0.442209\ttest-mlogloss:0.592159\n",
      "[380]\ttrain-mlogloss:0.435581\ttest-mlogloss:0.592501\n",
      "[400]\ttrain-mlogloss:0.429124\ttest-mlogloss:0.592307\n",
      "Stopping. Best iteration:\n",
      "[354]\ttrain-mlogloss:0.44393\ttest-mlogloss:0.591678\n",
      "\n"
     ]
    },
    {
     "data": {
      "text/plain": [
       "(array([[ 0.00173616,  0.89682627,  0.10143755],\n",
       "        [ 0.0050428 ,  0.93472373,  0.06023343],\n",
       "        [ 0.00453637,  0.83582914,  0.15963446],\n",
       "        ..., \n",
       "        [ 0.01395703,  0.02031825,  0.96572465],\n",
       "        [ 0.00551128,  0.30730268,  0.687186  ],\n",
       "        [ 0.05719016,  0.6436826 ,  0.29912722]], dtype=float32),\n",
       " <xgboost.core.Booster at 0x26eb0ff6400>)"
      ]
     },
     "execution_count": 47,
     "metadata": {},
     "output_type": "execute_result"
    }
   ],
   "source": [
    "runxgb(X_train[numerical], y_train, X_test[numerical], y_test, seed_val=0)"
   ]
  },
  {
   "cell_type": "markdown",
   "metadata": {},
   "source": [
    "So, with only the non-text based features we obtain a mean log loss of .42 for the training set and .59 for the test set."
   ]
  },
  {
   "cell_type": "code",
   "execution_count": 51,
   "metadata": {},
   "outputs": [
    {
     "ename": "NameError",
     "evalue": "name 'model' is not defined",
     "output_type": "error",
     "traceback": [
      "\u001b[1;31m---------------------------------------------------------------------------\u001b[0m",
      "\u001b[1;31mNameError\u001b[0m                                 Traceback (most recent call last)",
      "\u001b[1;32m<ipython-input-51-e3fbd55dbd0d>\u001b[0m in \u001b[0;36m<module>\u001b[1;34m()\u001b[0m\n\u001b[0;32m      1\u001b[0m \u001b[1;31m# Plot the feature importance\u001b[0m\u001b[1;33m\u001b[0m\u001b[1;33m\u001b[0m\u001b[0m\n\u001b[0;32m      2\u001b[0m \u001b[0mfig\u001b[0m\u001b[1;33m,\u001b[0m \u001b[0max\u001b[0m \u001b[1;33m=\u001b[0m \u001b[0mplt\u001b[0m\u001b[1;33m.\u001b[0m\u001b[0msubplots\u001b[0m\u001b[1;33m(\u001b[0m\u001b[0mfigsize\u001b[0m\u001b[1;33m=\u001b[0m\u001b[1;33m(\u001b[0m\u001b[1;36m12\u001b[0m\u001b[1;33m,\u001b[0m\u001b[1;36m12\u001b[0m\u001b[1;33m)\u001b[0m\u001b[1;33m)\u001b[0m\u001b[1;33m\u001b[0m\u001b[0m\n\u001b[1;32m----> 3\u001b[1;33m \u001b[0mxgb\u001b[0m\u001b[1;33m.\u001b[0m\u001b[0mplot_importance\u001b[0m\u001b[1;33m(\u001b[0m\u001b[0mmodel\u001b[0m\u001b[1;33m,\u001b[0m\u001b[0mheight\u001b[0m\u001b[1;33m=\u001b[0m\u001b[1;36m.8\u001b[0m\u001b[1;33m,\u001b[0m \u001b[0max\u001b[0m\u001b[1;33m=\u001b[0m\u001b[0max\u001b[0m\u001b[1;33m)\u001b[0m\u001b[1;33m\u001b[0m\u001b[0m\n\u001b[0m",
      "\u001b[1;31mNameError\u001b[0m: name 'model' is not defined"
     ]
    },
    {
     "data": {
      "image/png": "[encoded data removed]",
      "text/plain": [
       "<matplotlib.figure.Figure at 0x26eb0fee6d8>"
      ]
     },
     "metadata": {},
     "output_type": "display_data"
    }
   ],
   "source": [
    "# Plot the feature importance\n",
    "fig, ax = plt.subplots(figsize=(12,12))\n",
    "xgb.plot_importance(model,height=.8, ax=ax)"
   ]
  },
  {
   "cell_type": "markdown",
   "metadata": {},
   "source": [
    "## Text Based Attribute:\n"
   ]
  },
  {
   "cell_type": "code",
   "execution_count": 55,
   "metadata": {
    "collapsed": true
   },
   "outputs": [],
   "source": [
    "don = trump[trump['source']=='Twitter for Android']"
   ]
  },
  {
   "cell_type": "code",
   "execution_count": 57,
   "metadata": {},
   "outputs": [
    {
     "name": "stderr",
     "output_type": "stream",
     "text": [
      "C:\\Users\\bobbyd\\Anaconda2\\envs\\neural_net\\lib\\site-packages\\ipykernel_launcher.py:9: SettingWithCopyWarning: \n",
      "A value is trying to be set on a copy of a slice from a DataFrame.\n",
      "Try using .loc[row_indexer,col_indexer] = value instead\n",
      "\n",
      "See the caveats in the documentation: http://pandas.pydata.org/pandas-docs/stable/indexing.html#indexing-view-versus-copy\n",
      "  if __name__ == '__main__':\n"
     ]
    }
   ],
   "source": [
    "analyser = SentimentIntensityAnalyzer()\n",
    "\n",
    "com=[]\n",
    "for idx, text in enumerate(trump.text):\n",
    "    snt = analyser.polarity_scores(text)\n",
    "    com.append(snt['compound'])\n",
    "    \n",
    "\n",
    "trump['com']=com"
   ]
  },
  {
   "cell_type": "code",
   "execution_count": 58,
   "metadata": {},
   "outputs": [
    {
     "data": {
      "text/html": [
       "<div>\n",
       "<style>\n",
       "    .dataframe thead tr:only-child th {\n",
       "        text-align: right;\n",
       "    }\n",
       "\n",
       "    .dataframe thead th {\n",
       "        text-align: left;\n",
       "    }\n",
       "\n",
       "    .dataframe tbody tr th {\n",
       "        vertical-align: top;\n",
       "    }\n",
       "</style>\n",
       "<table border=\"1\" class=\"dataframe\">\n",
       "  <thead>\n",
       "    <tr style=\"text-align: right;\">\n",
       "      <th></th>\n",
       "      <th>favorite_count</th>\n",
       "      <th>is_retweet</th>\n",
       "      <th>retweet_count</th>\n",
       "      <th>source</th>\n",
       "      <th>text</th>\n",
       "      <th>hours</th>\n",
       "      <th>weekday</th>\n",
       "      <th>num_words</th>\n",
       "      <th>num_unique_words</th>\n",
       "      <th>num_char</th>\n",
       "      <th>num_stops</th>\n",
       "      <th>num_punc</th>\n",
       "      <th>num_upper</th>\n",
       "      <th>num_title</th>\n",
       "      <th>com</th>\n",
       "    </tr>\n",
       "    <tr>\n",
       "      <th>created_at</th>\n",
       "      <th></th>\n",
       "      <th></th>\n",
       "      <th></th>\n",
       "      <th></th>\n",
       "      <th></th>\n",
       "      <th></th>\n",
       "      <th></th>\n",
       "      <th></th>\n",
       "      <th></th>\n",
       "      <th></th>\n",
       "      <th></th>\n",
       "      <th></th>\n",
       "      <th></th>\n",
       "      <th></th>\n",
       "      <th></th>\n",
       "    </tr>\n",
       "  </thead>\n",
       "  <tbody>\n",
       "    <tr>\n",
       "      <th>2016-01-01 00:44:14</th>\n",
       "      <td>6735</td>\n",
       "      <td>0</td>\n",
       "      <td>2108</td>\n",
       "      <td>Twitter for Android</td>\n",
       "      <td>I will be on  live,  with members of my family...</td>\n",
       "      <td>0</td>\n",
       "      <td>Friday</td>\n",
       "      <td>25</td>\n",
       "      <td>24</td>\n",
       "      <td>4.804021</td>\n",
       "      <td>12</td>\n",
       "      <td>1.945910</td>\n",
       "      <td>6</td>\n",
       "      <td>5</td>\n",
       "      <td>0.7519</td>\n",
       "    </tr>\n",
       "    <tr>\n",
       "      <th>2016-01-01 06:08:06</th>\n",
       "      <td>7490</td>\n",
       "      <td>0</td>\n",
       "      <td>2721</td>\n",
       "      <td>Twitter for Android</td>\n",
       "      <td>\" Hillary said she was in a \"Fog of War\" as ex...</td>\n",
       "      <td>6</td>\n",
       "      <td>Friday</td>\n",
       "      <td>25</td>\n",
       "      <td>24</td>\n",
       "      <td>4.828314</td>\n",
       "      <td>11</td>\n",
       "      <td>1.945910</td>\n",
       "      <td>2</td>\n",
       "      <td>7</td>\n",
       "      <td>-0.8478</td>\n",
       "    </tr>\n",
       "    <tr>\n",
       "      <th>2016-01-01 21:29:56</th>\n",
       "      <td>3330</td>\n",
       "      <td>0</td>\n",
       "      <td>933</td>\n",
       "      <td>Twitter for Android</td>\n",
       "      <td>\"   they're spending millions but you're still...</td>\n",
       "      <td>21</td>\n",
       "      <td>Friday</td>\n",
       "      <td>14</td>\n",
       "      <td>14</td>\n",
       "      <td>4.356709</td>\n",
       "      <td>2</td>\n",
       "      <td>1.609438</td>\n",
       "      <td>0</td>\n",
       "      <td>2</td>\n",
       "      <td>0.7351</td>\n",
       "    </tr>\n",
       "    <tr>\n",
       "      <th>2016-01-01 23:00:09</th>\n",
       "      <td>8495</td>\n",
       "      <td>0</td>\n",
       "      <td>2642</td>\n",
       "      <td>Twitter for Android</td>\n",
       "      <td>Well, the year has officially begun. I have ma...</td>\n",
       "      <td>23</td>\n",
       "      <td>Friday</td>\n",
       "      <td>27</td>\n",
       "      <td>27</td>\n",
       "      <td>4.934474</td>\n",
       "      <td>14</td>\n",
       "      <td>1.098612</td>\n",
       "      <td>1</td>\n",
       "      <td>2</td>\n",
       "      <td>0.6325</td>\n",
       "    </tr>\n",
       "    <tr>\n",
       "      <th>2016-01-01 23:02:05</th>\n",
       "      <td>2780</td>\n",
       "      <td>0</td>\n",
       "      <td>654</td>\n",
       "      <td>Twitter for Android</td>\n",
       "      <td>\"  we love u to Trump Family. God bless you.\"</td>\n",
       "      <td>23</td>\n",
       "      <td>Friday</td>\n",
       "      <td>10</td>\n",
       "      <td>10</td>\n",
       "      <td>3.806662</td>\n",
       "      <td>2</td>\n",
       "      <td>1.386294</td>\n",
       "      <td>0</td>\n",
       "      <td>3</td>\n",
       "      <td>0.8442</td>\n",
       "    </tr>\n",
       "  </tbody>\n",
       "</table>\n",
       "</div>"
      ],
      "text/plain": [
       "                     favorite_count  is_retweet  retweet_count  \\\n",
       "created_at                                                       \n",
       "2016-01-01 00:44:14            6735           0           2108   \n",
       "2016-01-01 06:08:06            7490           0           2721   \n",
       "2016-01-01 21:29:56            3330           0            933   \n",
       "2016-01-01 23:00:09            8495           0           2642   \n",
       "2016-01-01 23:02:05            2780           0            654   \n",
       "\n",
       "                                  source  \\\n",
       "created_at                                 \n",
       "2016-01-01 00:44:14  Twitter for Android   \n",
       "2016-01-01 06:08:06  Twitter for Android   \n",
       "2016-01-01 21:29:56  Twitter for Android   \n",
       "2016-01-01 23:00:09  Twitter for Android   \n",
       "2016-01-01 23:02:05  Twitter for Android   \n",
       "\n",
       "                                                                  text  hours  \\\n",
       "created_at                                                                      \n",
       "2016-01-01 00:44:14  I will be on  live,  with members of my family...      0   \n",
       "2016-01-01 06:08:06  \" Hillary said she was in a \"Fog of War\" as ex...      6   \n",
       "2016-01-01 21:29:56  \"   they're spending millions but you're still...     21   \n",
       "2016-01-01 23:00:09  Well, the year has officially begun. I have ma...     23   \n",
       "2016-01-01 23:02:05      \"  we love u to Trump Family. God bless you.\"     23   \n",
       "\n",
       "                    weekday  num_words  num_unique_words  num_char  num_stops  \\\n",
       "created_at                                                                      \n",
       "2016-01-01 00:44:14  Friday         25                24  4.804021         12   \n",
       "2016-01-01 06:08:06  Friday         25                24  4.828314         11   \n",
       "2016-01-01 21:29:56  Friday         14                14  4.356709          2   \n",
       "2016-01-01 23:00:09  Friday         27                27  4.934474         14   \n",
       "2016-01-01 23:02:05  Friday         10                10  3.806662          2   \n",
       "\n",
       "                     num_punc  num_upper  num_title     com  \n",
       "created_at                                                   \n",
       "2016-01-01 00:44:14  1.945910          6          5  0.7519  \n",
       "2016-01-01 06:08:06  1.945910          2          7 -0.8478  \n",
       "2016-01-01 21:29:56  1.609438          0          2  0.7351  \n",
       "2016-01-01 23:00:09  1.098612          1          2  0.6325  \n",
       "2016-01-01 23:02:05  1.386294          0          3  0.8442  "
      ]
     },
     "execution_count": 58,
     "metadata": {},
     "output_type": "execute_result"
    }
   ],
   "source": [
    "don.head()"
   ]
  },
  {
   "cell_type": "markdown",
   "metadata": {},
   "source": [
    "One of the first attributes that is important , to any Presidential election, is the overall sentiment of their tweets. The polarizing nature of the 2016 Election, along with Donald Trump's incessant use of Twitter, only makes this attribute more interesting. Python's NLTK VaderSentiment package attempts to interpret the sentiment from any blurb of text."
   ]
  },
  {
   "cell_type": "code",
   "execution_count": 35,
   "metadata": {},
   "outputs": [
    {
     "name": "stderr",
     "output_type": "stream",
     "text": [
      "C:\\Users\\bobbyd\\Anaconda2\\envs\\neural_net\\lib\\site-packages\\ipykernel_launcher.py:15: SettingWithCopyWarning: \n",
      "A value is trying to be set on a copy of a slice from a DataFrame.\n",
      "Try using .loc[row_indexer,col_indexer] = value instead\n",
      "\n",
      "See the caveats in the documentation: http://pandas.pydata.org/pandas-docs/stable/indexing.html#indexing-view-versus-copy\n",
      "  from ipykernel import kernelapp as app\n"
     ]
    }
   ],
   "source": [
    "\n",
    "#instantiate vadersentiment and analyze tweets for negative, neutral, or positive sentiment.\n",
    "#Calculate overall sentiment for tweet\n",
    "analyser = SentimentIntensityAnalyzer()\n",
    "\n",
    "neg=[]\n",
    "neu=[]\n",
    "pos=[]\n",
    "com=[]\n",
    "for idx, text in enumerate(X_train.text):\n",
    "    snt = analyser.polarity_scores(text)\n",
    "    com.append(snt['compound'])\n",
    "    \n",
    "\n",
    "X_train['com']=com"
   ]
  },
  {
   "cell_type": "code",
   "execution_count": 36,
   "metadata": {},
   "outputs": [
    {
     "name": "stderr",
     "output_type": "stream",
     "text": [
      "C:\\Users\\bobbyd\\Anaconda2\\envs\\neural_net\\lib\\site-packages\\ipykernel_launcher.py:12: SettingWithCopyWarning: \n",
      "A value is trying to be set on a copy of a slice from a DataFrame.\n",
      "Try using .loc[row_indexer,col_indexer] = value instead\n",
      "\n",
      "See the caveats in the documentation: http://pandas.pydata.org/pandas-docs/stable/indexing.html#indexing-view-versus-copy\n",
      "  if sys.path[0] == '':\n"
     ]
    }
   ],
   "source": [
    "analyser = SentimentIntensityAnalyzer()\n",
    "\n",
    "neg=[]\n",
    "neu=[]\n",
    "pos=[]\n",
    "com=[]\n",
    "for idx, text in enumerate(X_test.text):\n",
    "    snt = analyser.polarity_scores(text)\n",
    "    com.append(snt['compound'])\n",
    "    \n",
    "\n",
    "X_test['com']=com"
   ]
  },
  {
   "cell_type": "code",
   "execution_count": 37,
   "metadata": {},
   "outputs": [
    {
     "data": {
      "text/plain": [
       "created_at\n",
       "2017-01-08 16:36:46    0.7495\n",
       "2016-02-10 15:22:51    0.9229\n",
       "2016-07-30 14:19:56    0.3595\n",
       "2016-09-13 19:40:53    0.4199\n",
       "2017-07-28 16:13:21    0.7940\n",
       "2017-03-20 17:15:18    0.9109\n",
       "2016-01-26 18:05:21    0.0000\n",
       "2017-02-06 16:32:24   -0.7712\n",
       "2016-07-02 21:13:02   -0.5974\n",
       "2017-06-06 10:41:25    0.0000\n",
       "Name: com, dtype: float64"
      ]
     },
     "execution_count": 37,
     "metadata": {},
     "output_type": "execute_result"
    }
   ],
   "source": [
    "X_train['com'][0:10]"
   ]
  },
  {
   "cell_type": "code",
   "execution_count": 38,
   "metadata": {},
   "outputs": [
    {
     "data": {
      "text/plain": [
       "created_at\n",
       "2016-10-22 11:35:18    0.5859\n",
       "2016-09-06 20:02:26    0.7430\n",
       "2017-06-28 21:15:37    0.0000\n",
       "2017-04-20 13:48:14   -0.7506\n",
       "2017-09-03 16:14:31    0.2960\n",
       "2016-12-10 11:19:24    0.7034\n",
       "2017-02-17 11:43:10    0.5710\n",
       "2017-05-30 13:59:28   -0.3016\n",
       "2016-10-20 01:28:08   -0.8126\n",
       "2016-01-21 23:29:43    0.4199\n",
       "Name: com, dtype: float64"
      ]
     },
     "execution_count": 38,
     "metadata": {},
     "output_type": "execute_result"
    }
   ],
   "source": [
    "X_test['com'][0:10]"
   ]
  },
  {
   "cell_type": "code",
   "execution_count": 39,
   "metadata": {},
   "outputs": [
    {
     "data": {
      "text/html": [
       "<div>\n",
       "<style>\n",
       "    .dataframe thead tr:only-child th {\n",
       "        text-align: right;\n",
       "    }\n",
       "\n",
       "    .dataframe thead th {\n",
       "        text-align: left;\n",
       "    }\n",
       "\n",
       "    .dataframe tbody tr th {\n",
       "        vertical-align: top;\n",
       "    }\n",
       "</style>\n",
       "<table border=\"1\" class=\"dataframe\">\n",
       "  <thead>\n",
       "    <tr style=\"text-align: right;\">\n",
       "      <th></th>\n",
       "      <th>favorite_count</th>\n",
       "      <th>is_retweet</th>\n",
       "      <th>retweet_count</th>\n",
       "      <th>source</th>\n",
       "      <th>text</th>\n",
       "      <th>hours</th>\n",
       "      <th>weekday</th>\n",
       "      <th>num_words</th>\n",
       "      <th>num_unique_words</th>\n",
       "      <th>num_char</th>\n",
       "      <th>num_stops</th>\n",
       "      <th>num_punc</th>\n",
       "      <th>num_upper</th>\n",
       "      <th>num_title</th>\n",
       "      <th>com</th>\n",
       "    </tr>\n",
       "    <tr>\n",
       "      <th>created_at</th>\n",
       "      <th></th>\n",
       "      <th></th>\n",
       "      <th></th>\n",
       "      <th></th>\n",
       "      <th></th>\n",
       "      <th></th>\n",
       "      <th></th>\n",
       "      <th></th>\n",
       "      <th></th>\n",
       "      <th></th>\n",
       "      <th></th>\n",
       "      <th></th>\n",
       "      <th></th>\n",
       "      <th></th>\n",
       "      <th></th>\n",
       "    </tr>\n",
       "  </thead>\n",
       "  <tbody>\n",
       "    <tr>\n",
       "      <th>2017-01-08 16:36:46</th>\n",
       "      <td>28740</td>\n",
       "      <td>0</td>\n",
       "      <td>5437</td>\n",
       "      <td>Twitter for Android</td>\n",
       "      <td>\" Welcome to President and Mrs. Bush.  \\n Very...</td>\n",
       "      <td>16</td>\n",
       "      <td>Sunday</td>\n",
       "      <td>9</td>\n",
       "      <td>9</td>\n",
       "      <td>3.931826</td>\n",
       "      <td>3</td>\n",
       "      <td>1.386294</td>\n",
       "      <td>0</td>\n",
       "      <td>5</td>\n",
       "      <td>0.7495</td>\n",
       "    </tr>\n",
       "    <tr>\n",
       "      <th>2016-02-10 15:22:51</th>\n",
       "      <td>13599</td>\n",
       "      <td>0</td>\n",
       "      <td>3651</td>\n",
       "      <td>Twitter for Android</td>\n",
       "      <td>So funny, Jeb Bush called me a \"highly gifted ...</td>\n",
       "      <td>15</td>\n",
       "      <td>Wednesday</td>\n",
       "      <td>21</td>\n",
       "      <td>19</td>\n",
       "      <td>4.736198</td>\n",
       "      <td>9</td>\n",
       "      <td>1.609438</td>\n",
       "      <td>1</td>\n",
       "      <td>4</td>\n",
       "      <td>0.9229</td>\n",
       "    </tr>\n",
       "    <tr>\n",
       "      <th>2016-07-30 14:19:56</th>\n",
       "      <td>12800</td>\n",
       "      <td>0</td>\n",
       "      <td>4045</td>\n",
       "      <td>Twitter for iPhone</td>\n",
       "      <td>While I am in OH  PA - you can also join  in N...</td>\n",
       "      <td>14</td>\n",
       "      <td>Saturday</td>\n",
       "      <td>18</td>\n",
       "      <td>17</td>\n",
       "      <td>4.406719</td>\n",
       "      <td>8</td>\n",
       "      <td>1.386294</td>\n",
       "      <td>3</td>\n",
       "      <td>7</td>\n",
       "      <td>0.3595</td>\n",
       "    </tr>\n",
       "    <tr>\n",
       "      <th>2016-09-13 19:40:53</th>\n",
       "      <td>11283</td>\n",
       "      <td>0</td>\n",
       "      <td>2851</td>\n",
       "      <td>Twitter for iPhone</td>\n",
       "      <td>Thank you Clive, Iowa!\\n</td>\n",
       "      <td>19</td>\n",
       "      <td>Tuesday</td>\n",
       "      <td>4</td>\n",
       "      <td>4</td>\n",
       "      <td>3.135494</td>\n",
       "      <td>1</td>\n",
       "      <td>0.693147</td>\n",
       "      <td>0</td>\n",
       "      <td>3</td>\n",
       "      <td>0.4199</td>\n",
       "    </tr>\n",
       "    <tr>\n",
       "      <th>2017-07-28 16:13:21</th>\n",
       "      <td>62365</td>\n",
       "      <td>0</td>\n",
       "      <td>13971</td>\n",
       "      <td>Twitter for iPhone</td>\n",
       "      <td>We will always ENFORCE our laws, PROTECT our b...</td>\n",
       "      <td>16</td>\n",
       "      <td>Friday</td>\n",
       "      <td>18</td>\n",
       "      <td>16</td>\n",
       "      <td>4.875197</td>\n",
       "      <td>6</td>\n",
       "      <td>1.945910</td>\n",
       "      <td>5</td>\n",
       "      <td>3</td>\n",
       "      <td>0.7940</td>\n",
       "    </tr>\n",
       "  </tbody>\n",
       "</table>\n",
       "</div>"
      ],
      "text/plain": [
       "                     favorite_count  is_retweet  retweet_count  \\\n",
       "created_at                                                       \n",
       "2017-01-08 16:36:46           28740           0           5437   \n",
       "2016-02-10 15:22:51           13599           0           3651   \n",
       "2016-07-30 14:19:56           12800           0           4045   \n",
       "2016-09-13 19:40:53           11283           0           2851   \n",
       "2017-07-28 16:13:21           62365           0          13971   \n",
       "\n",
       "                                  source  \\\n",
       "created_at                                 \n",
       "2017-01-08 16:36:46  Twitter for Android   \n",
       "2016-02-10 15:22:51  Twitter for Android   \n",
       "2016-07-30 14:19:56   Twitter for iPhone   \n",
       "2016-09-13 19:40:53   Twitter for iPhone   \n",
       "2017-07-28 16:13:21   Twitter for iPhone   \n",
       "\n",
       "                                                                  text  hours  \\\n",
       "created_at                                                                      \n",
       "2017-01-08 16:36:46  \" Welcome to President and Mrs. Bush.  \\n Very...     16   \n",
       "2016-02-10 15:22:51  So funny, Jeb Bush called me a \"highly gifted ...     15   \n",
       "2016-07-30 14:19:56  While I am in OH  PA - you can also join  in N...     14   \n",
       "2016-09-13 19:40:53                           Thank you Clive, Iowa!\\n     19   \n",
       "2017-07-28 16:13:21  We will always ENFORCE our laws, PROTECT our b...     16   \n",
       "\n",
       "                       weekday  num_words  num_unique_words  num_char  \\\n",
       "created_at                                                              \n",
       "2017-01-08 16:36:46     Sunday          9                 9  3.931826   \n",
       "2016-02-10 15:22:51  Wednesday         21                19  4.736198   \n",
       "2016-07-30 14:19:56   Saturday         18                17  4.406719   \n",
       "2016-09-13 19:40:53    Tuesday          4                 4  3.135494   \n",
       "2017-07-28 16:13:21     Friday         18                16  4.875197   \n",
       "\n",
       "                     num_stops  num_punc  num_upper  num_title     com  \n",
       "created_at                                                              \n",
       "2017-01-08 16:36:46          3  1.386294          0          5  0.7495  \n",
       "2016-02-10 15:22:51          9  1.609438          1          4  0.9229  \n",
       "2016-07-30 14:19:56          8  1.386294          3          7  0.3595  \n",
       "2016-09-13 19:40:53          1  0.693147          0          3  0.4199  \n",
       "2017-07-28 16:13:21          6  1.945910          5          3  0.7940  "
      ]
     },
     "execution_count": 39,
     "metadata": {},
     "output_type": "execute_result"
    }
   ],
   "source": [
    "X_train.head()"
   ]
  },
  {
   "cell_type": "markdown",
   "metadata": {},
   "source": [
    "Obviously 0 compound score is an overall neutral tweet, positve is positive, and negative is negative."
   ]
  },
  {
   "cell_type": "markdown",
   "metadata": {},
   "source": [
    "## tf-idf"
   ]
  },
  {
   "cell_type": "code",
   "execution_count": 41,
   "metadata": {
    "collapsed": true
   },
   "outputs": [],
   "source": [
    "from sklearn.feature_extraction.text import CountVectorizer\n",
    "\n",
    "count_vect = CountVectorizer(stop_words='english', ngram_range=(1,3))\n",
    "X_train_counts = count_vect.fit_transform(X_train['text'])\n",
    "X_train_counts.shape\n",
    "\n",
    "count_vect.vocabulary_.get(u'algorithm')"
   ]
  },
  {
   "cell_type": "code",
   "execution_count": 60,
   "metadata": {},
   "outputs": [
    {
     "data": {
      "text/plain": [
       "(3986, 57185)"
      ]
     },
     "execution_count": 60,
     "metadata": {},
     "output_type": "execute_result"
    }
   ],
   "source": [
    "from sklearn.feature_extraction.text import TfidfTransformer\n",
    "tf_transformer = TfidfTransformer(use_idf=False).fit(X_train_counts)\n",
    "X_train_tf = tf_transformer.transform(X_train_counts)\n",
    "X_train_tf.shape"
   ]
  },
  {
   "cell_type": "code",
   "execution_count": 61,
   "metadata": {},
   "outputs": [
    {
     "name": "stderr",
     "output_type": "stream",
     "text": [
      "C:\\Users\\bobbyd\\Anaconda2\\envs\\neural_net\\lib\\site-packages\\pandas\\core\\indexes\\range.py:433: RuntimeWarning: Cannot compare type 'Timestamp' with type 'int', sort order is undefined for incomparable objects\n",
      "  return self._int64index.union(other)\n"
     ]
    },
    {
     "ename": "TypeError",
     "evalue": "'NoneType' object is not iterable",
     "output_type": "error",
     "traceback": [
      "\u001b[1;31m---------------------------------------------------------------------------\u001b[0m",
      "\u001b[1;31mTypeError\u001b[0m                                 Traceback (most recent call last)",
      "\u001b[1;32m<ipython-input-61-94099b9288d4>\u001b[0m in \u001b[0;36m<module>\u001b[1;34m()\u001b[0m\n\u001b[0;32m      1\u001b[0m \u001b[0mX_train_df\u001b[0m \u001b[1;33m=\u001b[0m \u001b[0mpd\u001b[0m\u001b[1;33m.\u001b[0m\u001b[0mDataFrame\u001b[0m\u001b[1;33m(\u001b[0m\u001b[0mtf_transformer\u001b[0m\u001b[1;33m.\u001b[0m\u001b[0mtransform\u001b[0m\u001b[1;33m(\u001b[0m\u001b[0mX_train_counts\u001b[0m\u001b[1;33m)\u001b[0m\u001b[1;33m.\u001b[0m\u001b[0mtodense\u001b[0m\u001b[1;33m(\u001b[0m\u001b[1;33m)\u001b[0m\u001b[1;33m,\u001b[0m \u001b[0mcolumns\u001b[0m \u001b[1;33m=\u001b[0m \u001b[0mcount_vect\u001b[0m\u001b[1;33m.\u001b[0m\u001b[0mget_feature_names\u001b[0m\u001b[1;33m(\u001b[0m\u001b[1;33m)\u001b[0m\u001b[1;33m)\u001b[0m\u001b[1;33m\u001b[0m\u001b[0m\n\u001b[1;32m----> 2\u001b[1;33m \u001b[0mX_train_df\u001b[0m \u001b[1;33m=\u001b[0m \u001b[0mpd\u001b[0m\u001b[1;33m.\u001b[0m\u001b[0mconcat\u001b[0m\u001b[1;33m(\u001b[0m\u001b[1;33m[\u001b[0m\u001b[0mX_train_df\u001b[0m\u001b[1;33m,\u001b[0m \u001b[0mX_train\u001b[0m\u001b[1;33m[\u001b[0m\u001b[0mnumerical\u001b[0m\u001b[1;33m]\u001b[0m\u001b[1;33m]\u001b[0m\u001b[1;33m,\u001b[0m \u001b[0maxis\u001b[0m\u001b[1;33m=\u001b[0m\u001b[1;36m1\u001b[0m\u001b[1;33m)\u001b[0m\u001b[1;33m\u001b[0m\u001b[0m\n\u001b[0m\u001b[0;32m      3\u001b[0m \u001b[1;33m\u001b[0m\u001b[0m\n\u001b[0;32m      4\u001b[0m \u001b[0mX_train_df\u001b[0m\u001b[1;33m.\u001b[0m\u001b[0mhead\u001b[0m\u001b[1;33m(\u001b[0m\u001b[1;33m)\u001b[0m\u001b[1;33m\u001b[0m\u001b[0m\n",
      "\u001b[1;32m~\\Anaconda2\\envs\\neural_net\\lib\\site-packages\\pandas\\core\\reshape\\concat.py\u001b[0m in \u001b[0;36mconcat\u001b[1;34m(objs, axis, join, join_axes, ignore_index, keys, levels, names, verify_integrity, copy)\u001b[0m\n\u001b[0;32m    205\u001b[0m                        \u001b[0mverify_integrity\u001b[0m\u001b[1;33m=\u001b[0m\u001b[0mverify_integrity\u001b[0m\u001b[1;33m,\u001b[0m\u001b[1;33m\u001b[0m\u001b[0m\n\u001b[0;32m    206\u001b[0m                        copy=copy)\n\u001b[1;32m--> 207\u001b[1;33m     \u001b[1;32mreturn\u001b[0m \u001b[0mop\u001b[0m\u001b[1;33m.\u001b[0m\u001b[0mget_result\u001b[0m\u001b[1;33m(\u001b[0m\u001b[1;33m)\u001b[0m\u001b[1;33m\u001b[0m\u001b[0m\n\u001b[0m\u001b[0;32m    208\u001b[0m \u001b[1;33m\u001b[0m\u001b[0m\n\u001b[0;32m    209\u001b[0m \u001b[1;33m\u001b[0m\u001b[0m\n",
      "\u001b[1;32m~\\Anaconda2\\envs\\neural_net\\lib\\site-packages\\pandas\\core\\reshape\\concat.py\u001b[0m in \u001b[0;36mget_result\u001b[1;34m(self)\u001b[0m\n\u001b[0;32m    399\u001b[0m                     \u001b[0mobj_labels\u001b[0m \u001b[1;33m=\u001b[0m \u001b[0mmgr\u001b[0m\u001b[1;33m.\u001b[0m\u001b[0maxes\u001b[0m\u001b[1;33m[\u001b[0m\u001b[0max\u001b[0m\u001b[1;33m]\u001b[0m\u001b[1;33m\u001b[0m\u001b[0m\n\u001b[0;32m    400\u001b[0m                     \u001b[1;32mif\u001b[0m \u001b[1;32mnot\u001b[0m \u001b[0mnew_labels\u001b[0m\u001b[1;33m.\u001b[0m\u001b[0mequals\u001b[0m\u001b[1;33m(\u001b[0m\u001b[0mobj_labels\u001b[0m\u001b[1;33m)\u001b[0m\u001b[1;33m:\u001b[0m\u001b[1;33m\u001b[0m\u001b[0m\n\u001b[1;32m--> 401\u001b[1;33m                         \u001b[0mindexers\u001b[0m\u001b[1;33m[\u001b[0m\u001b[0max\u001b[0m\u001b[1;33m]\u001b[0m \u001b[1;33m=\u001b[0m \u001b[0mobj_labels\u001b[0m\u001b[1;33m.\u001b[0m\u001b[0mreindex\u001b[0m\u001b[1;33m(\u001b[0m\u001b[0mnew_labels\u001b[0m\u001b[1;33m)\u001b[0m\u001b[1;33m[\u001b[0m\u001b[1;36m1\u001b[0m\u001b[1;33m]\u001b[0m\u001b[1;33m\u001b[0m\u001b[0m\n\u001b[0m\u001b[0;32m    402\u001b[0m \u001b[1;33m\u001b[0m\u001b[0m\n\u001b[0;32m    403\u001b[0m                 \u001b[0mmgrs_indexers\u001b[0m\u001b[1;33m.\u001b[0m\u001b[0mappend\u001b[0m\u001b[1;33m(\u001b[0m\u001b[1;33m(\u001b[0m\u001b[0mobj\u001b[0m\u001b[1;33m.\u001b[0m\u001b[0m_data\u001b[0m\u001b[1;33m,\u001b[0m \u001b[0mindexers\u001b[0m\u001b[1;33m)\u001b[0m\u001b[1;33m)\u001b[0m\u001b[1;33m\u001b[0m\u001b[0m\n",
      "\u001b[1;32m~\\Anaconda2\\envs\\neural_net\\lib\\site-packages\\pandas\\core\\indexes\\base.py\u001b[0m in \u001b[0;36mreindex\u001b[1;34m(self, target, method, level, limit, tolerance)\u001b[0m\n\u001b[0;32m   2885\u001b[0m                         raise ValueError(\"cannot reindex a non-unique index \"\n\u001b[0;32m   2886\u001b[0m                                          \"with a method or limit\")\n\u001b[1;32m-> 2887\u001b[1;33m                     \u001b[0mindexer\u001b[0m\u001b[1;33m,\u001b[0m \u001b[0mmissing\u001b[0m \u001b[1;33m=\u001b[0m \u001b[0mself\u001b[0m\u001b[1;33m.\u001b[0m\u001b[0mget_indexer_non_unique\u001b[0m\u001b[1;33m(\u001b[0m\u001b[0mtarget\u001b[0m\u001b[1;33m)\u001b[0m\u001b[1;33m\u001b[0m\u001b[0m\n\u001b[0m\u001b[0;32m   2888\u001b[0m \u001b[1;33m\u001b[0m\u001b[0m\n\u001b[0;32m   2889\u001b[0m         \u001b[1;32mif\u001b[0m \u001b[0mpreserve_names\u001b[0m \u001b[1;32mand\u001b[0m \u001b[0mtarget\u001b[0m\u001b[1;33m.\u001b[0m\u001b[0mnlevels\u001b[0m \u001b[1;33m==\u001b[0m \u001b[1;36m1\u001b[0m \u001b[1;32mand\u001b[0m \u001b[0mtarget\u001b[0m\u001b[1;33m.\u001b[0m\u001b[0mname\u001b[0m \u001b[1;33m!=\u001b[0m \u001b[0mself\u001b[0m\u001b[1;33m.\u001b[0m\u001b[0mname\u001b[0m\u001b[1;33m:\u001b[0m\u001b[1;33m\u001b[0m\u001b[0m\n",
      "\u001b[1;32m~\\Anaconda2\\envs\\neural_net\\lib\\site-packages\\pandas\\core\\indexes\\base.py\u001b[0m in \u001b[0;36mget_indexer_non_unique\u001b[1;34m(self, target)\u001b[0m\n\u001b[0;32m   2706\u001b[0m             \u001b[0mtgt_values\u001b[0m \u001b[1;33m=\u001b[0m \u001b[0mtarget\u001b[0m\u001b[1;33m.\u001b[0m\u001b[0m_values\u001b[0m\u001b[1;33m\u001b[0m\u001b[0m\n\u001b[0;32m   2707\u001b[0m \u001b[1;33m\u001b[0m\u001b[0m\n\u001b[1;32m-> 2708\u001b[1;33m         \u001b[0mindexer\u001b[0m\u001b[1;33m,\u001b[0m \u001b[0mmissing\u001b[0m \u001b[1;33m=\u001b[0m \u001b[0mself\u001b[0m\u001b[1;33m.\u001b[0m\u001b[0m_engine\u001b[0m\u001b[1;33m.\u001b[0m\u001b[0mget_indexer_non_unique\u001b[0m\u001b[1;33m(\u001b[0m\u001b[0mtgt_values\u001b[0m\u001b[1;33m)\u001b[0m\u001b[1;33m\u001b[0m\u001b[0m\n\u001b[0m\u001b[0;32m   2709\u001b[0m         \u001b[1;32mreturn\u001b[0m \u001b[0mIndex\u001b[0m\u001b[1;33m(\u001b[0m\u001b[0mindexer\u001b[0m\u001b[1;33m)\u001b[0m\u001b[1;33m,\u001b[0m \u001b[0mmissing\u001b[0m\u001b[1;33m\u001b[0m\u001b[0m\n\u001b[0;32m   2710\u001b[0m \u001b[1;33m\u001b[0m\u001b[0m\n",
      "\u001b[1;32mpandas\\_libs\\index.pyx\u001b[0m in \u001b[0;36mpandas._libs.index.IndexEngine.get_indexer_non_unique (pandas\\_libs\\index.c:7722)\u001b[1;34m()\u001b[0m\n",
      "\u001b[1;31mTypeError\u001b[0m: 'NoneType' object is not iterable"
     ]
    }
   ],
   "source": [
    "X_train_df = pd.DataFrame(tf_transformer.transform(X_train_counts).todense(), columns = count_vect.get_feature_names())\n",
    "X_train_df = pd.concat([X_train_df, X_train[numerical]], axis=1)\n",
    "\n",
    "X_train_df.head()"
   ]
  },
  {
   "cell_type": "code",
   "execution_count": 52,
   "metadata": {
    "collapsed": true
   },
   "outputs": [],
   "source": [
    "X_train_df.fillna(0, inplace=True)"
   ]
  },
  {
   "cell_type": "code",
   "execution_count": 57,
   "metadata": {},
   "outputs": [
    {
     "data": {
      "text/plain": [
       "abandon                             0\n",
       "abandon case                        0\n",
       "abandon case disgraceful            0\n",
       "abandon revolution                  0\n",
       "abandon revolution welcome          0\n",
       "abandoned                           0\n",
       "abandoned supporters                0\n",
       "abandoned supporters endorsing      0\n",
       "abbas                               0\n",
       "abc                                 0\n",
       "abc agreed                          0\n",
       "abc cbs                             0\n",
       "abc cbs washpost                    0\n",
       "abc debate                          0\n",
       "abc debate unethical                0\n",
       "abc dishonesty                      0\n",
       "abc failing                         0\n",
       "abc failing fake                    0\n",
       "abc nbc                             0\n",
       "abc nbc cbs                         0\n",
       "abc nbc containing                  0\n",
       "abc nbc polls                       0\n",
       "abc news                            0\n",
       "abc news debate                     0\n",
       "abc news washington                 0\n",
       "abdeslam                            0\n",
       "abdeslam knew                       0\n",
       "abdeslam knew brussels              0\n",
       "abdul                               0\n",
       "abdul razak                         0\n",
       "                                   ..\n",
       "zero proof                          0\n",
       "zero proof obstruction              0\n",
       "zero quit                           0\n",
       "zero quit spokesmen                 0\n",
       "zero respect                        0\n",
       "zero respect great                  0\n",
       "zero support                        0\n",
       "zero things                         0\n",
       "zero things going                   0\n",
       "zero time                           0\n",
       "zilch                               0\n",
       "zogby                               0\n",
       "zogby poll                          0\n",
       "zogby poll just                     0\n",
       "zogby poll makeamericagreatagain    0\n",
       "zucker                              0\n",
       "zucker failed                       0\n",
       "zucker failed failing               0\n",
       "zuckerman                           0\n",
       "zuckerman desperately               0\n",
       "zuckerman desperately trying        0\n",
       "zuckerman loses                     0\n",
       "zuckerman loses million             0\n",
       "zuckerman owner                     0\n",
       "zuckerman owner worthless           0\n",
       "zuckerman preparing                 0\n",
       "zuckerman preparing close           0\n",
       "élysée                              0\n",
       "élysée palace                       0\n",
       "élysée palace president             0\n",
       "Length: 57195, dtype: int64"
      ]
     },
     "execution_count": 57,
     "metadata": {},
     "output_type": "execute_result"
    }
   ],
   "source": [
    "X_train_df.isnull().sum()"
   ]
  },
  {
   "cell_type": "code",
   "execution_count": 58,
   "metadata": {},
   "outputs": [
    {
     "data": {
      "text/plain": [
       "((7972, 57195), (3986,))"
      ]
     },
     "execution_count": 58,
     "metadata": {},
     "output_type": "execute_result"
    }
   ],
   "source": [
    "X_train_df.shape, y_train.shape"
   ]
  },
  {
   "cell_type": "code",
   "execution_count": 55,
   "metadata": {},
   "outputs": [
    {
     "ename": "ValueError",
     "evalue": "Input contains NaN, infinity or a value too large for dtype('float64').",
     "output_type": "error",
     "traceback": [
      "\u001b[1;31m---------------------------------------------------------------------------\u001b[0m",
      "\u001b[1;31mValueError\u001b[0m                                Traceback (most recent call last)",
      "\u001b[1;32m<ipython-input-55-86d3d45d68a3>\u001b[0m in \u001b[0;36m<module>\u001b[1;34m()\u001b[0m\n\u001b[0;32m      1\u001b[0m \u001b[1;32mfrom\u001b[0m \u001b[0msklearn\u001b[0m\u001b[1;33m.\u001b[0m\u001b[0mnaive_bayes\u001b[0m \u001b[1;32mimport\u001b[0m \u001b[0mMultinomialNB\u001b[0m\u001b[1;33m\u001b[0m\u001b[0m\n\u001b[1;32m----> 2\u001b[1;33m \u001b[0mclf\u001b[0m \u001b[1;33m=\u001b[0m \u001b[0mMultinomialNB\u001b[0m\u001b[1;33m(\u001b[0m\u001b[1;33m)\u001b[0m\u001b[1;33m.\u001b[0m\u001b[0mfit\u001b[0m\u001b[1;33m(\u001b[0m\u001b[0mX_train_df\u001b[0m\u001b[1;33m.\u001b[0m\u001b[0mvalues\u001b[0m\u001b[1;33m,\u001b[0m \u001b[0my_train\u001b[0m\u001b[1;33m)\u001b[0m\u001b[1;33m\u001b[0m\u001b[0m\n\u001b[0m",
      "\u001b[1;32m~\\Anaconda2\\envs\\neural_net\\lib\\site-packages\\sklearn\\naive_bayes.py\u001b[0m in \u001b[0;36mfit\u001b[1;34m(self, X, y, sample_weight)\u001b[0m\n\u001b[0;32m    577\u001b[0m             \u001b[0mReturns\u001b[0m \u001b[0mself\u001b[0m\u001b[1;33m.\u001b[0m\u001b[1;33m\u001b[0m\u001b[0m\n\u001b[0;32m    578\u001b[0m         \"\"\"\n\u001b[1;32m--> 579\u001b[1;33m         \u001b[0mX\u001b[0m\u001b[1;33m,\u001b[0m \u001b[0my\u001b[0m \u001b[1;33m=\u001b[0m \u001b[0mcheck_X_y\u001b[0m\u001b[1;33m(\u001b[0m\u001b[0mX\u001b[0m\u001b[1;33m,\u001b[0m \u001b[0my\u001b[0m\u001b[1;33m,\u001b[0m \u001b[1;34m'csr'\u001b[0m\u001b[1;33m)\u001b[0m\u001b[1;33m\u001b[0m\u001b[0m\n\u001b[0m\u001b[0;32m    580\u001b[0m         \u001b[0m_\u001b[0m\u001b[1;33m,\u001b[0m \u001b[0mn_features\u001b[0m \u001b[1;33m=\u001b[0m \u001b[0mX\u001b[0m\u001b[1;33m.\u001b[0m\u001b[0mshape\u001b[0m\u001b[1;33m\u001b[0m\u001b[0m\n\u001b[0;32m    581\u001b[0m \u001b[1;33m\u001b[0m\u001b[0m\n",
      "\u001b[1;32m~\\Anaconda2\\envs\\neural_net\\lib\\site-packages\\sklearn\\utils\\validation.py\u001b[0m in \u001b[0;36mcheck_X_y\u001b[1;34m(X, y, accept_sparse, dtype, order, copy, force_all_finite, ensure_2d, allow_nd, multi_output, ensure_min_samples, ensure_min_features, y_numeric, warn_on_dtype, estimator)\u001b[0m\n\u001b[0;32m    540\u001b[0m     X = check_array(X, accept_sparse, dtype, order, copy, force_all_finite,\n\u001b[0;32m    541\u001b[0m                     \u001b[0mensure_2d\u001b[0m\u001b[1;33m,\u001b[0m \u001b[0mallow_nd\u001b[0m\u001b[1;33m,\u001b[0m \u001b[0mensure_min_samples\u001b[0m\u001b[1;33m,\u001b[0m\u001b[1;33m\u001b[0m\u001b[0m\n\u001b[1;32m--> 542\u001b[1;33m                     ensure_min_features, warn_on_dtype, estimator)\n\u001b[0m\u001b[0;32m    543\u001b[0m     \u001b[1;32mif\u001b[0m \u001b[0mmulti_output\u001b[0m\u001b[1;33m:\u001b[0m\u001b[1;33m\u001b[0m\u001b[0m\n\u001b[0;32m    544\u001b[0m         y = check_array(y, 'csr', force_all_finite=True, ensure_2d=False,\n",
      "\u001b[1;32m~\\Anaconda2\\envs\\neural_net\\lib\\site-packages\\sklearn\\utils\\validation.py\u001b[0m in \u001b[0;36mcheck_array\u001b[1;34m(array, accept_sparse, dtype, order, copy, force_all_finite, ensure_2d, allow_nd, ensure_min_samples, ensure_min_features, warn_on_dtype, estimator)\u001b[0m\n\u001b[0;32m    420\u001b[0m                              % (array.ndim, estimator_name))\n\u001b[0;32m    421\u001b[0m         \u001b[1;32mif\u001b[0m \u001b[0mforce_all_finite\u001b[0m\u001b[1;33m:\u001b[0m\u001b[1;33m\u001b[0m\u001b[0m\n\u001b[1;32m--> 422\u001b[1;33m             \u001b[0m_assert_all_finite\u001b[0m\u001b[1;33m(\u001b[0m\u001b[0marray\u001b[0m\u001b[1;33m)\u001b[0m\u001b[1;33m\u001b[0m\u001b[0m\n\u001b[0m\u001b[0;32m    423\u001b[0m \u001b[1;33m\u001b[0m\u001b[0m\n\u001b[0;32m    424\u001b[0m     \u001b[0mshape_repr\u001b[0m \u001b[1;33m=\u001b[0m \u001b[0m_shape_repr\u001b[0m\u001b[1;33m(\u001b[0m\u001b[0marray\u001b[0m\u001b[1;33m.\u001b[0m\u001b[0mshape\u001b[0m\u001b[1;33m)\u001b[0m\u001b[1;33m\u001b[0m\u001b[0m\n",
      "\u001b[1;32m~\\Anaconda2\\envs\\neural_net\\lib\\site-packages\\sklearn\\utils\\validation.py\u001b[0m in \u001b[0;36m_assert_all_finite\u001b[1;34m(X)\u001b[0m\n\u001b[0;32m     41\u001b[0m             and not np.isfinite(X).all()):\n\u001b[0;32m     42\u001b[0m         raise ValueError(\"Input contains NaN, infinity\"\n\u001b[1;32m---> 43\u001b[1;33m                          \" or a value too large for %r.\" % X.dtype)\n\u001b[0m\u001b[0;32m     44\u001b[0m \u001b[1;33m\u001b[0m\u001b[0m\n\u001b[0;32m     45\u001b[0m \u001b[1;33m\u001b[0m\u001b[0m\n",
      "\u001b[1;31mValueError\u001b[0m: Input contains NaN, infinity or a value too large for dtype('float64')."
     ]
    }
   ],
   "source": [
    "from sklearn.naive_bayes import MultinomialNB\n",
    "clf = MultinomialNB().fit(X_train_df.values, y_train)"
   ]
  },
  {
   "cell_type": "code",
   "execution_count": 66,
   "metadata": {
    "collapsed": true
   },
   "outputs": [],
   "source": [
    "X_new_counts = count_vect.transform(X_test['text'])\n",
    "X_new_tfidf_df = tf_transformer.transform(X_new_counts)"
   ]
  },
  {
   "cell_type": "code",
   "execution_count": 67,
   "metadata": {},
   "outputs": [
    {
     "ename": "NameError",
     "evalue": "name 'clf' is not defined",
     "output_type": "error",
     "traceback": [
      "\u001b[1;31m---------------------------------------------------------------------------\u001b[0m",
      "\u001b[1;31mNameError\u001b[0m                                 Traceback (most recent call last)",
      "\u001b[1;32m<ipython-input-67-6454b25a2f0d>\u001b[0m in \u001b[0;36m<module>\u001b[1;34m()\u001b[0m\n\u001b[1;32m----> 1\u001b[1;33m \u001b[0myhat\u001b[0m \u001b[1;33m=\u001b[0m \u001b[0mclf\u001b[0m\u001b[1;33m.\u001b[0m\u001b[0mpredict\u001b[0m\u001b[1;33m(\u001b[0m\u001b[0mX_new_tfidf\u001b[0m\u001b[1;33m)\u001b[0m\u001b[1;33m\u001b[0m\u001b[0m\n\u001b[0m\u001b[0;32m      2\u001b[0m \u001b[1;33m\u001b[0m\u001b[0m\n\u001b[0;32m      3\u001b[0m \u001b[1;32mfor\u001b[0m \u001b[0mtweet\u001b[0m\u001b[1;33m,\u001b[0m \u001b[0msource\u001b[0m \u001b[1;32min\u001b[0m \u001b[0mzip\u001b[0m\u001b[1;33m(\u001b[0m\u001b[0mX_test\u001b[0m\u001b[1;33m[\u001b[0m\u001b[1;34m'text'\u001b[0m\u001b[1;33m]\u001b[0m\u001b[1;33m,\u001b[0m \u001b[0myhat\u001b[0m\u001b[1;33m)\u001b[0m\u001b[1;33m:\u001b[0m\u001b[1;33m\u001b[0m\u001b[0m\n\u001b[0;32m      4\u001b[0m     \u001b[0mprint\u001b[0m\u001b[1;33m(\u001b[0m\u001b[1;34m'%r => %s'\u001b[0m \u001b[1;33m%\u001b[0m \u001b[1;33m(\u001b[0m\u001b[0mtweet\u001b[0m\u001b[1;33m,\u001b[0m \u001b[0myhat\u001b[0m\u001b[1;33m[\u001b[0m\u001b[0msource\u001b[0m\u001b[1;33m]\u001b[0m\u001b[1;33m)\u001b[0m\u001b[1;33m)\u001b[0m\u001b[1;33m\u001b[0m\u001b[0m\n",
      "\u001b[1;31mNameError\u001b[0m: name 'clf' is not defined"
     ]
    }
   ],
   "source": [
    "yhat = clf.predict(X_new_tfidf)\n",
    "\n",
    "for tweet, source in zip(X_test['text'], yhat):\n",
    "    print('%r => %s' % (tweet, yhat[source]))"
   ]
  },
  {
   "cell_type": "code",
   "execution_count": 182,
   "metadata": {},
   "outputs": [
    {
     "data": {
      "text/plain": [
       "(1709, 1)"
      ]
     },
     "execution_count": 182,
     "metadata": {},
     "output_type": "execute_result"
    }
   ],
   "source": [
    "yhat = pd.DataFrame(yhat)\n",
    "yhat.shape"
   ]
  },
  {
   "cell_type": "code",
   "execution_count": 181,
   "metadata": {},
   "outputs": [
    {
     "data": {
      "text/plain": [
       "(1709, 1)"
      ]
     },
     "execution_count": 181,
     "metadata": {},
     "output_type": "execute_result"
    }
   ],
   "source": [
    "y_test=pd.DataFrame(y_test)\n",
    "y_test.shape"
   ]
  },
  {
   "cell_type": "code",
   "execution_count": 184,
   "metadata": {},
   "outputs": [
    {
     "data": {
      "text/plain": [
       "0    0.661791\n",
       "dtype: float64"
      ]
     },
     "execution_count": 184,
     "metadata": {},
     "output_type": "execute_result"
    }
   ],
   "source": [
    "np.mean(yhat == y_test)"
   ]
  },
  {
   "cell_type": "code",
   "execution_count": 204,
   "metadata": {},
   "outputs": [
    {
     "name": "stdout",
     "output_type": "stream",
     "text": [
      "                     precision    recall  f1-score   support\n",
      "\n",
      "         Web Client       0.00      0.00      0.00       123\n",
      " Twitter for iPhone       0.76      0.36      0.49       627\n",
      "Twitter for Android       0.64      0.94      0.76       959\n",
      "\n",
      "        avg / total       0.64      0.66      0.61      1709\n",
      "\n"
     ]
    },
    {
     "name": "stderr",
     "output_type": "stream",
     "text": [
      "C:\\Users\\bobbyd\\Anaconda2\\envs\\neural_net\\lib\\site-packages\\sklearn\\metrics\\classification.py:1135: UndefinedMetricWarning: Precision and F-score are ill-defined and being set to 0.0 in labels with no predicted samples.\n",
      "  'precision', 'predicted', average, warn_for)\n"
     ]
    }
   ],
   "source": [
    "from sklearn.metrics import classification_report\n",
    "print(classification_report(y_test, yhat, target_names = ['Web Client', 'Twitter for iPhone', 'Twitter for Android']))"
   ]
  },
  {
   "cell_type": "markdown",
   "metadata": {},
   "source": [
    "tf-idf measures the frequency of each word within an individual text and the iverse of the frequency of each word within the entire document. "
   ]
  },
  {
   "cell_type": "code",
   "execution_count": 159,
   "metadata": {
    "collapsed": true
   },
   "outputs": [],
   "source": [
    "tfidf = TfidfVectorizer(stop_words='english', ngram_range=(1,3))\n",
    "full_tfidf = tfidf.fit_transform( X_train['text'].values.tolist() + X_test['text'].values.tolist())\n",
    "train_tfidf = tfidf.transform(X_train['text'].values.tolist())\n",
    "test_tfidf = tfidf.transform(X_test['text'].values.tolist())\n",
    "\n"
   ]
  },
  {
   "cell_type": "code",
   "execution_count": 160,
   "metadata": {},
   "outputs": [
    {
     "data": {
      "text/plain": [
       "78401"
      ]
     },
     "execution_count": 160,
     "metadata": {},
     "output_type": "execute_result"
    }
   ],
   "source": [
    "vocab = tfidf.get_feature_names()\n",
    "len(vocab)"
   ]
  },
  {
   "cell_type": "code",
   "execution_count": 161,
   "metadata": {},
   "outputs": [
    {
     "data": {
      "text/plain": [
       "(1709, 78401)"
      ]
     },
     "execution_count": 161,
     "metadata": {},
     "output_type": "execute_result"
    }
   ],
   "source": [
    "test_tfidf.get_shape()"
   ]
  },
  {
   "cell_type": "code",
   "execution_count": 210,
   "metadata": {},
   "outputs": [
    {
     "name": "stderr",
     "output_type": "stream",
     "text": [
      "C:\\Users\\bobbyd\\Anaconda2\\envs\\neural_net\\lib\\site-packages\\ipykernel_launcher.py:1: SettingWithCopyWarning: \n",
      "A value is trying to be set on a copy of a slice from a DataFrame.\n",
      "Try using .loc[row_indexer,col_indexer] = value instead\n",
      "\n",
      "See the caveats in the documentation: http://pandas.pydata.org/pandas-docs/stable/indexing.html#indexing-view-versus-copy\n",
      "  \"\"\"Entry point for launching an IPython kernel.\n",
      "C:\\Users\\bobbyd\\Anaconda2\\envs\\neural_net\\lib\\site-packages\\ipykernel_launcher.py:2: SettingWithCopyWarning: \n",
      "A value is trying to be set on a copy of a slice from a DataFrame.\n",
      "Try using .loc[row_indexer,col_indexer] = value instead\n",
      "\n",
      "See the caveats in the documentation: http://pandas.pydata.org/pandas-docs/stable/indexing.html#indexing-view-versus-copy\n",
      "  \n"
     ]
    }
   ],
   "source": [
    "X_train['weekday'] = le.fit_transform(X_train['weekday'])\n",
    "X_test['weekday'] = le.transform(X_test['weekday'])"
   ]
  },
  {
   "cell_type": "code",
   "execution_count": 213,
   "metadata": {},
   "outputs": [
    {
     "name": "stderr",
     "output_type": "stream",
     "text": [
      "C:\\Users\\bobbyd\\Anaconda2\\envs\\neural_net\\lib\\site-packages\\ipykernel_launcher.py:1: SettingWithCopyWarning: \n",
      "A value is trying to be set on a copy of a slice from a DataFrame\n",
      "\n",
      "See the caveats in the documentation: http://pandas.pydata.org/pandas-docs/stable/indexing.html#indexing-view-versus-copy\n",
      "  \"\"\"Entry point for launching an IPython kernel.\n",
      "C:\\Users\\bobbyd\\Anaconda2\\envs\\neural_net\\lib\\site-packages\\ipykernel_launcher.py:2: SettingWithCopyWarning: \n",
      "A value is trying to be set on a copy of a slice from a DataFrame\n",
      "\n",
      "See the caveats in the documentation: http://pandas.pydata.org/pandas-docs/stable/indexing.html#indexing-view-versus-copy\n",
      "  \n"
     ]
    }
   ],
   "source": [
    "X_train.drop('source', axis=1, inplace=True)\n",
    "X_test.drop('source', axis=1, inplace=True)"
   ]
  },
  {
   "cell_type": "code",
   "execution_count": 214,
   "metadata": {},
   "outputs": [
    {
     "data": {
      "text/html": [
       "<div>\n",
       "<style>\n",
       "    .dataframe thead tr:only-child th {\n",
       "        text-align: right;\n",
       "    }\n",
       "\n",
       "    .dataframe thead th {\n",
       "        text-align: left;\n",
       "    }\n",
       "\n",
       "    .dataframe tbody tr th {\n",
       "        vertical-align: top;\n",
       "    }\n",
       "</style>\n",
       "<table border=\"1\" class=\"dataframe\">\n",
       "  <thead>\n",
       "    <tr style=\"text-align: right;\">\n",
       "      <th></th>\n",
       "      <th>favorite_count</th>\n",
       "      <th>is_retweet</th>\n",
       "      <th>retweet_count</th>\n",
       "      <th>text</th>\n",
       "      <th>hours</th>\n",
       "      <th>weekday</th>\n",
       "      <th>num_words</th>\n",
       "      <th>num_unique_words</th>\n",
       "      <th>num_char</th>\n",
       "      <th>num_stops</th>\n",
       "      <th>num_punc</th>\n",
       "      <th>num_upper</th>\n",
       "      <th>num_title</th>\n",
       "      <th>com</th>\n",
       "    </tr>\n",
       "    <tr>\n",
       "      <th>created_at</th>\n",
       "      <th></th>\n",
       "      <th></th>\n",
       "      <th></th>\n",
       "      <th></th>\n",
       "      <th></th>\n",
       "      <th></th>\n",
       "      <th></th>\n",
       "      <th></th>\n",
       "      <th></th>\n",
       "      <th></th>\n",
       "      <th></th>\n",
       "      <th></th>\n",
       "      <th></th>\n",
       "      <th></th>\n",
       "    </tr>\n",
       "  </thead>\n",
       "  <tbody>\n",
       "    <tr>\n",
       "      <th>2016-03-29 01:04:06</th>\n",
       "      <td>18228</td>\n",
       "      <td>0</td>\n",
       "      <td>5452</td>\n",
       "      <td>Lyin' Ted, I have already beaten you in all de...</td>\n",
       "      <td>1</td>\n",
       "      <td>5</td>\n",
       "      <td>27</td>\n",
       "      <td>24</td>\n",
       "      <td>4.934474</td>\n",
       "      <td>14</td>\n",
       "      <td>1.609438</td>\n",
       "      <td>1</td>\n",
       "      <td>4</td>\n",
       "      <td>-0.7712</td>\n",
       "    </tr>\n",
       "    <tr>\n",
       "      <th>2016-07-05 15:39:06</th>\n",
       "      <td>78067</td>\n",
       "      <td>0</td>\n",
       "      <td>40146</td>\n",
       "      <td>FBI director said Crooked Hillary compromised ...</td>\n",
       "      <td>15</td>\n",
       "      <td>5</td>\n",
       "      <td>13</td>\n",
       "      <td>13</td>\n",
       "      <td>4.595120</td>\n",
       "      <td>2</td>\n",
       "      <td>1.386294</td>\n",
       "      <td>1</td>\n",
       "      <td>4</td>\n",
       "      <td>0.4926</td>\n",
       "    </tr>\n",
       "    <tr>\n",
       "      <th>2017-06-16 22:32:20</th>\n",
       "      <td>44120</td>\n",
       "      <td>0</td>\n",
       "      <td>9381</td>\n",
       "      <td>\"National Security Presidential Memorandum on ...</td>\n",
       "      <td>22</td>\n",
       "      <td>0</td>\n",
       "      <td>15</td>\n",
       "      <td>14</td>\n",
       "      <td>4.762174</td>\n",
       "      <td>4</td>\n",
       "      <td>0.693147</td>\n",
       "      <td>0</td>\n",
       "      <td>11</td>\n",
       "      <td>0.8126</td>\n",
       "    </tr>\n",
       "    <tr>\n",
       "      <th>2017-07-11 11:46:00</th>\n",
       "      <td>108873</td>\n",
       "      <td>0</td>\n",
       "      <td>20083</td>\n",
       "      <td>Working hard to get the Olympics for the Unite...</td>\n",
       "      <td>11</td>\n",
       "      <td>5</td>\n",
       "      <td>13</td>\n",
       "      <td>12</td>\n",
       "      <td>4.304065</td>\n",
       "      <td>4</td>\n",
       "      <td>1.791759</td>\n",
       "      <td>1</td>\n",
       "      <td>6</td>\n",
       "      <td>0.4003</td>\n",
       "    </tr>\n",
       "    <tr>\n",
       "      <th>2017-05-23 15:58:37</th>\n",
       "      <td>120808</td>\n",
       "      <td>0</td>\n",
       "      <td>30140</td>\n",
       "      <td>All civilized nations must join together to pr...</td>\n",
       "      <td>15</td>\n",
       "      <td>5</td>\n",
       "      <td>24</td>\n",
       "      <td>21</td>\n",
       "      <td>4.875197</td>\n",
       "      <td>10</td>\n",
       "      <td>0.000000</td>\n",
       "      <td>0</td>\n",
       "      <td>1</td>\n",
       "      <td>0.8779</td>\n",
       "    </tr>\n",
       "  </tbody>\n",
       "</table>\n",
       "</div>"
      ],
      "text/plain": [
       "                     favorite_count  is_retweet  retweet_count  \\\n",
       "created_at                                                       \n",
       "2016-03-29 01:04:06           18228           0           5452   \n",
       "2016-07-05 15:39:06           78067           0          40146   \n",
       "2017-06-16 22:32:20           44120           0           9381   \n",
       "2017-07-11 11:46:00          108873           0          20083   \n",
       "2017-05-23 15:58:37          120808           0          30140   \n",
       "\n",
       "                                                                  text  hours  \\\n",
       "created_at                                                                      \n",
       "2016-03-29 01:04:06  Lyin' Ted, I have already beaten you in all de...      1   \n",
       "2016-07-05 15:39:06  FBI director said Crooked Hillary compromised ...     15   \n",
       "2017-06-16 22:32:20  \"National Security Presidential Memorandum on ...     22   \n",
       "2017-07-11 11:46:00  Working hard to get the Olympics for the Unite...     11   \n",
       "2017-05-23 15:58:37  All civilized nations must join together to pr...     15   \n",
       "\n",
       "                     weekday  num_words  num_unique_words  num_char  \\\n",
       "created_at                                                            \n",
       "2016-03-29 01:04:06        5         27                24  4.934474   \n",
       "2016-07-05 15:39:06        5         13                13  4.595120   \n",
       "2017-06-16 22:32:20        0         15                14  4.762174   \n",
       "2017-07-11 11:46:00        5         13                12  4.304065   \n",
       "2017-05-23 15:58:37        5         24                21  4.875197   \n",
       "\n",
       "                     num_stops  num_punc  num_upper  num_title     com  \n",
       "created_at                                                              \n",
       "2016-03-29 01:04:06         14  1.609438          1          4 -0.7712  \n",
       "2016-07-05 15:39:06          2  1.386294          1          4  0.4926  \n",
       "2017-06-16 22:32:20          4  0.693147          0         11  0.8126  \n",
       "2017-07-11 11:46:00          4  1.791759          1          6  0.4003  \n",
       "2017-05-23 15:58:37         10  0.000000          0          1  0.8779  "
      ]
     },
     "execution_count": 214,
     "metadata": {},
     "output_type": "execute_result"
    }
   ],
   "source": [
    "X_train.head()"
   ]
  },
  {
   "cell_type": "markdown",
   "metadata": {},
   "source": [
    "We will perform a Multinomial Naive Bayes on the vectorized text"
   ]
  },
  {
   "cell_type": "code",
   "execution_count": null,
   "metadata": {
    "collapsed": true
   },
   "outputs": [],
   "source": []
  },
  {
   "cell_type": "code",
   "execution_count": 150,
   "metadata": {
    "collapsed": true
   },
   "outputs": [],
   "source": [
    "def runmnb(train_X, train_y, test_X, test_y, test_X2):\n",
    "    model = naive_bayes.MultinomialNB()\n",
    "    model.fit(train_X, train_y)\n",
    "    pred_test_y= model.predict_proba(test_X)\n",
    "    pred_test_y2 = model.predict_proba(test_X2)\n",
    "    return pred_test_y, pred_test_y2, model"
   ]
  },
  {
   "cell_type": "code",
   "execution_count": 162,
   "metadata": {},
   "outputs": [
    {
     "name": "stdout",
     "output_type": "stream",
     "text": [
      "Mean cv score :  0.759034807949\n"
     ]
    }
   ],
   "source": [
    "cv_scores = []\n",
    "pred_full_test = 0\n",
    "pred_train = np.zeros([X_train.shape[0], 3])\n",
    "kf = model_selection.KFold(n_splits=5, shuffle=True, random_state=2017)\n",
    "for dev_index, val_index in kf.split(X_train):\n",
    "    dev_X, val_X = train_tfidf[dev_index], train_tfidf[val_index]\n",
    "    dev_y, val_y = y_train[dev_index], y_train[val_index]\n",
    "    pred_val_y, pred_test_y, model = runmnb(dev_X, dev_y, val_X, val_y, test_tfidf)\n",
    "    pred_full_test = pred_full_test + pred_test_y\n",
    "    pred_train[val_index,:] = pred_val_y\n",
    "    cv_scores.append(metrics.log_loss(val_y, pred_val_y))\n",
    "print(\"Mean cv score : \", np.mean(cv_scores))\n",
    "pred_full_test = pred_full_test / 5."
   ]
  },
  {
   "cell_type": "code",
   "execution_count": 127,
   "metadata": {
    "collapsed": true
   },
   "outputs": [],
   "source": [
    "### Function to create confusion matrix ###\n",
    "import itertools\n",
    "from sklearn.metrics import confusion_matrix\n",
    "\n",
    "### From http://scikit-learn.org/stable/auto_examples/model_selection/plot_confusion_matrix.html#sphx-glr-auto-examples-model-selection-plot-confusion-matrix-py #\n",
    "def plot_confusion_matrix(cm, classes,\n",
    "                          normalize=False,\n",
    "                          title='Confusion matrix',\n",
    "                          cmap=plt.cm.Blues):\n",
    "    \"\"\"\n",
    "    This function prints and plots the confusion matrix.\n",
    "    Normalization can be applied by setting `normalize=True`.\n",
    "    \"\"\"\n",
    "    if normalize:\n",
    "        cm = cm.astype('float') / cm.sum(axis=1)[:, np.newaxis]\n",
    "        #print(\"Normalized confusion matrix\")\n",
    "    #else:\n",
    "    #    print('Confusion matrix, without normalization')\n",
    "\n",
    "    #print(cm)\n",
    "\n",
    "    plt.imshow(cm, interpolation='nearest', cmap=cmap)\n",
    "    plt.title(title)\n",
    "    plt.colorbar()\n",
    "    tick_marks = np.arange(len(classes))\n",
    "    plt.xticks(tick_marks, classes, rotation=45)\n",
    "    plt.yticks(tick_marks, classes)\n",
    "\n",
    "    fmt = '.2f' if normalize else 'd'\n",
    "    thresh = cm.max() / 2.\n",
    "    for i, j in itertools.product(range(cm.shape[0]), range(cm.shape[1])):\n",
    "        plt.text(j, i, format(cm[i, j], fmt),\n",
    "                 horizontalalignment=\"center\",\n",
    "                 color=\"white\" if cm[i, j] > thresh else \"black\")\n",
    "\n",
    "    plt.tight_layout()\n",
    "    plt.ylabel('True label')\n",
    "    plt.xlabel('Predicted label')"
   ]
  },
  {
   "cell_type": "code",
   "execution_count": 129,
   "metadata": {},
   "outputs": [
    {
     "data": {
      "image/png": "[encoded data removed]",
      "text/plain": [
       "<matplotlib.figure.Figure at 0x2144c499c88>"
      ]
     },
     "metadata": {},
     "output_type": "display_data"
    }
   ],
   "source": [
    "cnf_matrix = confusion_matrix(val_y, np.argmax(pred_val_y,axis=1))\n",
    "np.set_printoptions(precision=2)\n",
    "\n",
    "# Plot non-normalized confusion matrix\n",
    "plt.figure(figsize=(8,8))\n",
    "plot_confusion_matrix(cnf_matrix, classes=['Web Client', 'iPhone', 'Android'],\n",
    "                      title='Confusion matrix, without normalization')\n",
    "plt.show()"
   ]
  },
  {
   "cell_type": "code",
   "execution_count": 116,
   "metadata": {},
   "outputs": [
    {
     "data": {
      "text/plain": [
       "(array([[ 0.04438647,  0.28496915,  0.67064439],\n",
       "        [ 0.05409951,  0.24808497,  0.69781552],\n",
       "        [ 0.04818222,  0.41899877,  0.53281901],\n",
       "        ..., \n",
       "        [ 0.03438846,  0.18037319,  0.78523835],\n",
       "        [ 0.04385065,  0.41237656,  0.54377279],\n",
       "        [ 0.0184372 ,  0.29303669,  0.68852611]]),\n",
       " MultinomialNB(alpha=1.0, class_prior=None, fit_prior=True))"
      ]
     },
     "execution_count": 116,
     "metadata": {},
     "output_type": "execute_result"
    }
   ],
   "source": [
    "runmnb(train_tfidf, y_train, test_tfidf,y_test)"
   ]
  },
  {
   "cell_type": "code",
   "execution_count": 108,
   "metadata": {},
   "outputs": [
    {
     "data": {
      "text/plain": [
       "(3987,)"
      ]
     },
     "execution_count": 108,
     "metadata": {},
     "output_type": "execute_result"
    }
   ],
   "source": [
    "yhat = model.predict(test_tfidf)\n",
    "yhat.shape"
   ]
  },
  {
   "cell_type": "code",
   "execution_count": 111,
   "metadata": {},
   "outputs": [
    {
     "data": {
      "text/plain": [
       "(3987, 1)"
      ]
     },
     "execution_count": 111,
     "metadata": {},
     "output_type": "execute_result"
    }
   ],
   "source": [
    "yhat = yhat.reshape(-1,1)\n",
    "yhat.shape"
   ]
  },
  {
   "cell_type": "code",
   "execution_count": 113,
   "metadata": {},
   "outputs": [
    {
     "data": {
      "text/plain": [
       "(3987,)"
      ]
     },
     "execution_count": 113,
     "metadata": {},
     "output_type": "execute_result"
    }
   ],
   "source": [
    "y_test.shape"
   ]
  },
  {
   "cell_type": "code",
   "execution_count": 114,
   "metadata": {},
   "outputs": [
    {
     "ename": "ValueError",
     "evalue": "shapes (3987,1) and (80676,3) not aligned: 1 (dim 1) != 80676 (dim 0)",
     "output_type": "error",
     "traceback": [
      "\u001b[1;31m---------------------------------------------------------------------------\u001b[0m",
      "\u001b[1;31mValueError\u001b[0m                                Traceback (most recent call last)",
      "\u001b[1;32m<ipython-input-114-ad2dc3e18bac>\u001b[0m in \u001b[0;36m<module>\u001b[1;34m()\u001b[0m\n\u001b[1;32m----> 1\u001b[1;33m \u001b[0mmodel\u001b[0m\u001b[1;33m.\u001b[0m\u001b[0mscore\u001b[0m\u001b[1;33m(\u001b[0m\u001b[0myhat\u001b[0m\u001b[1;33m,\u001b[0m \u001b[0my_test\u001b[0m\u001b[1;33m)\u001b[0m\u001b[1;33m\u001b[0m\u001b[0m\n\u001b[0m",
      "\u001b[1;32m~\\Anaconda2\\envs\\neural_net\\lib\\site-packages\\sklearn\\base.py\u001b[0m in \u001b[0;36mscore\u001b[1;34m(self, X, y, sample_weight)\u001b[0m\n\u001b[0;32m    348\u001b[0m         \"\"\"\n\u001b[0;32m    349\u001b[0m         \u001b[1;32mfrom\u001b[0m \u001b[1;33m.\u001b[0m\u001b[0mmetrics\u001b[0m \u001b[1;32mimport\u001b[0m \u001b[0maccuracy_score\u001b[0m\u001b[1;33m\u001b[0m\u001b[0m\n\u001b[1;32m--> 350\u001b[1;33m         \u001b[1;32mreturn\u001b[0m \u001b[0maccuracy_score\u001b[0m\u001b[1;33m(\u001b[0m\u001b[0my\u001b[0m\u001b[1;33m,\u001b[0m \u001b[0mself\u001b[0m\u001b[1;33m.\u001b[0m\u001b[0mpredict\u001b[0m\u001b[1;33m(\u001b[0m\u001b[0mX\u001b[0m\u001b[1;33m)\u001b[0m\u001b[1;33m,\u001b[0m \u001b[0msample_weight\u001b[0m\u001b[1;33m=\u001b[0m\u001b[0msample_weight\u001b[0m\u001b[1;33m)\u001b[0m\u001b[1;33m\u001b[0m\u001b[0m\n\u001b[0m\u001b[0;32m    351\u001b[0m \u001b[1;33m\u001b[0m\u001b[0m\n\u001b[0;32m    352\u001b[0m \u001b[1;33m\u001b[0m\u001b[0m\n",
      "\u001b[1;32m~\\Anaconda2\\envs\\neural_net\\lib\\site-packages\\sklearn\\naive_bayes.py\u001b[0m in \u001b[0;36mpredict\u001b[1;34m(self, X)\u001b[0m\n\u001b[0;32m     64\u001b[0m             \u001b[0mPredicted\u001b[0m \u001b[0mtarget\u001b[0m \u001b[0mvalues\u001b[0m \u001b[1;32mfor\u001b[0m \u001b[0mX\u001b[0m\u001b[1;33m\u001b[0m\u001b[0m\n\u001b[0;32m     65\u001b[0m         \"\"\"\n\u001b[1;32m---> 66\u001b[1;33m         \u001b[0mjll\u001b[0m \u001b[1;33m=\u001b[0m \u001b[0mself\u001b[0m\u001b[1;33m.\u001b[0m\u001b[0m_joint_log_likelihood\u001b[0m\u001b[1;33m(\u001b[0m\u001b[0mX\u001b[0m\u001b[1;33m)\u001b[0m\u001b[1;33m\u001b[0m\u001b[0m\n\u001b[0m\u001b[0;32m     67\u001b[0m         \u001b[1;32mreturn\u001b[0m \u001b[0mself\u001b[0m\u001b[1;33m.\u001b[0m\u001b[0mclasses_\u001b[0m\u001b[1;33m[\u001b[0m\u001b[0mnp\u001b[0m\u001b[1;33m.\u001b[0m\u001b[0margmax\u001b[0m\u001b[1;33m(\u001b[0m\u001b[0mjll\u001b[0m\u001b[1;33m,\u001b[0m \u001b[0maxis\u001b[0m\u001b[1;33m=\u001b[0m\u001b[1;36m1\u001b[0m\u001b[1;33m)\u001b[0m\u001b[1;33m]\u001b[0m\u001b[1;33m\u001b[0m\u001b[0m\n\u001b[0;32m     68\u001b[0m \u001b[1;33m\u001b[0m\u001b[0m\n",
      "\u001b[1;32m~\\Anaconda2\\envs\\neural_net\\lib\\site-packages\\sklearn\\naive_bayes.py\u001b[0m in \u001b[0;36m_joint_log_likelihood\u001b[1;34m(self, X)\u001b[0m\n\u001b[0;32m    723\u001b[0m \u001b[1;33m\u001b[0m\u001b[0m\n\u001b[0;32m    724\u001b[0m         \u001b[0mX\u001b[0m \u001b[1;33m=\u001b[0m \u001b[0mcheck_array\u001b[0m\u001b[1;33m(\u001b[0m\u001b[0mX\u001b[0m\u001b[1;33m,\u001b[0m \u001b[0maccept_sparse\u001b[0m\u001b[1;33m=\u001b[0m\u001b[1;34m'csr'\u001b[0m\u001b[1;33m)\u001b[0m\u001b[1;33m\u001b[0m\u001b[0m\n\u001b[1;32m--> 725\u001b[1;33m         return (safe_sparse_dot(X, self.feature_log_prob_.T) +\n\u001b[0m\u001b[0;32m    726\u001b[0m                 self.class_log_prior_)\n\u001b[0;32m    727\u001b[0m \u001b[1;33m\u001b[0m\u001b[0m\n",
      "\u001b[1;32m~\\Anaconda2\\envs\\neural_net\\lib\\site-packages\\sklearn\\utils\\extmath.py\u001b[0m in \u001b[0;36msafe_sparse_dot\u001b[1;34m(a, b, dense_output)\u001b[0m\n\u001b[0;32m    138\u001b[0m         \u001b[1;32mreturn\u001b[0m \u001b[0mret\u001b[0m\u001b[1;33m\u001b[0m\u001b[0m\n\u001b[0;32m    139\u001b[0m     \u001b[1;32melse\u001b[0m\u001b[1;33m:\u001b[0m\u001b[1;33m\u001b[0m\u001b[0m\n\u001b[1;32m--> 140\u001b[1;33m         \u001b[1;32mreturn\u001b[0m \u001b[0mnp\u001b[0m\u001b[1;33m.\u001b[0m\u001b[0mdot\u001b[0m\u001b[1;33m(\u001b[0m\u001b[0ma\u001b[0m\u001b[1;33m,\u001b[0m \u001b[0mb\u001b[0m\u001b[1;33m)\u001b[0m\u001b[1;33m\u001b[0m\u001b[0m\n\u001b[0m\u001b[0;32m    141\u001b[0m \u001b[1;33m\u001b[0m\u001b[0m\n\u001b[0;32m    142\u001b[0m \u001b[1;33m\u001b[0m\u001b[0m\n",
      "\u001b[1;31mValueError\u001b[0m: shapes (3987,1) and (80676,3) not aligned: 1 (dim 1) != 80676 (dim 0)"
     ]
    }
   ],
   "source": [
    "model.score(yhat, y_test)"
   ]
  },
  {
   "cell_type": "markdown",
   "metadata": {},
   "source": [
    "## Numerical Variables"
   ]
  },
  {
   "cell_type": "markdown",
   "metadata": {},
   "source": [
    "Let's start by investigating how the numerical relate with our target variable, the source of the tweet."
   ]
  },
  {
   "cell_type": "code",
   "execution_count": 61,
   "metadata": {},
   "outputs": [
    {
     "data": {
      "text/html": [
       "<div>\n",
       "<style>\n",
       "    .dataframe thead tr:only-child th {\n",
       "        text-align: right;\n",
       "    }\n",
       "\n",
       "    .dataframe thead th {\n",
       "        text-align: left;\n",
       "    }\n",
       "\n",
       "    .dataframe tbody tr th {\n",
       "        vertical-align: top;\n",
       "    }\n",
       "</style>\n",
       "<table border=\"1\" class=\"dataframe\">\n",
       "  <thead>\n",
       "    <tr style=\"text-align: right;\">\n",
       "      <th></th>\n",
       "      <th>favorite_count</th>\n",
       "      <th>is_retweet</th>\n",
       "      <th>retweet_count</th>\n",
       "    </tr>\n",
       "    <tr>\n",
       "      <th>created_at</th>\n",
       "      <th></th>\n",
       "      <th></th>\n",
       "      <th></th>\n",
       "    </tr>\n",
       "  </thead>\n",
       "  <tbody>\n",
       "    <tr>\n",
       "      <th>2016-01-01 00:44:14</th>\n",
       "      <td>6735</td>\n",
       "      <td>False</td>\n",
       "      <td>2108</td>\n",
       "    </tr>\n",
       "    <tr>\n",
       "      <th>2016-01-01 03:25:27</th>\n",
       "      <td>8581</td>\n",
       "      <td>False</td>\n",
       "      <td>3460</td>\n",
       "    </tr>\n",
       "    <tr>\n",
       "      <th>2016-01-01 05:18:23</th>\n",
       "      <td>9143</td>\n",
       "      <td>False</td>\n",
       "      <td>3434</td>\n",
       "    </tr>\n",
       "    <tr>\n",
       "      <th>2016-01-01 06:07:28</th>\n",
       "      <td>8258</td>\n",
       "      <td>False</td>\n",
       "      <td>1948</td>\n",
       "    </tr>\n",
       "    <tr>\n",
       "      <th>2016-01-01 06:08:06</th>\n",
       "      <td>7490</td>\n",
       "      <td>False</td>\n",
       "      <td>2721</td>\n",
       "    </tr>\n",
       "  </tbody>\n",
       "</table>\n",
       "</div>"
      ],
      "text/plain": [
       "                     favorite_count  is_retweet  retweet_count\n",
       "created_at                                                    \n",
       "2016-01-01 00:44:14            6735       False           2108\n",
       "2016-01-01 03:25:27            8581       False           3460\n",
       "2016-01-01 05:18:23            9143       False           3434\n",
       "2016-01-01 06:07:28            8258       False           1948\n",
       "2016-01-01 06:08:06            7490       False           2721"
      ]
     },
     "execution_count": 61,
     "metadata": {},
     "output_type": "execute_result"
    }
   ],
   "source": [
    "trump[numerical].head()"
   ]
  },
  {
   "cell_type": "code",
   "execution_count": 54,
   "metadata": {},
   "outputs": [
    {
     "data": {
      "text/plain": [
       "count      5695.000000\n",
       "mean      36305.056892\n",
       "std       42046.904876\n",
       "min           0.000000\n",
       "25%        9334.500000\n",
       "50%       19907.000000\n",
       "75%       52275.000000\n",
       "max      633253.000000\n",
       "Name: favorite_count, dtype: float64"
      ]
     },
     "execution_count": 54,
     "metadata": {},
     "output_type": "execute_result"
    }
   ],
   "source": [
    "trump['favorite_count'].describe()"
   ]
  },
  {
   "cell_type": "code",
   "execution_count": 57,
   "metadata": {},
   "outputs": [
    {
     "data": {
      "text/plain": [
       "Twitter for iPhone     3221\n",
       "Twitter for Android    2116\n",
       "Twitter Web Client      358\n",
       "Name: source, dtype: int64"
      ]
     },
     "execution_count": 57,
     "metadata": {},
     "output_type": "execute_result"
    }
   ],
   "source": [
    "y.value_counts()"
   ]
  },
  {
   "cell_type": "code",
   "execution_count": 60,
   "metadata": {},
   "outputs": [
    {
     "ename": "KeyError",
     "evalue": "'source'",
     "output_type": "error",
     "traceback": [
      "\u001b[1;31m---------------------------------------------------------------------------\u001b[0m",
      "\u001b[1;31mKeyError\u001b[0m                                  Traceback (most recent call last)",
      "\u001b[1;32m<ipython-input-60-3c551df237fc>\u001b[0m in \u001b[0;36m<module>\u001b[1;34m()\u001b[0m\n\u001b[1;32m----> 1\u001b[1;33m \u001b[0mtrump\u001b[0m\u001b[1;33m.\u001b[0m\u001b[0mgroupby\u001b[0m\u001b[1;33m(\u001b[0m\u001b[1;34m'source'\u001b[0m\u001b[1;33m)\u001b[0m\u001b[1;33m\u001b[0m\u001b[0m\n\u001b[0m",
      "\u001b[1;32m~\\Anaconda2\\envs\\neural_net\\lib\\site-packages\\pandas\\core\\generic.py\u001b[0m in \u001b[0;36mgroupby\u001b[1;34m(self, by, axis, level, as_index, sort, group_keys, squeeze, **kwargs)\u001b[0m\n\u001b[0;32m   4414\u001b[0m         return groupby(self, by=by, axis=axis, level=level, as_index=as_index,\n\u001b[0;32m   4415\u001b[0m                        \u001b[0msort\u001b[0m\u001b[1;33m=\u001b[0m\u001b[0msort\u001b[0m\u001b[1;33m,\u001b[0m \u001b[0mgroup_keys\u001b[0m\u001b[1;33m=\u001b[0m\u001b[0mgroup_keys\u001b[0m\u001b[1;33m,\u001b[0m \u001b[0msqueeze\u001b[0m\u001b[1;33m=\u001b[0m\u001b[0msqueeze\u001b[0m\u001b[1;33m,\u001b[0m\u001b[1;33m\u001b[0m\u001b[0m\n\u001b[1;32m-> 4416\u001b[1;33m                        **kwargs)\n\u001b[0m\u001b[0;32m   4417\u001b[0m \u001b[1;33m\u001b[0m\u001b[0m\n\u001b[0;32m   4418\u001b[0m     def asfreq(self, freq, method=None, how=None, normalize=False,\n",
      "\u001b[1;32m~\\Anaconda2\\envs\\neural_net\\lib\\site-packages\\pandas\\core\\groupby.py\u001b[0m in \u001b[0;36mgroupby\u001b[1;34m(obj, by, **kwds)\u001b[0m\n\u001b[0;32m   1697\u001b[0m         \u001b[1;32mraise\u001b[0m \u001b[0mTypeError\u001b[0m\u001b[1;33m(\u001b[0m\u001b[1;34m'invalid type: %s'\u001b[0m \u001b[1;33m%\u001b[0m \u001b[0mtype\u001b[0m\u001b[1;33m(\u001b[0m\u001b[0mobj\u001b[0m\u001b[1;33m)\u001b[0m\u001b[1;33m)\u001b[0m\u001b[1;33m\u001b[0m\u001b[0m\n\u001b[0;32m   1698\u001b[0m \u001b[1;33m\u001b[0m\u001b[0m\n\u001b[1;32m-> 1699\u001b[1;33m     \u001b[1;32mreturn\u001b[0m \u001b[0mklass\u001b[0m\u001b[1;33m(\u001b[0m\u001b[0mobj\u001b[0m\u001b[1;33m,\u001b[0m \u001b[0mby\u001b[0m\u001b[1;33m,\u001b[0m \u001b[1;33m**\u001b[0m\u001b[0mkwds\u001b[0m\u001b[1;33m)\u001b[0m\u001b[1;33m\u001b[0m\u001b[0m\n\u001b[0m\u001b[0;32m   1700\u001b[0m \u001b[1;33m\u001b[0m\u001b[0m\n\u001b[0;32m   1701\u001b[0m \u001b[1;33m\u001b[0m\u001b[0m\n",
      "\u001b[1;32m~\\Anaconda2\\envs\\neural_net\\lib\\site-packages\\pandas\\core\\groupby.py\u001b[0m in \u001b[0;36m__init__\u001b[1;34m(self, obj, keys, axis, level, grouper, exclusions, selection, as_index, sort, group_keys, squeeze, **kwargs)\u001b[0m\n\u001b[0;32m    390\u001b[0m                                                     \u001b[0mlevel\u001b[0m\u001b[1;33m=\u001b[0m\u001b[0mlevel\u001b[0m\u001b[1;33m,\u001b[0m\u001b[1;33m\u001b[0m\u001b[0m\n\u001b[0;32m    391\u001b[0m                                                     \u001b[0msort\u001b[0m\u001b[1;33m=\u001b[0m\u001b[0msort\u001b[0m\u001b[1;33m,\u001b[0m\u001b[1;33m\u001b[0m\u001b[0m\n\u001b[1;32m--> 392\u001b[1;33m                                                     mutated=self.mutated)\n\u001b[0m\u001b[0;32m    393\u001b[0m \u001b[1;33m\u001b[0m\u001b[0m\n\u001b[0;32m    394\u001b[0m         \u001b[0mself\u001b[0m\u001b[1;33m.\u001b[0m\u001b[0mobj\u001b[0m \u001b[1;33m=\u001b[0m \u001b[0mobj\u001b[0m\u001b[1;33m\u001b[0m\u001b[0m\n",
      "\u001b[1;32m~\\Anaconda2\\envs\\neural_net\\lib\\site-packages\\pandas\\core\\groupby.py\u001b[0m in \u001b[0;36m_get_grouper\u001b[1;34m(obj, key, axis, level, sort, mutated)\u001b[0m\n\u001b[0;32m   2688\u001b[0m                 \u001b[0min_axis\u001b[0m\u001b[1;33m,\u001b[0m \u001b[0mname\u001b[0m\u001b[1;33m,\u001b[0m \u001b[0mlevel\u001b[0m\u001b[1;33m,\u001b[0m \u001b[0mgpr\u001b[0m \u001b[1;33m=\u001b[0m \u001b[1;32mFalse\u001b[0m\u001b[1;33m,\u001b[0m \u001b[1;32mNone\u001b[0m\u001b[1;33m,\u001b[0m \u001b[0mgpr\u001b[0m\u001b[1;33m,\u001b[0m \u001b[1;32mNone\u001b[0m\u001b[1;33m\u001b[0m\u001b[0m\n\u001b[0;32m   2689\u001b[0m             \u001b[1;32melse\u001b[0m\u001b[1;33m:\u001b[0m\u001b[1;33m\u001b[0m\u001b[0m\n\u001b[1;32m-> 2690\u001b[1;33m                 \u001b[1;32mraise\u001b[0m \u001b[0mKeyError\u001b[0m\u001b[1;33m(\u001b[0m\u001b[0mgpr\u001b[0m\u001b[1;33m)\u001b[0m\u001b[1;33m\u001b[0m\u001b[0m\n\u001b[0m\u001b[0;32m   2691\u001b[0m         \u001b[1;32melif\u001b[0m \u001b[0misinstance\u001b[0m\u001b[1;33m(\u001b[0m\u001b[0mgpr\u001b[0m\u001b[1;33m,\u001b[0m \u001b[0mGrouper\u001b[0m\u001b[1;33m)\u001b[0m \u001b[1;32mand\u001b[0m \u001b[0mgpr\u001b[0m\u001b[1;33m.\u001b[0m\u001b[0mkey\u001b[0m \u001b[1;32mis\u001b[0m \u001b[1;32mnot\u001b[0m \u001b[1;32mNone\u001b[0m\u001b[1;33m:\u001b[0m\u001b[1;33m\u001b[0m\u001b[0m\n\u001b[0;32m   2692\u001b[0m             \u001b[1;31m# Add key to exclusions\u001b[0m\u001b[1;33m\u001b[0m\u001b[1;33m\u001b[0m\u001b[0m\n",
      "\u001b[1;31mKeyError\u001b[0m: 'source'"
     ]
    }
   ],
   "source": [
    "trump.groupby('source')"
   ]
  },
  {
   "cell_type": "code",
   "execution_count": 52,
   "metadata": {},
   "outputs": [
    {
     "data": {
      "text/plain": [
       "<matplotlib.text.Text at 0x2d3575df5c0>"
      ]
     },
     "execution_count": 52,
     "metadata": {},
     "output_type": "execute_result"
    },
    {
     "data": {
      "image/png": "[encoded data removed]",
      "text/plain": [
       "<matplotlib.figure.Figure at 0x2d355de1470>"
      ]
     },
     "metadata": {},
     "output_type": "display_data"
    }
   ],
   "source": [
    "plt.figure(figsize=(12,8))\n",
    "ax = plt.subplot()\n",
    "sns.barplot(y='favorite_count', x=y, data=trump)\n",
    "ax.set_title('Number of Likes per Source')\n",
    "\n"
   ]
  },
  {
   "cell_type": "code",
   "execution_count": 55,
   "metadata": {},
   "outputs": [
    {
     "name": "stderr",
     "output_type": "stream",
     "text": [
      "C:\\Users\\bobbyd\\Anaconda2\\envs\\neural_net\\lib\\site-packages\\ipykernel_launcher.py:1: RuntimeWarning: divide by zero encountered in log\n",
      "  \"\"\"Entry point for launching an IPython kernel.\n"
     ]
    },
    {
     "data": {
      "text/plain": [
       "array([  8.81507309,   9.05730574,   9.12074384, ...,  10.01332802,\n",
       "         9.52493211,   9.38370527])"
      ]
     },
     "execution_count": 55,
     "metadata": {},
     "output_type": "execute_result"
    }
   ],
   "source": [
    "np.log(trump.favorite_count.values)"
   ]
  },
  {
   "cell_type": "code",
   "execution_count": 299,
   "metadata": {},
   "outputs": [
    {
     "data": {
      "image/png": "[encoded data removed]",
      "text/plain": [
       "<matplotlib.figure.Figure at 0x1f0c35dc7f0>"
      ]
     },
     "metadata": {},
     "output_type": "display_data"
    }
   ],
   "source": [
    "source = trump['source'].value_counts()\n",
    "values = source.values\n",
    "\n",
    "plt.figure(figsize=(12,8))\n",
    "ax = plt.subplot()\n",
    "sns.barplot(source.index, source.values, alpha=.8)\n",
    "ax.set_xlabel('Source', fontsize=20)\n",
    "ax.set_ylabel('Count', fontsize=20)\n",
    "ax.set_title('Number of Tweets per Source')\n",
    "ax.set_xticklabels(source.index, fontsize=15)\n",
    "\n",
    "rects = ax.patches\n",
    "\n",
    "for rect, val in zip(rects, values):\n",
    "    height = rect.get_height()\n",
    "    ax.text(rect.get_x() + rect.get_width()/2, height + 200, val, ha='center', va='top', fontsize=15)"
   ]
  },
  {
   "cell_type": "code",
   "execution_count": 133,
   "metadata": {
    "collapsed": true
   },
   "outputs": [],
   "source": [
    "\n",
    "mood = []\n",
    "for idx,val in enumerate(trump['com']):\n",
    "    if val < 0:\n",
    "        mood.append('neg')\n",
    "    elif val == 0:\n",
    "        mood.append('neu')\n",
    "    else:\n",
    "        mood.append('pos')\n",
    "\n",
    "trump['mood']=mood"
   ]
  },
  {
   "cell_type": "markdown",
   "metadata": {},
   "source": [
    "Show any skewing in the data plotting a bar graph of the break down of the different sources of the tweets in the dataset."
   ]
  },
  {
   "cell_type": "code",
   "execution_count": 180,
   "metadata": {},
   "outputs": [
    {
     "data": {
      "text/plain": [
       "(5717, 8)"
      ]
     },
     "execution_count": 180,
     "metadata": {},
     "output_type": "execute_result"
    }
   ],
   "source": [
    "trump.shape"
   ]
  },
  {
   "cell_type": "code",
   "execution_count": 219,
   "metadata": {},
   "outputs": [
    {
     "data": {
      "text/html": [
       "<div>\n",
       "<style>\n",
       "    .dataframe thead tr:only-child th {\n",
       "        text-align: right;\n",
       "    }\n",
       "\n",
       "    .dataframe thead th {\n",
       "        text-align: left;\n",
       "    }\n",
       "\n",
       "    .dataframe tbody tr th {\n",
       "        vertical-align: top;\n",
       "    }\n",
       "</style>\n",
       "<table border=\"1\" class=\"dataframe\">\n",
       "  <thead>\n",
       "    <tr style=\"text-align: right;\">\n",
       "      <th></th>\n",
       "      <th>favorite_count</th>\n",
       "      <th>is_retweet</th>\n",
       "      <th>retweet_count</th>\n",
       "      <th>source</th>\n",
       "      <th>text</th>\n",
       "      <th>com</th>\n",
       "      <th>mood</th>\n",
       "      <th>hours</th>\n",
       "      <th>weekday</th>\n",
       "    </tr>\n",
       "    <tr>\n",
       "      <th>created_at</th>\n",
       "      <th></th>\n",
       "      <th></th>\n",
       "      <th></th>\n",
       "      <th></th>\n",
       "      <th></th>\n",
       "      <th></th>\n",
       "      <th></th>\n",
       "      <th></th>\n",
       "      <th></th>\n",
       "    </tr>\n",
       "  </thead>\n",
       "  <tbody>\n",
       "    <tr>\n",
       "      <th>2016-01-01 00:44:14</th>\n",
       "      <td>6735</td>\n",
       "      <td>False</td>\n",
       "      <td>2108</td>\n",
       "      <td>Twitter for Android</td>\n",
       "      <td>I will be on  live,  with members of my family...</td>\n",
       "      <td>0.7519</td>\n",
       "      <td>pos</td>\n",
       "      <td>0</td>\n",
       "      <td>Friday</td>\n",
       "    </tr>\n",
       "    <tr>\n",
       "      <th>2016-01-01 03:25:27</th>\n",
       "      <td>8581</td>\n",
       "      <td>False</td>\n",
       "      <td>3460</td>\n",
       "      <td>Twitter for iPhone</td>\n",
       "      <td>HAPPY NEW YEAR  THANK YOU!</td>\n",
       "      <td>0.7574</td>\n",
       "      <td>pos</td>\n",
       "      <td>3</td>\n",
       "      <td>Friday</td>\n",
       "    </tr>\n",
       "    <tr>\n",
       "      <th>2016-01-01 05:18:23</th>\n",
       "      <td>9143</td>\n",
       "      <td>False</td>\n",
       "      <td>3434</td>\n",
       "      <td>Twitter for iPhone</td>\n",
       "      <td>#HappyNewYearAmerica!</td>\n",
       "      <td>0.0000</td>\n",
       "      <td>neu</td>\n",
       "      <td>5</td>\n",
       "      <td>Friday</td>\n",
       "    </tr>\n",
       "    <tr>\n",
       "      <th>2016-01-01 06:07:28</th>\n",
       "      <td>8258</td>\n",
       "      <td>False</td>\n",
       "      <td>1948</td>\n",
       "      <td>Twitter for iPhone</td>\n",
       "      <td>Happy New Year from #MarALago! Thank you to my...</td>\n",
       "      <td>0.9230</td>\n",
       "      <td>pos</td>\n",
       "      <td>6</td>\n",
       "      <td>Friday</td>\n",
       "    </tr>\n",
       "    <tr>\n",
       "      <th>2016-01-01 06:08:06</th>\n",
       "      <td>7490</td>\n",
       "      <td>False</td>\n",
       "      <td>2721</td>\n",
       "      <td>Twitter for Android</td>\n",
       "      <td>\" Hillary said she was in a \"Fog of War\" as ex...</td>\n",
       "      <td>-0.8478</td>\n",
       "      <td>neg</td>\n",
       "      <td>6</td>\n",
       "      <td>Friday</td>\n",
       "    </tr>\n",
       "  </tbody>\n",
       "</table>\n",
       "</div>"
      ],
      "text/plain": [
       "                     favorite_count  is_retweet  retweet_count  \\\n",
       "created_at                                                       \n",
       "2016-01-01 00:44:14            6735       False           2108   \n",
       "2016-01-01 03:25:27            8581       False           3460   \n",
       "2016-01-01 05:18:23            9143       False           3434   \n",
       "2016-01-01 06:07:28            8258       False           1948   \n",
       "2016-01-01 06:08:06            7490       False           2721   \n",
       "\n",
       "                                  source  \\\n",
       "created_at                                 \n",
       "2016-01-01 00:44:14  Twitter for Android   \n",
       "2016-01-01 03:25:27   Twitter for iPhone   \n",
       "2016-01-01 05:18:23   Twitter for iPhone   \n",
       "2016-01-01 06:07:28   Twitter for iPhone   \n",
       "2016-01-01 06:08:06  Twitter for Android   \n",
       "\n",
       "                                                                  text  \\\n",
       "created_at                                                               \n",
       "2016-01-01 00:44:14  I will be on  live,  with members of my family...   \n",
       "2016-01-01 03:25:27                       HAPPY NEW YEAR  THANK YOU!     \n",
       "2016-01-01 05:18:23                             #HappyNewYearAmerica!    \n",
       "2016-01-01 06:07:28  Happy New Year from #MarALago! Thank you to my...   \n",
       "2016-01-01 06:08:06  \" Hillary said she was in a \"Fog of War\" as ex...   \n",
       "\n",
       "                        com mood  hours weekday  \n",
       "created_at                                       \n",
       "2016-01-01 00:44:14  0.7519  pos      0  Friday  \n",
       "2016-01-01 03:25:27  0.7574  pos      3  Friday  \n",
       "2016-01-01 05:18:23  0.0000  neu      5  Friday  \n",
       "2016-01-01 06:07:28  0.9230  pos      6  Friday  \n",
       "2016-01-01 06:08:06 -0.8478  neg      6  Friday  "
      ]
     },
     "execution_count": 219,
     "metadata": {},
     "output_type": "execute_result"
    }
   ],
   "source": [
    "trump.head()"
   ]
  },
  {
   "cell_type": "code",
   "execution_count": 297,
   "metadata": {},
   "outputs": [
    {
     "data": {
      "image/png": "[encoded data removed]",
      "text/plain": [
       "<matplotlib.figure.Figure at 0x1f0c3853f60>"
      ]
     },
     "metadata": {},
     "output_type": "display_data"
    }
   ],
   "source": [
    "hour = trump['hours'].value_counts()\n",
    "hr_values = hour.values\n",
    "\n",
    "plt.figure(figsize=(20,20))\n",
    "ax = plt.subplot()\n",
    "sns.barplot(x='hours',y='favorite_count', data=trump)\n",
    "ax.set_xlabel('Hours', fontsize=20)\n",
    "ax.set_ylabel('Count', fontsize=20)\n",
    "ax.set_title('Number of Tweets by Hour')\n",
    "ax.set_xticklabels(hour.index, fontsize=15)\n",
    "\n",
    "rects = ax.patches\n",
    "\n",
    "for rect, val in zip(rects, hr_values):\n",
    "    height = rect.get_height()\n",
    "    ax.text(rect.get_x() + rect.get_width()/2, height + 2, val, ha='center', va='top', fontsize=15)"
   ]
  },
  {
   "cell_type": "code",
   "execution_count": 295,
   "metadata": {},
   "outputs": [
    {
     "data": {
      "text/plain": [
       "<matplotlib.axes._subplots.AxesSubplot at 0x1f0c531c160>"
      ]
     },
     "execution_count": 295,
     "metadata": {},
     "output_type": "execute_result"
    },
    {
     "data": {
      "image/png": "[encoded data removed]",
      "text/plain": [
       "<matplotlib.figure.Figure at 0x1f0c58507f0>"
      ]
     },
     "metadata": {},
     "output_type": "display_data"
    }
   ],
   "source": [
    "sns.barplot(x='hours',y='favorite_count', data=trump)\n"
   ]
  },
  {
   "cell_type": "code",
   "execution_count": 223,
   "metadata": {},
   "outputs": [
    {
     "data": {
      "text/plain": [
       "12    447\n",
       "13    430\n",
       "11    386\n",
       "2     357\n",
       "1     337\n",
       "21    317\n",
       "22    305\n",
       "14    298\n",
       "20    297\n",
       "16    276\n",
       "19    273\n",
       "23    271\n",
       "0     248\n",
       "18    246\n",
       "15    240\n",
       "17    237\n",
       "10    234\n",
       "3     231\n",
       "4     123\n",
       "5      74\n",
       "6      37\n",
       "9      31\n",
       "7      16\n",
       "8       6\n",
       "Name: hours, dtype: int64"
      ]
     },
     "execution_count": 223,
     "metadata": {},
     "output_type": "execute_result"
    }
   ],
   "source": [
    "hour"
   ]
  },
  {
   "cell_type": "code",
   "execution_count": 217,
   "metadata": {},
   "outputs": [
    {
     "data": {
      "image/png": "[encoded data removed]",
      "text/plain": [
       "<matplotlib.figure.Figure at 0x1f0c15e1048>"
      ]
     },
     "metadata": {},
     "output_type": "display_data"
    }
   ],
   "source": [
    "weekday = trump['weekday'].value_counts()\n",
    "day_values = weekday.values\n",
    "\n",
    "plt.figure(figsize=(12,8))\n",
    "ax = plt.subplot()\n",
    "sns.barplot(weekday.index, weekday.values, alpha=.8)\n",
    "ax.set_xlabel('weekday', fontsize=20)\n",
    "ax.set_ylabel('Count', fontsize=20)\n",
    "ax.set_title('Number of Tweets per Weekday')\n",
    "ax.set_xticklabels(weekday.index, fontsize=15)\n",
    "\n",
    "rects = ax.patches\n",
    "\n",
    "for rect, val in zip(rects, day_values):\n",
    "    height = rect.get_height()\n",
    "    ax.text(rect.get_x() + rect.get_width()/2, height + 20, val, ha='center', va='top', fontsize=15)"
   ]
  },
  {
   "cell_type": "code",
   "execution_count": 258,
   "metadata": {},
   "outputs": [
    {
     "data": {
      "text/plain": [
       "(7, 1)"
      ]
     },
     "execution_count": 258,
     "metadata": {},
     "output_type": "execute_result"
    }
   ],
   "source": [
    "week_grp = trump.groupby('weekday')['weekday', 'favorite_count'].sum()\n",
    "week_grp"
   ]
  },
  {
   "cell_type": "code",
   "execution_count": 281,
   "metadata": {},
   "outputs": [
    {
     "data": {
      "text/plain": [
       "hours\n",
       "0      8173242\n",
       "1      8741314\n",
       "2     11517849\n",
       "3      6461475\n",
       "4      3414425\n",
       "5      1316657\n",
       "6       693010\n",
       "7       714588\n",
       "8       268637\n",
       "9       826565\n",
       "10    10322864\n",
       "11    20769262\n",
       "12    23597948\n",
       "13    21392874\n",
       "14    11031964\n",
       "15     7191940\n",
       "16     7534309\n",
       "17     8551829\n",
       "18     7339524\n",
       "19     7979615\n",
       "20     9780345\n",
       "21     9347718\n",
       "22     9862456\n",
       "23     9926889\n",
       "Name: favorite_count, dtype: int64"
      ]
     },
     "execution_count": 281,
     "metadata": {},
     "output_type": "execute_result"
    }
   ],
   "source": [
    "hour_grp = trump.groupby('hours')[ 'favorite_count'].sum()\n",
    "hour_grp"
   ]
  },
  {
   "cell_type": "code",
   "execution_count": 282,
   "metadata": {
    "collapsed": true
   },
   "outputs": [],
   "source": [
    "df = pd.DataFrame(hour_grp)"
   ]
  },
  {
   "cell_type": "code",
   "execution_count": 283,
   "metadata": {
    "collapsed": true
   },
   "outputs": [],
   "source": [
    "df.reset_index( inplace=True)"
   ]
  },
  {
   "cell_type": "code",
   "execution_count": 287,
   "metadata": {},
   "outputs": [
    {
     "data": {
      "image/png": "[encoded data removed]",
      "text/plain": [
       "<matplotlib.figure.Figure at 0x1f0c337fd30>"
      ]
     },
     "metadata": {},
     "output_type": "display_data"
    }
   ],
   "source": [
    "sns.barplot(x=\"hours\", y=\"favorite_count\", data=df)"
   ]
  },
  {
   "cell_type": "code",
   "execution_count": 290,
   "metadata": {},
   "outputs": [
    {
     "data": {
      "image/png": "[encoded data removed]",
      "text/plain": [
       "<matplotlib.figure.Figure at 0x1f0c35bbf60>"
      ]
     },
     "metadata": {},
     "output_type": "display_data"
    }
   ],
   "source": [
    "hours = df['hours'].value_counts()\n",
    "hour_values = hours.values\n",
    "\n",
    "plt.figure(figsize=(12,8))\n",
    "ax = plt.subplot()\n",
    "sns.barplot(x='hours',y='favorite_count', data=df)\n",
    "ax.set_xlabel('Hour', fontsize=20)\n",
    "ax.set_ylabel('Favorite Count', fontsize=20)\n",
    "ax.set_title('Number of Likes per Hour')\n",
    "ax.set_xticklabels(hours.index, fontsize=10)\n",
    "ax.set_yticklabels(hours.values, fontsize=10)\n",
    "\n",
    "rects = ax.patches\n",
    "\n",
    "for rect, val in zip(rects, hour_values):\n",
    "    height = rect.get_height()\n",
    "    ax.text(rect.get_x() + rect.get_width()/2, height + 20, val, ha='center', va='top', fontsize=15)"
   ]
  },
  {
   "cell_type": "code",
   "execution_count": 263,
   "metadata": {},
   "outputs": [
    {
     "data": {
      "text/plain": [
       "mood\n",
       "neg     66570647\n",
       "neu     27120999\n",
       "pos    113065653\n",
       "Name: favorite_count, dtype: int64"
      ]
     },
     "execution_count": 263,
     "metadata": {},
     "output_type": "execute_result"
    }
   ],
   "source": [
    "mood_grp = trump.groupby('mood')['favorite_count'].sum()\n",
    "mood_grp"
   ]
  },
  {
   "cell_type": "code",
   "execution_count": 264,
   "metadata": {},
   "outputs": [
    {
     "data": {
      "text/plain": [
       "<matplotlib.axes._subplots.AxesSubplot at 0x1f0c3083d30>"
      ]
     },
     "execution_count": 264,
     "metadata": {},
     "output_type": "execute_result"
    },
    {
     "data": {
      "image/png": "[encoded data removed]",
      "text/plain": [
       "<matplotlib.figure.Figure at 0x1f0c075c630>"
      ]
     },
     "metadata": {},
     "output_type": "display_data"
    }
   ],
   "source": [
    "mood_grp.plot.bar()"
   ]
  },
  {
   "cell_type": "code",
   "execution_count": 262,
   "metadata": {},
   "outputs": [
    {
     "data": {
      "text/plain": [
       "<matplotlib.axes._subplots.AxesSubplot at 0x1f0c09b9358>"
      ]
     },
     "execution_count": 262,
     "metadata": {},
     "output_type": "execute_result"
    },
    {
     "data": {
      "image/png": "[encoded data removed]",
      "text/plain": [
       "<matplotlib.figure.Figure at 0x1f0c28ab748>"
      ]
     },
     "metadata": {},
     "output_type": "display_data"
    }
   ],
   "source": [
    "hour_grp.plot.bar()"
   ]
  },
  {
   "cell_type": "code",
   "execution_count": 255,
   "metadata": {},
   "outputs": [
    {
     "data": {
      "text/plain": [
       "<matplotlib.axes._subplots.AxesSubplot at 0x1f0c2ed88d0>"
      ]
     },
     "execution_count": 255,
     "metadata": {},
     "output_type": "execute_result"
    },
    {
     "data": {
      "text/plain": [
       "<matplotlib.figure.Figure at 0x1f0c2eabac8>"
      ]
     },
     "metadata": {},
     "output_type": "display_data"
    },
    {
     "data": {
      "image/png": "[encoded data removed]",
      "text/plain": [
       "<matplotlib.figure.Figure at 0x1f0c2ed09e8>"
      ]
     },
     "metadata": {},
     "output_type": "display_data"
    }
   ],
   "source": [
    "plt.figure(figsize=(20,16))\n",
    "week_grp.plot.bar()"
   ]
  },
  {
   "cell_type": "code",
   "execution_count": 256,
   "metadata": {},
   "outputs": [
    {
     "ename": "Exception",
     "evalue": "Data must be 1-dimensional",
     "output_type": "error",
     "traceback": [
      "\u001b[1;31m---------------------------------------------------------------------------\u001b[0m",
      "\u001b[1;31mException\u001b[0m                                 Traceback (most recent call last)",
      "\u001b[1;32m<ipython-input-256-3ae7c5680cf0>\u001b[0m in \u001b[0;36m<module>\u001b[1;34m()\u001b[0m\n\u001b[0;32m      2\u001b[0m \u001b[0mplt\u001b[0m\u001b[1;33m.\u001b[0m\u001b[0mfigure\u001b[0m\u001b[1;33m(\u001b[0m\u001b[0mfigsize\u001b[0m\u001b[1;33m=\u001b[0m\u001b[1;33m(\u001b[0m\u001b[1;36m20\u001b[0m\u001b[1;33m,\u001b[0m\u001b[1;36m20\u001b[0m\u001b[1;33m)\u001b[0m\u001b[1;33m)\u001b[0m\u001b[1;33m\u001b[0m\u001b[0m\n\u001b[0;32m      3\u001b[0m \u001b[0max\u001b[0m \u001b[1;33m=\u001b[0m \u001b[0mplt\u001b[0m\u001b[1;33m.\u001b[0m\u001b[0msubplot\u001b[0m\u001b[1;33m(\u001b[0m\u001b[1;33m)\u001b[0m\u001b[1;33m\u001b[0m\u001b[0m\n\u001b[1;32m----> 4\u001b[1;33m \u001b[0msns\u001b[0m\u001b[1;33m.\u001b[0m\u001b[0mbarplot\u001b[0m\u001b[1;33m(\u001b[0m\u001b[0mweek_grp\u001b[0m\u001b[1;33m.\u001b[0m\u001b[0mindex\u001b[0m\u001b[1;33m,\u001b[0m\u001b[0mweek_grp\u001b[0m\u001b[1;33m.\u001b[0m\u001b[0mvalues\u001b[0m\u001b[1;33m,\u001b[0m \u001b[0malpha\u001b[0m\u001b[1;33m=\u001b[0m\u001b[1;36m.8\u001b[0m\u001b[1;33m)\u001b[0m\u001b[1;33m\u001b[0m\u001b[0m\n\u001b[0m\u001b[0;32m      5\u001b[0m \u001b[0max\u001b[0m\u001b[1;33m.\u001b[0m\u001b[0mset_xlabel\u001b[0m\u001b[1;33m(\u001b[0m\u001b[1;34m'Weekday'\u001b[0m\u001b[1;33m,\u001b[0m \u001b[0mfontsize\u001b[0m\u001b[1;33m=\u001b[0m\u001b[1;36m20\u001b[0m\u001b[1;33m)\u001b[0m\u001b[1;33m\u001b[0m\u001b[0m\n\u001b[0;32m      6\u001b[0m \u001b[0max\u001b[0m\u001b[1;33m.\u001b[0m\u001b[0mset_ylabel\u001b[0m\u001b[1;33m(\u001b[0m\u001b[1;34m'Total Favorite Count'\u001b[0m\u001b[1;33m,\u001b[0m \u001b[0mfontsize\u001b[0m\u001b[1;33m=\u001b[0m\u001b[1;36m20\u001b[0m\u001b[1;33m)\u001b[0m\u001b[1;33m\u001b[0m\u001b[0m\n",
      "\u001b[1;32m~\\Anaconda2\\envs\\neural_net\\lib\\site-packages\\seaborn\\categorical.py\u001b[0m in \u001b[0;36mbarplot\u001b[1;34m(x, y, hue, data, order, hue_order, estimator, ci, n_boot, units, orient, color, palette, saturation, errcolor, errwidth, capsize, dodge, ax, **kwargs)\u001b[0m\n\u001b[0;32m   2957\u001b[0m                           \u001b[0mestimator\u001b[0m\u001b[1;33m,\u001b[0m \u001b[0mci\u001b[0m\u001b[1;33m,\u001b[0m \u001b[0mn_boot\u001b[0m\u001b[1;33m,\u001b[0m \u001b[0munits\u001b[0m\u001b[1;33m,\u001b[0m\u001b[1;33m\u001b[0m\u001b[0m\n\u001b[0;32m   2958\u001b[0m                           \u001b[0morient\u001b[0m\u001b[1;33m,\u001b[0m \u001b[0mcolor\u001b[0m\u001b[1;33m,\u001b[0m \u001b[0mpalette\u001b[0m\u001b[1;33m,\u001b[0m \u001b[0msaturation\u001b[0m\u001b[1;33m,\u001b[0m\u001b[1;33m\u001b[0m\u001b[0m\n\u001b[1;32m-> 2959\u001b[1;33m                           errcolor, errwidth, capsize, dodge)\n\u001b[0m\u001b[0;32m   2960\u001b[0m \u001b[1;33m\u001b[0m\u001b[0m\n\u001b[0;32m   2961\u001b[0m     \u001b[1;32mif\u001b[0m \u001b[0max\u001b[0m \u001b[1;32mis\u001b[0m \u001b[1;32mNone\u001b[0m\u001b[1;33m:\u001b[0m\u001b[1;33m\u001b[0m\u001b[0m\n",
      "\u001b[1;32m~\\Anaconda2\\envs\\neural_net\\lib\\site-packages\\seaborn\\categorical.py\u001b[0m in \u001b[0;36m__init__\u001b[1;34m(self, x, y, hue, data, order, hue_order, estimator, ci, n_boot, units, orient, color, palette, saturation, errcolor, errwidth, capsize, dodge)\u001b[0m\n\u001b[0;32m   1594\u001b[0m         \u001b[1;34m\"\"\"Initialize the plotter.\"\"\"\u001b[0m\u001b[1;33m\u001b[0m\u001b[0m\n\u001b[0;32m   1595\u001b[0m         self.establish_variables(x, y, hue, data, orient,\n\u001b[1;32m-> 1596\u001b[1;33m                                  order, hue_order, units)\n\u001b[0m\u001b[0;32m   1597\u001b[0m         \u001b[0mself\u001b[0m\u001b[1;33m.\u001b[0m\u001b[0mestablish_colors\u001b[0m\u001b[1;33m(\u001b[0m\u001b[0mcolor\u001b[0m\u001b[1;33m,\u001b[0m \u001b[0mpalette\u001b[0m\u001b[1;33m,\u001b[0m \u001b[0msaturation\u001b[0m\u001b[1;33m)\u001b[0m\u001b[1;33m\u001b[0m\u001b[0m\n\u001b[0;32m   1598\u001b[0m         \u001b[0mself\u001b[0m\u001b[1;33m.\u001b[0m\u001b[0mestimate_statistic\u001b[0m\u001b[1;33m(\u001b[0m\u001b[0mestimator\u001b[0m\u001b[1;33m,\u001b[0m \u001b[0mci\u001b[0m\u001b[1;33m,\u001b[0m \u001b[0mn_boot\u001b[0m\u001b[1;33m)\u001b[0m\u001b[1;33m\u001b[0m\u001b[0m\n",
      "\u001b[1;32m~\\Anaconda2\\envs\\neural_net\\lib\\site-packages\\seaborn\\categorical.py\u001b[0m in \u001b[0;36mestablish_variables\u001b[1;34m(self, x, y, hue, data, orient, order, hue_order, units)\u001b[0m\n\u001b[0;32m    201\u001b[0m                 \u001b[1;31m# Group the numeric data\u001b[0m\u001b[1;33m\u001b[0m\u001b[1;33m\u001b[0m\u001b[0m\n\u001b[0;32m    202\u001b[0m                 plot_data, value_label = self._group_longform(vals, groups,\n\u001b[1;32m--> 203\u001b[1;33m                                                               group_names)\n\u001b[0m\u001b[0;32m    204\u001b[0m \u001b[1;33m\u001b[0m\u001b[0m\n\u001b[0;32m    205\u001b[0m                 \u001b[1;31m# Now handle the hue levels for nested ordering\u001b[0m\u001b[1;33m\u001b[0m\u001b[1;33m\u001b[0m\u001b[0m\n",
      "\u001b[1;32m~\\Anaconda2\\envs\\neural_net\\lib\\site-packages\\seaborn\\categorical.py\u001b[0m in \u001b[0;36m_group_longform\u001b[1;34m(self, vals, grouper, order)\u001b[0m\n\u001b[0;32m    240\u001b[0m         \u001b[1;31m# Ensure that the groupby will work\u001b[0m\u001b[1;33m\u001b[0m\u001b[1;33m\u001b[0m\u001b[0m\n\u001b[0;32m    241\u001b[0m         \u001b[1;32mif\u001b[0m \u001b[1;32mnot\u001b[0m \u001b[0misinstance\u001b[0m\u001b[1;33m(\u001b[0m\u001b[0mvals\u001b[0m\u001b[1;33m,\u001b[0m \u001b[0mpd\u001b[0m\u001b[1;33m.\u001b[0m\u001b[0mSeries\u001b[0m\u001b[1;33m)\u001b[0m\u001b[1;33m:\u001b[0m\u001b[1;33m\u001b[0m\u001b[0m\n\u001b[1;32m--> 242\u001b[1;33m             \u001b[0mvals\u001b[0m \u001b[1;33m=\u001b[0m \u001b[0mpd\u001b[0m\u001b[1;33m.\u001b[0m\u001b[0mSeries\u001b[0m\u001b[1;33m(\u001b[0m\u001b[0mvals\u001b[0m\u001b[1;33m)\u001b[0m\u001b[1;33m\u001b[0m\u001b[0m\n\u001b[0m\u001b[0;32m    243\u001b[0m \u001b[1;33m\u001b[0m\u001b[0m\n\u001b[0;32m    244\u001b[0m         \u001b[1;31m# Group the val data\u001b[0m\u001b[1;33m\u001b[0m\u001b[1;33m\u001b[0m\u001b[0m\n",
      "\u001b[1;32m~\\Anaconda2\\envs\\neural_net\\lib\\site-packages\\pandas\\core\\series.py\u001b[0m in \u001b[0;36m__init__\u001b[1;34m(self, data, index, dtype, name, copy, fastpath)\u001b[0m\n\u001b[0;32m    246\u001b[0m             \u001b[1;32melse\u001b[0m\u001b[1;33m:\u001b[0m\u001b[1;33m\u001b[0m\u001b[0m\n\u001b[0;32m    247\u001b[0m                 data = _sanitize_array(data, index, dtype, copy,\n\u001b[1;32m--> 248\u001b[1;33m                                        raise_cast_failure=True)\n\u001b[0m\u001b[0;32m    249\u001b[0m \u001b[1;33m\u001b[0m\u001b[0m\n\u001b[0;32m    250\u001b[0m                 \u001b[0mdata\u001b[0m \u001b[1;33m=\u001b[0m \u001b[0mSingleBlockManager\u001b[0m\u001b[1;33m(\u001b[0m\u001b[0mdata\u001b[0m\u001b[1;33m,\u001b[0m \u001b[0mindex\u001b[0m\u001b[1;33m,\u001b[0m \u001b[0mfastpath\u001b[0m\u001b[1;33m=\u001b[0m\u001b[1;32mTrue\u001b[0m\u001b[1;33m)\u001b[0m\u001b[1;33m\u001b[0m\u001b[0m\n",
      "\u001b[1;32m~\\Anaconda2\\envs\\neural_net\\lib\\site-packages\\pandas\\core\\series.py\u001b[0m in \u001b[0;36m_sanitize_array\u001b[1;34m(data, index, dtype, copy, raise_cast_failure)\u001b[0m\n\u001b[0;32m   3025\u001b[0m     \u001b[1;32melif\u001b[0m \u001b[0msubarr\u001b[0m\u001b[1;33m.\u001b[0m\u001b[0mndim\u001b[0m \u001b[1;33m>\u001b[0m \u001b[1;36m1\u001b[0m\u001b[1;33m:\u001b[0m\u001b[1;33m\u001b[0m\u001b[0m\n\u001b[0;32m   3026\u001b[0m         \u001b[1;32mif\u001b[0m \u001b[0misinstance\u001b[0m\u001b[1;33m(\u001b[0m\u001b[0mdata\u001b[0m\u001b[1;33m,\u001b[0m \u001b[0mnp\u001b[0m\u001b[1;33m.\u001b[0m\u001b[0mndarray\u001b[0m\u001b[1;33m)\u001b[0m\u001b[1;33m:\u001b[0m\u001b[1;33m\u001b[0m\u001b[0m\n\u001b[1;32m-> 3027\u001b[1;33m             \u001b[1;32mraise\u001b[0m \u001b[0mException\u001b[0m\u001b[1;33m(\u001b[0m\u001b[1;34m'Data must be 1-dimensional'\u001b[0m\u001b[1;33m)\u001b[0m\u001b[1;33m\u001b[0m\u001b[0m\n\u001b[0m\u001b[0;32m   3028\u001b[0m         \u001b[1;32melse\u001b[0m\u001b[1;33m:\u001b[0m\u001b[1;33m\u001b[0m\u001b[0m\n\u001b[0;32m   3029\u001b[0m             \u001b[0msubarr\u001b[0m \u001b[1;33m=\u001b[0m \u001b[0m_asarray_tuplesafe\u001b[0m\u001b[1;33m(\u001b[0m\u001b[0mdata\u001b[0m\u001b[1;33m,\u001b[0m \u001b[0mdtype\u001b[0m\u001b[1;33m=\u001b[0m\u001b[0mdtype\u001b[0m\u001b[1;33m)\u001b[0m\u001b[1;33m\u001b[0m\u001b[0m\n",
      "\u001b[1;31mException\u001b[0m: Data must be 1-dimensional"
     ]
    },
    {
     "data": {
      "image/png": "[encoded data removed]",
      "text/plain": [
       "<matplotlib.figure.Figure at 0x1f0c166f358>"
      ]
     },
     "metadata": {},
     "output_type": "display_data"
    }
   ],
   "source": [
    "\n",
    "plt.figure(figsize=(20,20))\n",
    "ax = plt.subplot()\n",
    "sns.barplot(week_grp.index,week_grp.values, alpha=.8)\n",
    "ax.set_xlabel('Weekday', fontsize=20)\n",
    "ax.set_ylabel('Total Favorite Count', fontsize=20)\n",
    "ax.set_title('Number of Likes per Day')\n",
    "ax.set_xticklabels(week_grp.index, fontsize=15)\n",
    "\n",
    "\n",
    "rects = ax.patches\n",
    "\n",
    "for rect, val in zip(rects, wk_values):\n",
    "    height = rect.get_height()\n",
    "    ax.text(rect.get_x() + rect.get_width()/2, height + 2, val, ha='center', va='top', fontsize=15)"
   ]
  },
  {
   "cell_type": "markdown",
   "metadata": {},
   "source": [
    "Let's investigate to see if the wrtiting styles of the different sources are different"
   ]
  },
  {
   "cell_type": "code",
   "execution_count": 193,
   "metadata": {},
   "outputs": [
    {
     "name": "stdout",
     "output_type": "stream",
     "text": [
      "Device Name:  Twitter Web Client\n",
      "I look forward to being in Lowell, Massachusetts, today. I hear a very big crowd is expected--we will have lots of fun!\n",
      "Woody Johnson, owner of the NYJets, is  finance chairman. If Woody would’ve been w/me, he would’ve been in the playoffs, at least!\n",
      "Wow  circulation in NH has dropped from 75,000 to around 10—bad management. No wonder they begged me for ads.\n",
      "I don’t know  to best of my knowledge haven't played golf w/him  think he does too many TV commercials—boring. Not a fan.\n",
      "\"  What's wrong with showing Morocco? Nothing! It illustrates a Point! Duh! Love the video!\"\n",
      "\"   I love it when TRUMP calls out MSM for what they really are!  Cams starting to show crowds at rallies!\"\n",
      "I don’t cheat at golf but  cheats—with his game he has no choice—and stop doing commercials!\n",
      "Don’t like  golf swing.  Not athletic. I’ve won many club championships. Play him for charity!\n",
      "I will be on  for a  interview today. Please join us 5PM ET.\n",
      "Massive crowd in VT tonight. Venue not big enough. Officials say NO to outside event and sound system. Arrive early!\n",
      ". Ted--free legal advice on how to pre-empt the Dems on citizen issue. Go to court now  seek Declaratory Judgment--you will win!\n",
      "I have an idea for  whose campaign is a disaster. Try using your last name and don't be ashamed of it!\n",
      "Weak  ineffective  is doing ads where he shows his statement in the debate but not my response. False advertising!\n",
      "Hillary and her friends! \n",
      "RT  Explosive Trump attack on HRC, Bill, Monica, Cosby, and Weiner. Trump camp just upped the ante on \"women's rights\" \n",
      "\n",
      "\n",
      "Device Name:  Twitter for Android\n",
      "I will be on  live,  with members of my family, at 11:50 P.M. We will ring in the New Year together! MAKE AMERICA GREAT AGAIN!\n",
      "\" Hillary said she was in a \"Fog of War\" as explanation for the lies about Benghazi. No fog allowed in WH. Vote Trump POTUS!\"\n",
      "\"   they're spending millions but you're still going to win - go Donald Trump\"\n",
      "Well, the year has officially begun. I have many stops planned and will be working very hard to win so that we can turn our country around!\n",
      "\"  we love u to Trump Family. God bless you.\"\n",
      "\" We are Standing with you! Spreading the Word...Trump for President 2016!! I wake  sleep praying for you  the USA!+Israel2\"\n",
      "\" I'm one of your biggest fans Mr Trump and I can't wait for you to Make America Great ifAgain! Never forget you have support!\"\n",
      "\"  Huckabee is a good man...but he needs to get behind   I agree!\n",
      "I will be going to Mississippi tomorrow night - hear the crowds are going to be massive! Look forward to it.\n",
      "\" I have never been interested in politics but because of you I want to get my political science degree. #trump2016\"  Great!\n",
      "The person that Hillary Clinton least wants to run against is, by far, me. It will be the largest voter turnout ever - she will be swamped!\n",
      "Thank you so much to  for naming me the 2015 Man of the Year. This is indeed a great honor for me!\n",
      ". is a sad case. A total embarrassment to both himself and his family, he just announced he will continue to spend on Trump hit ads!\n",
      ". is a low energy \"stiff\" who should focus his special interest money on the many people ahead of him in the polls. Has no chance!\n",
      "Hillary Clinton said that it is O.K. to ban Muslims from Israel by building a WALL, but not O.K. to do so in the U.S. We must be vigilant!\n",
      "\n",
      "\n",
      "Device Name:  Twitter for iPad\n",
      "Great job  #RNCinCLE\n",
      "\n",
      "Thank you! #MakeAmericaGreatAgain \n",
      "#CrookedHillary #ThrowbackThursday \n",
      "Thank you Michigan. This is a MOVEMENT. We are going to MAKE AMERICA SAFE AND GREAT AGAIN! #TrumpPence16 \n",
      "My condolences to Dwyane Wade and his family, on the loss of Nykea Aldridge. They are in my thoughts and prayers.\n",
      "Just landed in Iowa to attend a great event in honor of wonderful Senator  Look forward to being with all of my friends.\n",
      "Thank you Iowa! #ImWithYou \n",
      "We will repeal and replace the horrible disaster known as #Obamacare! \n",
      "RT  REUTERS POLL:  CLINTON, TRUMP ALL TIED UP... \n",
      "RT  We are ALREADY LIVE in Everett, WA for the Trump Rally. Come join us- our cameras tonight! #TrumpinEverett \n",
      "\n",
      "\n",
      "Thank you Washington! Together, WE will MAKE AMERICA SAFE AND GREAT AGAIN! #ImWithYou #AmericaFirst \n",
      "#ImWithYou \n",
      "Great meeting with military spouses in Virginia- joined by      \n",
      "It wasn't Matt Lauer that hurt Hillary last night. It was her very dumb answer about emails  the veteran who said she should be in jail.\n",
      "Thank you for a great evening - Laconia, New Hampshire -- will be back soon! #AmericaFirst\n",
      " \n",
      "\n",
      "\n",
      "Device Name:  Twitter for iPhone\n",
      "HAPPY NEW YEAR  THANK YOU!  \n",
      "#HappyNewYearAmerica! \n",
      "Happy New Year from #MarALago! Thank you to my great family for all of their support. \n",
      "#VoteTrump2016  together we will #MakeAmericaGreatAgain! THANK YOU for your support! \n",
      "Massive crowds expected in Mississippi tomorrow night. Look forward to it! 2015 IN PHOTOS:  \n",
      "Heading to Biloxi, Mississippi. Massive crowds expected. Thank you for your support! #VoteTrump2016 \n",
      "RT  So proud to be out on the campaign trail with  - thanks for an amazing night #Biloxi #Trump2016 \n",
      "Thank you #Biloxi, #Mississippi! Remember this night  spread the word to get out  #VoteTrump2016! \n",
      "Thank you for your support in Biloxi, MS! Let's ALL get out  VOTE in 2016, so we can #MakeAmericaGreatAgain! \n",
      "The worst thing Hillary could do is have her husband campaign for her. Just watch.\n",
      "By the way, Hillary  the MSM forgot to mention that Hillary is in the \n",
      "Al-Shabaab terror video. \n",
      "I am in New Hampshire. Just received great news from Reuters poll. Thank you for your support! \n",
      "HAPPY BIRTHDAY to my son,  Very proud of you!\n",
      " \n",
      "Huge crowd expected tomorrow night! VT Police say first come, first serve. Arrive early!\n",
      "Do you believe that  in NH was demanding ads? Look at enclosed letter from them, just received: \n",
      "\n",
      "\n"
     ]
    }
   ],
   "source": [
    "sources_grp = trump.groupby('source')\n",
    "for device, group in sources_grp:\n",
    "    print('Device Name: ', device)\n",
    "    count=0\n",
    "    for ind , row in group.iterrows():\n",
    "        print(row['text'])\n",
    "        count +=1\n",
    "        if count == 15:\n",
    "            break\n",
    "    print('\\n')"
   ]
  },
  {
   "cell_type": "code",
   "execution_count": 214,
   "metadata": {},
   "outputs": [
    {
     "data": {
      "text/html": [
       "<div>\n",
       "<style>\n",
       "    .dataframe thead tr:only-child th {\n",
       "        text-align: right;\n",
       "    }\n",
       "\n",
       "    .dataframe thead th {\n",
       "        text-align: left;\n",
       "    }\n",
       "\n",
       "    .dataframe tbody tr th {\n",
       "        vertical-align: top;\n",
       "    }\n",
       "</style>\n",
       "<table border=\"1\" class=\"dataframe\">\n",
       "  <thead>\n",
       "    <tr style=\"text-align: right;\">\n",
       "      <th></th>\n",
       "      <th>favorite_count</th>\n",
       "      <th>is_retweet</th>\n",
       "      <th>retweet_count</th>\n",
       "      <th>source</th>\n",
       "      <th>text</th>\n",
       "      <th>com</th>\n",
       "      <th>mood</th>\n",
       "      <th>hours</th>\n",
       "      <th>weekday</th>\n",
       "    </tr>\n",
       "    <tr>\n",
       "      <th>created_at</th>\n",
       "      <th></th>\n",
       "      <th></th>\n",
       "      <th></th>\n",
       "      <th></th>\n",
       "      <th></th>\n",
       "      <th></th>\n",
       "      <th></th>\n",
       "      <th></th>\n",
       "      <th></th>\n",
       "    </tr>\n",
       "  </thead>\n",
       "  <tbody>\n",
       "    <tr>\n",
       "      <th>2016-01-01 00:44:14</th>\n",
       "      <td>6735</td>\n",
       "      <td>False</td>\n",
       "      <td>2108</td>\n",
       "      <td>Twitter for Android</td>\n",
       "      <td>I will be on  live,  with members of my family...</td>\n",
       "      <td>0.7519</td>\n",
       "      <td>pos</td>\n",
       "      <td>0</td>\n",
       "      <td>Friday</td>\n",
       "    </tr>\n",
       "    <tr>\n",
       "      <th>2016-01-01 03:25:27</th>\n",
       "      <td>8581</td>\n",
       "      <td>False</td>\n",
       "      <td>3460</td>\n",
       "      <td>Twitter for iPhone</td>\n",
       "      <td>HAPPY NEW YEAR  THANK YOU!</td>\n",
       "      <td>0.7574</td>\n",
       "      <td>pos</td>\n",
       "      <td>3</td>\n",
       "      <td>Friday</td>\n",
       "    </tr>\n",
       "    <tr>\n",
       "      <th>2016-01-01 05:18:23</th>\n",
       "      <td>9143</td>\n",
       "      <td>False</td>\n",
       "      <td>3434</td>\n",
       "      <td>Twitter for iPhone</td>\n",
       "      <td>#HappyNewYearAmerica!</td>\n",
       "      <td>0.0000</td>\n",
       "      <td>neu</td>\n",
       "      <td>5</td>\n",
       "      <td>Friday</td>\n",
       "    </tr>\n",
       "    <tr>\n",
       "      <th>2016-01-01 06:07:28</th>\n",
       "      <td>8258</td>\n",
       "      <td>False</td>\n",
       "      <td>1948</td>\n",
       "      <td>Twitter for iPhone</td>\n",
       "      <td>Happy New Year from #MarALago! Thank you to my...</td>\n",
       "      <td>0.9230</td>\n",
       "      <td>pos</td>\n",
       "      <td>6</td>\n",
       "      <td>Friday</td>\n",
       "    </tr>\n",
       "    <tr>\n",
       "      <th>2016-01-01 06:08:06</th>\n",
       "      <td>7490</td>\n",
       "      <td>False</td>\n",
       "      <td>2721</td>\n",
       "      <td>Twitter for Android</td>\n",
       "      <td>\" Hillary said she was in a \"Fog of War\" as ex...</td>\n",
       "      <td>-0.8478</td>\n",
       "      <td>neg</td>\n",
       "      <td>6</td>\n",
       "      <td>Friday</td>\n",
       "    </tr>\n",
       "  </tbody>\n",
       "</table>\n",
       "</div>"
      ],
      "text/plain": [
       "                     favorite_count  is_retweet  retweet_count  \\\n",
       "created_at                                                       \n",
       "2016-01-01 00:44:14            6735       False           2108   \n",
       "2016-01-01 03:25:27            8581       False           3460   \n",
       "2016-01-01 05:18:23            9143       False           3434   \n",
       "2016-01-01 06:07:28            8258       False           1948   \n",
       "2016-01-01 06:08:06            7490       False           2721   \n",
       "\n",
       "                                  source  \\\n",
       "created_at                                 \n",
       "2016-01-01 00:44:14  Twitter for Android   \n",
       "2016-01-01 03:25:27   Twitter for iPhone   \n",
       "2016-01-01 05:18:23   Twitter for iPhone   \n",
       "2016-01-01 06:07:28   Twitter for iPhone   \n",
       "2016-01-01 06:08:06  Twitter for Android   \n",
       "\n",
       "                                                                  text  \\\n",
       "created_at                                                               \n",
       "2016-01-01 00:44:14  I will be on  live,  with members of my family...   \n",
       "2016-01-01 03:25:27                       HAPPY NEW YEAR  THANK YOU!     \n",
       "2016-01-01 05:18:23                             #HappyNewYearAmerica!    \n",
       "2016-01-01 06:07:28  Happy New Year from #MarALago! Thank you to my...   \n",
       "2016-01-01 06:08:06  \" Hillary said she was in a \"Fog of War\" as ex...   \n",
       "\n",
       "                        com mood  hours weekday  \n",
       "created_at                                       \n",
       "2016-01-01 00:44:14  0.7519  pos      0  Friday  \n",
       "2016-01-01 03:25:27  0.7574  pos      3  Friday  \n",
       "2016-01-01 05:18:23  0.0000  neu      5  Friday  \n",
       "2016-01-01 06:07:28  0.9230  pos      6  Friday  \n",
       "2016-01-01 06:08:06 -0.8478  neg      6  Friday  "
      ]
     },
     "execution_count": 214,
     "metadata": {},
     "output_type": "execute_result"
    }
   ],
   "source": [
    "trump.head()"
   ]
  },
  {
   "cell_type": "code",
   "execution_count": 17,
   "metadata": {
    "collapsed": true
   },
   "outputs": [],
   "source": [
    "# Convert text to lower case and split to individual words\n",
    "trump.text = trump.text.apply(lambda x: x.lower())\n",
    "trump.text = trump.text.apply(lambda x: len(x) w for w in x.split())"
   ]
  },
  {
   "cell_type": "code",
   "execution_count": 20,
   "metadata": {},
   "outputs": [
    {
     "data": {
      "text/html": [
       "<div>\n",
       "<style>\n",
       "    .dataframe thead tr:only-child th {\n",
       "        text-align: right;\n",
       "    }\n",
       "\n",
       "    .dataframe thead th {\n",
       "        text-align: left;\n",
       "    }\n",
       "\n",
       "    .dataframe tbody tr th {\n",
       "        vertical-align: top;\n",
       "    }\n",
       "</style>\n",
       "<table border=\"1\" class=\"dataframe\">\n",
       "  <thead>\n",
       "    <tr style=\"text-align: right;\">\n",
       "      <th></th>\n",
       "      <th>created_at</th>\n",
       "      <th>favorite_count</th>\n",
       "      <th>id_str</th>\n",
       "      <th>in_reply_to_user_id_str</th>\n",
       "      <th>is_retweet</th>\n",
       "      <th>retweet_count</th>\n",
       "      <th>source</th>\n",
       "      <th>text</th>\n",
       "      <th>neg</th>\n",
       "      <th>neu</th>\n",
       "      <th>pos</th>\n",
       "      <th>com</th>\n",
       "    </tr>\n",
       "  </thead>\n",
       "  <tbody>\n",
       "    <tr>\n",
       "      <th>0</th>\n",
       "      <td>2016-01-01 00:44:14</td>\n",
       "      <td>6735</td>\n",
       "      <td>682723973449289728</td>\n",
       "      <td>NaN</td>\n",
       "      <td>False</td>\n",
       "      <td>2108</td>\n",
       "      <td>Twitter for Android</td>\n",
       "      <td>[i, will, be, on, live,, with, members, of, my...</td>\n",
       "      <td>0.000</td>\n",
       "      <td>0.809</td>\n",
       "      <td>0.191</td>\n",
       "      <td>0.7519</td>\n",
       "    </tr>\n",
       "    <tr>\n",
       "      <th>1</th>\n",
       "      <td>2016-01-01 03:25:27</td>\n",
       "      <td>8581</td>\n",
       "      <td>682764544402440192</td>\n",
       "      <td>NaN</td>\n",
       "      <td>False</td>\n",
       "      <td>3460</td>\n",
       "      <td>Twitter for iPhone</td>\n",
       "      <td>[happy, new, year, thank, you!]</td>\n",
       "      <td>0.000</td>\n",
       "      <td>0.316</td>\n",
       "      <td>0.684</td>\n",
       "      <td>0.7574</td>\n",
       "    </tr>\n",
       "    <tr>\n",
       "      <th>2</th>\n",
       "      <td>2016-01-01 05:18:23</td>\n",
       "      <td>9143</td>\n",
       "      <td>682792967736848384</td>\n",
       "      <td>NaN</td>\n",
       "      <td>False</td>\n",
       "      <td>3434</td>\n",
       "      <td>Twitter for iPhone</td>\n",
       "      <td>[#happynewyearamerica!]</td>\n",
       "      <td>0.000</td>\n",
       "      <td>1.000</td>\n",
       "      <td>0.000</td>\n",
       "      <td>0.0000</td>\n",
       "    </tr>\n",
       "    <tr>\n",
       "      <th>3</th>\n",
       "      <td>2016-01-01 06:07:28</td>\n",
       "      <td>8258</td>\n",
       "      <td>682805320217980928</td>\n",
       "      <td>NaN</td>\n",
       "      <td>False</td>\n",
       "      <td>1948</td>\n",
       "      <td>Twitter for iPhone</td>\n",
       "      <td>[happy, new, year, from, #maralago!, thank, yo...</td>\n",
       "      <td>0.000</td>\n",
       "      <td>0.474</td>\n",
       "      <td>0.526</td>\n",
       "      <td>0.9230</td>\n",
       "    </tr>\n",
       "    <tr>\n",
       "      <th>4</th>\n",
       "      <td>2016-01-01 06:08:06</td>\n",
       "      <td>7490</td>\n",
       "      <td>682805477168779264</td>\n",
       "      <td>NaN</td>\n",
       "      <td>False</td>\n",
       "      <td>2721</td>\n",
       "      <td>Twitter for Android</td>\n",
       "      <td>[\", hillary, said, she, was, in, a, \"fog, of, ...</td>\n",
       "      <td>0.315</td>\n",
       "      <td>0.685</td>\n",
       "      <td>0.000</td>\n",
       "      <td>-0.8478</td>\n",
       "    </tr>\n",
       "  </tbody>\n",
       "</table>\n",
       "</div>"
      ],
      "text/plain": [
       "           created_at  favorite_count              id_str  \\\n",
       "0 2016-01-01 00:44:14            6735  682723973449289728   \n",
       "1 2016-01-01 03:25:27            8581  682764544402440192   \n",
       "2 2016-01-01 05:18:23            9143  682792967736848384   \n",
       "3 2016-01-01 06:07:28            8258  682805320217980928   \n",
       "4 2016-01-01 06:08:06            7490  682805477168779264   \n",
       "\n",
       "   in_reply_to_user_id_str  is_retweet  retweet_count               source  \\\n",
       "0                      NaN       False           2108  Twitter for Android   \n",
       "1                      NaN       False           3460   Twitter for iPhone   \n",
       "2                      NaN       False           3434   Twitter for iPhone   \n",
       "3                      NaN       False           1948   Twitter for iPhone   \n",
       "4                      NaN       False           2721  Twitter for Android   \n",
       "\n",
       "                                                text    neg    neu    pos  \\\n",
       "0  [i, will, be, on, live,, with, members, of, my...  0.000  0.809  0.191   \n",
       "1                    [happy, new, year, thank, you!]  0.000  0.316  0.684   \n",
       "2                            [#happynewyearamerica!]  0.000  1.000  0.000   \n",
       "3  [happy, new, year, from, #maralago!, thank, yo...  0.000  0.474  0.526   \n",
       "4  [\", hillary, said, she, was, in, a, \"fog, of, ...  0.315  0.685  0.000   \n",
       "\n",
       "      com  \n",
       "0  0.7519  \n",
       "1  0.7574  \n",
       "2  0.0000  \n",
       "3  0.9230  \n",
       "4 -0.8478  "
      ]
     },
     "execution_count": 20,
     "metadata": {},
     "output_type": "execute_result"
    }
   ],
   "source": [
    "trump.head()"
   ]
  },
  {
   "cell_type": "code",
   "execution_count": 21,
   "metadata": {},
   "outputs": [
    {
     "name": "stderr",
     "output_type": "stream",
     "text": [
      "C:\\Users\\bobbyd\\Anaconda2\\envs\\neural_net\\lib\\site-packages\\ipykernel_launcher.py:7: SettingWithCopyWarning: \n",
      "A value is trying to be set on a copy of a slice from a DataFrame\n",
      "\n",
      "See the caveats in the documentation: http://pandas.pydata.org/pandas-docs/stable/indexing.html#indexing-view-versus-copy\n",
      "  import sys\n"
     ]
    }
   ],
   "source": [
    "#remove stop word from tweets\n",
    "for idx,text in enumerate(trump.text):\n",
    "    new_text=[]\n",
    "    for word in text:\n",
    "        if word not in english:\n",
    "            new_text.append(word)\n",
    "    trump.text[idx] = new_text\n",
    "    "
   ]
  },
  {
   "cell_type": "code",
   "execution_count": 24,
   "metadata": {},
   "outputs": [
    {
     "data": {
      "text/html": [
       "<div>\n",
       "<style>\n",
       "    .dataframe thead tr:only-child th {\n",
       "        text-align: right;\n",
       "    }\n",
       "\n",
       "    .dataframe thead th {\n",
       "        text-align: left;\n",
       "    }\n",
       "\n",
       "    .dataframe tbody tr th {\n",
       "        vertical-align: top;\n",
       "    }\n",
       "</style>\n",
       "<table border=\"1\" class=\"dataframe\">\n",
       "  <thead>\n",
       "    <tr style=\"text-align: right;\">\n",
       "      <th></th>\n",
       "      <th>created_at</th>\n",
       "      <th>favorite_count</th>\n",
       "      <th>id_str</th>\n",
       "      <th>in_reply_to_user_id_str</th>\n",
       "      <th>is_retweet</th>\n",
       "      <th>retweet_count</th>\n",
       "      <th>source</th>\n",
       "      <th>text</th>\n",
       "      <th>neg</th>\n",
       "      <th>neu</th>\n",
       "      <th>pos</th>\n",
       "      <th>com</th>\n",
       "    </tr>\n",
       "  </thead>\n",
       "  <tbody>\n",
       "    <tr>\n",
       "      <th>0</th>\n",
       "      <td>2016-01-01 00:44:14</td>\n",
       "      <td>6735</td>\n",
       "      <td>682723973449289728</td>\n",
       "      <td>NaN</td>\n",
       "      <td>False</td>\n",
       "      <td>2108</td>\n",
       "      <td>Twitter for Android</td>\n",
       "      <td>live, members family, 11:50 p.m. ring new year...</td>\n",
       "      <td>0.000</td>\n",
       "      <td>0.809</td>\n",
       "      <td>0.191</td>\n",
       "      <td>0.7519</td>\n",
       "    </tr>\n",
       "    <tr>\n",
       "      <th>1</th>\n",
       "      <td>2016-01-01 03:25:27</td>\n",
       "      <td>8581</td>\n",
       "      <td>682764544402440192</td>\n",
       "      <td>NaN</td>\n",
       "      <td>False</td>\n",
       "      <td>3460</td>\n",
       "      <td>Twitter for iPhone</td>\n",
       "      <td>happy new year thank you!</td>\n",
       "      <td>0.000</td>\n",
       "      <td>0.316</td>\n",
       "      <td>0.684</td>\n",
       "      <td>0.7574</td>\n",
       "    </tr>\n",
       "    <tr>\n",
       "      <th>2</th>\n",
       "      <td>2016-01-01 05:18:23</td>\n",
       "      <td>9143</td>\n",
       "      <td>682792967736848384</td>\n",
       "      <td>NaN</td>\n",
       "      <td>False</td>\n",
       "      <td>3434</td>\n",
       "      <td>Twitter for iPhone</td>\n",
       "      <td>#happynewyearamerica!</td>\n",
       "      <td>0.000</td>\n",
       "      <td>1.000</td>\n",
       "      <td>0.000</td>\n",
       "      <td>0.0000</td>\n",
       "    </tr>\n",
       "    <tr>\n",
       "      <th>3</th>\n",
       "      <td>2016-01-01 06:07:28</td>\n",
       "      <td>8258</td>\n",
       "      <td>682805320217980928</td>\n",
       "      <td>NaN</td>\n",
       "      <td>False</td>\n",
       "      <td>1948</td>\n",
       "      <td>Twitter for iPhone</td>\n",
       "      <td>happy new year #maralago! thank great family s...</td>\n",
       "      <td>0.000</td>\n",
       "      <td>0.474</td>\n",
       "      <td>0.526</td>\n",
       "      <td>0.9230</td>\n",
       "    </tr>\n",
       "    <tr>\n",
       "      <th>4</th>\n",
       "      <td>2016-01-01 06:08:06</td>\n",
       "      <td>7490</td>\n",
       "      <td>682805477168779264</td>\n",
       "      <td>NaN</td>\n",
       "      <td>False</td>\n",
       "      <td>2721</td>\n",
       "      <td>Twitter for Android</td>\n",
       "      <td>\" hillary said \"fog war\" explanation lies beng...</td>\n",
       "      <td>0.315</td>\n",
       "      <td>0.685</td>\n",
       "      <td>0.000</td>\n",
       "      <td>-0.8478</td>\n",
       "    </tr>\n",
       "  </tbody>\n",
       "</table>\n",
       "</div>"
      ],
      "text/plain": [
       "           created_at  favorite_count              id_str  \\\n",
       "0 2016-01-01 00:44:14            6735  682723973449289728   \n",
       "1 2016-01-01 03:25:27            8581  682764544402440192   \n",
       "2 2016-01-01 05:18:23            9143  682792967736848384   \n",
       "3 2016-01-01 06:07:28            8258  682805320217980928   \n",
       "4 2016-01-01 06:08:06            7490  682805477168779264   \n",
       "\n",
       "   in_reply_to_user_id_str  is_retweet  retweet_count               source  \\\n",
       "0                      NaN       False           2108  Twitter for Android   \n",
       "1                      NaN       False           3460   Twitter for iPhone   \n",
       "2                      NaN       False           3434   Twitter for iPhone   \n",
       "3                      NaN       False           1948   Twitter for iPhone   \n",
       "4                      NaN       False           2721  Twitter for Android   \n",
       "\n",
       "                                                text    neg    neu    pos  \\\n",
       "0  live, members family, 11:50 p.m. ring new year...  0.000  0.809  0.191   \n",
       "1                          happy new year thank you!  0.000  0.316  0.684   \n",
       "2                              #happynewyearamerica!  0.000  1.000  0.000   \n",
       "3  happy new year #maralago! thank great family s...  0.000  0.474  0.526   \n",
       "4  \" hillary said \"fog war\" explanation lies beng...  0.315  0.685  0.000   \n",
       "\n",
       "      com  \n",
       "0  0.7519  \n",
       "1  0.7574  \n",
       "2  0.0000  \n",
       "3  0.9230  \n",
       "4 -0.8478  "
      ]
     },
     "execution_count": 24,
     "metadata": {},
     "output_type": "execute_result"
    }
   ],
   "source": [
    "trump.head()"
   ]
  },
  {
   "cell_type": "code",
   "execution_count": 23,
   "metadata": {
    "collapsed": true
   },
   "outputs": [],
   "source": [
    "trump.text = trump.text.apply(lambda x: ' '.join(x))"
   ]
  },
  {
   "cell_type": "code",
   "execution_count": 25,
   "metadata": {
    "collapsed": true
   },
   "outputs": [],
   "source": [
    "don = trump[trump['source']=='Twitter for Android']\n",
    "staff = trump[trump['source']=='Twitter for iPhone']"
   ]
  },
  {
   "cell_type": "code",
   "execution_count": 26,
   "metadata": {},
   "outputs": [
    {
     "data": {
      "text/html": [
       "<div>\n",
       "<style>\n",
       "    .dataframe thead tr:only-child th {\n",
       "        text-align: right;\n",
       "    }\n",
       "\n",
       "    .dataframe thead th {\n",
       "        text-align: left;\n",
       "    }\n",
       "\n",
       "    .dataframe tbody tr th {\n",
       "        vertical-align: top;\n",
       "    }\n",
       "</style>\n",
       "<table border=\"1\" class=\"dataframe\">\n",
       "  <thead>\n",
       "    <tr style=\"text-align: right;\">\n",
       "      <th></th>\n",
       "      <th>created_at</th>\n",
       "      <th>favorite_count</th>\n",
       "      <th>id_str</th>\n",
       "      <th>in_reply_to_user_id_str</th>\n",
       "      <th>is_retweet</th>\n",
       "      <th>retweet_count</th>\n",
       "      <th>source</th>\n",
       "      <th>text</th>\n",
       "      <th>neg</th>\n",
       "      <th>neu</th>\n",
       "      <th>pos</th>\n",
       "      <th>com</th>\n",
       "    </tr>\n",
       "  </thead>\n",
       "  <tbody>\n",
       "    <tr>\n",
       "      <th>1</th>\n",
       "      <td>2016-01-01 03:25:27</td>\n",
       "      <td>8581</td>\n",
       "      <td>682764544402440192</td>\n",
       "      <td>NaN</td>\n",
       "      <td>False</td>\n",
       "      <td>3460</td>\n",
       "      <td>Twitter for iPhone</td>\n",
       "      <td>happy new year thank you!</td>\n",
       "      <td>0.0</td>\n",
       "      <td>0.316</td>\n",
       "      <td>0.684</td>\n",
       "      <td>0.7574</td>\n",
       "    </tr>\n",
       "    <tr>\n",
       "      <th>2</th>\n",
       "      <td>2016-01-01 05:18:23</td>\n",
       "      <td>9143</td>\n",
       "      <td>682792967736848384</td>\n",
       "      <td>NaN</td>\n",
       "      <td>False</td>\n",
       "      <td>3434</td>\n",
       "      <td>Twitter for iPhone</td>\n",
       "      <td>#happynewyearamerica!</td>\n",
       "      <td>0.0</td>\n",
       "      <td>1.000</td>\n",
       "      <td>0.000</td>\n",
       "      <td>0.0000</td>\n",
       "    </tr>\n",
       "    <tr>\n",
       "      <th>3</th>\n",
       "      <td>2016-01-01 06:07:28</td>\n",
       "      <td>8258</td>\n",
       "      <td>682805320217980928</td>\n",
       "      <td>NaN</td>\n",
       "      <td>False</td>\n",
       "      <td>1948</td>\n",
       "      <td>Twitter for iPhone</td>\n",
       "      <td>happy new year #maralago! thank great family s...</td>\n",
       "      <td>0.0</td>\n",
       "      <td>0.474</td>\n",
       "      <td>0.526</td>\n",
       "      <td>0.9230</td>\n",
       "    </tr>\n",
       "    <tr>\n",
       "      <th>15</th>\n",
       "      <td>2016-01-02 03:32:13</td>\n",
       "      <td>7340</td>\n",
       "      <td>683128636279361536</td>\n",
       "      <td>NaN</td>\n",
       "      <td>False</td>\n",
       "      <td>3057</td>\n",
       "      <td>Twitter for iPhone</td>\n",
       "      <td>#votetrump2016 together #makeamericagreatagain...</td>\n",
       "      <td>0.0</td>\n",
       "      <td>0.551</td>\n",
       "      <td>0.449</td>\n",
       "      <td>0.7592</td>\n",
       "    </tr>\n",
       "    <tr>\n",
       "      <th>16</th>\n",
       "      <td>2016-01-02 04:17:23</td>\n",
       "      <td>6363</td>\n",
       "      <td>683140004625936384</td>\n",
       "      <td>NaN</td>\n",
       "      <td>False</td>\n",
       "      <td>2145</td>\n",
       "      <td>Twitter for iPhone</td>\n",
       "      <td>massive crowds expected mississippi tomorrow n...</td>\n",
       "      <td>0.0</td>\n",
       "      <td>1.000</td>\n",
       "      <td>0.000</td>\n",
       "      <td>0.0000</td>\n",
       "    </tr>\n",
       "  </tbody>\n",
       "</table>\n",
       "</div>"
      ],
      "text/plain": [
       "            created_at  favorite_count              id_str  \\\n",
       "1  2016-01-01 03:25:27            8581  682764544402440192   \n",
       "2  2016-01-01 05:18:23            9143  682792967736848384   \n",
       "3  2016-01-01 06:07:28            8258  682805320217980928   \n",
       "15 2016-01-02 03:32:13            7340  683128636279361536   \n",
       "16 2016-01-02 04:17:23            6363  683140004625936384   \n",
       "\n",
       "    in_reply_to_user_id_str  is_retweet  retweet_count              source  \\\n",
       "1                       NaN       False           3460  Twitter for iPhone   \n",
       "2                       NaN       False           3434  Twitter for iPhone   \n",
       "3                       NaN       False           1948  Twitter for iPhone   \n",
       "15                      NaN       False           3057  Twitter for iPhone   \n",
       "16                      NaN       False           2145  Twitter for iPhone   \n",
       "\n",
       "                                                 text  neg    neu    pos  \\\n",
       "1                           happy new year thank you!  0.0  0.316  0.684   \n",
       "2                               #happynewyearamerica!  0.0  1.000  0.000   \n",
       "3   happy new year #maralago! thank great family s...  0.0  0.474  0.526   \n",
       "15  #votetrump2016 together #makeamericagreatagain...  0.0  0.551  0.449   \n",
       "16  massive crowds expected mississippi tomorrow n...  0.0  1.000  0.000   \n",
       "\n",
       "       com  \n",
       "1   0.7574  \n",
       "2   0.0000  \n",
       "3   0.9230  \n",
       "15  0.7592  \n",
       "16  0.0000  "
      ]
     },
     "execution_count": 26,
     "metadata": {},
     "output_type": "execute_result"
    }
   ],
   "source": [
    "staff.head()"
   ]
  },
  {
   "cell_type": "code",
   "execution_count": 27,
   "metadata": {},
   "outputs": [
    {
     "data": {
      "text/html": [
       "<div>\n",
       "<style>\n",
       "    .dataframe thead tr:only-child th {\n",
       "        text-align: right;\n",
       "    }\n",
       "\n",
       "    .dataframe thead th {\n",
       "        text-align: left;\n",
       "    }\n",
       "\n",
       "    .dataframe tbody tr th {\n",
       "        vertical-align: top;\n",
       "    }\n",
       "</style>\n",
       "<table border=\"1\" class=\"dataframe\">\n",
       "  <thead>\n",
       "    <tr style=\"text-align: right;\">\n",
       "      <th></th>\n",
       "      <th>created_at</th>\n",
       "      <th>favorite_count</th>\n",
       "      <th>id_str</th>\n",
       "      <th>in_reply_to_user_id_str</th>\n",
       "      <th>is_retweet</th>\n",
       "      <th>retweet_count</th>\n",
       "      <th>source</th>\n",
       "      <th>text</th>\n",
       "      <th>neg</th>\n",
       "      <th>neu</th>\n",
       "      <th>pos</th>\n",
       "      <th>com</th>\n",
       "    </tr>\n",
       "  </thead>\n",
       "  <tbody>\n",
       "    <tr>\n",
       "      <th>0</th>\n",
       "      <td>2016-01-01 00:44:14</td>\n",
       "      <td>6735</td>\n",
       "      <td>682723973449289728</td>\n",
       "      <td>NaN</td>\n",
       "      <td>False</td>\n",
       "      <td>2108</td>\n",
       "      <td>Twitter for Android</td>\n",
       "      <td>live, members family, 11:50 p.m. ring new year...</td>\n",
       "      <td>0.000</td>\n",
       "      <td>0.809</td>\n",
       "      <td>0.191</td>\n",
       "      <td>0.7519</td>\n",
       "    </tr>\n",
       "    <tr>\n",
       "      <th>4</th>\n",
       "      <td>2016-01-01 06:08:06</td>\n",
       "      <td>7490</td>\n",
       "      <td>682805477168779264</td>\n",
       "      <td>NaN</td>\n",
       "      <td>False</td>\n",
       "      <td>2721</td>\n",
       "      <td>Twitter for Android</td>\n",
       "      <td>\" hillary said \"fog war\" explanation lies beng...</td>\n",
       "      <td>0.315</td>\n",
       "      <td>0.685</td>\n",
       "      <td>0.000</td>\n",
       "      <td>-0.8478</td>\n",
       "    </tr>\n",
       "    <tr>\n",
       "      <th>5</th>\n",
       "      <td>2016-01-01 21:29:56</td>\n",
       "      <td>3330</td>\n",
       "      <td>683037464504745984</td>\n",
       "      <td>NaN</td>\n",
       "      <td>False</td>\n",
       "      <td>933</td>\n",
       "      <td>Twitter for Android</td>\n",
       "      <td>\" they're spending millions you're still going...</td>\n",
       "      <td>0.000</td>\n",
       "      <td>0.679</td>\n",
       "      <td>0.321</td>\n",
       "      <td>0.7351</td>\n",
       "    </tr>\n",
       "    <tr>\n",
       "      <th>6</th>\n",
       "      <td>2016-01-01 23:00:09</td>\n",
       "      <td>8495</td>\n",
       "      <td>683060169677344768</td>\n",
       "      <td>NaN</td>\n",
       "      <td>False</td>\n",
       "      <td>2642</td>\n",
       "      <td>Twitter for Android</td>\n",
       "      <td>well, year officially begun. many stops planne...</td>\n",
       "      <td>0.104</td>\n",
       "      <td>0.693</td>\n",
       "      <td>0.203</td>\n",
       "      <td>0.6325</td>\n",
       "    </tr>\n",
       "    <tr>\n",
       "      <th>7</th>\n",
       "      <td>2016-01-01 23:02:05</td>\n",
       "      <td>2780</td>\n",
       "      <td>683060654098530304</td>\n",
       "      <td>NaN</td>\n",
       "      <td>False</td>\n",
       "      <td>654</td>\n",
       "      <td>Twitter for Android</td>\n",
       "      <td>\" love u trump family. god bless you.\"</td>\n",
       "      <td>0.000</td>\n",
       "      <td>0.355</td>\n",
       "      <td>0.645</td>\n",
       "      <td>0.8442</td>\n",
       "    </tr>\n",
       "  </tbody>\n",
       "</table>\n",
       "</div>"
      ],
      "text/plain": [
       "           created_at  favorite_count              id_str  \\\n",
       "0 2016-01-01 00:44:14            6735  682723973449289728   \n",
       "4 2016-01-01 06:08:06            7490  682805477168779264   \n",
       "5 2016-01-01 21:29:56            3330  683037464504745984   \n",
       "6 2016-01-01 23:00:09            8495  683060169677344768   \n",
       "7 2016-01-01 23:02:05            2780  683060654098530304   \n",
       "\n",
       "   in_reply_to_user_id_str  is_retweet  retweet_count               source  \\\n",
       "0                      NaN       False           2108  Twitter for Android   \n",
       "4                      NaN       False           2721  Twitter for Android   \n",
       "5                      NaN       False            933  Twitter for Android   \n",
       "6                      NaN       False           2642  Twitter for Android   \n",
       "7                      NaN       False            654  Twitter for Android   \n",
       "\n",
       "                                                text    neg    neu    pos  \\\n",
       "0  live, members family, 11:50 p.m. ring new year...  0.000  0.809  0.191   \n",
       "4  \" hillary said \"fog war\" explanation lies beng...  0.315  0.685  0.000   \n",
       "5  \" they're spending millions you're still going...  0.000  0.679  0.321   \n",
       "6  well, year officially begun. many stops planne...  0.104  0.693  0.203   \n",
       "7             \" love u trump family. god bless you.\"  0.000  0.355  0.645   \n",
       "\n",
       "      com  \n",
       "0  0.7519  \n",
       "4 -0.8478  \n",
       "5  0.7351  \n",
       "6  0.6325  \n",
       "7  0.8442  "
      ]
     },
     "execution_count": 27,
     "metadata": {},
     "output_type": "execute_result"
    }
   ],
   "source": [
    "don.head()"
   ]
  },
  {
   "cell_type": "code",
   "execution_count": 28,
   "metadata": {},
   "outputs": [
    {
     "data": {
      "text/plain": [
       "((2116, 12), (3221, 12))"
      ]
     },
     "execution_count": 28,
     "metadata": {},
     "output_type": "execute_result"
    }
   ],
   "source": [
    "don.shape, staff.shape"
   ]
  },
  {
   "cell_type": "code",
   "execution_count": 49,
   "metadata": {},
   "outputs": [
    {
     "ename": "TypeError",
     "evalue": "object of type 'int' has no len()",
     "output_type": "error",
     "traceback": [
      "\u001b[1;31m---------------------------------------------------------------------------\u001b[0m",
      "\u001b[1;31mTypeError\u001b[0m                                 Traceback (most recent call last)",
      "\u001b[1;32m<ipython-input-49-690d88321840>\u001b[0m in \u001b[0;36m<module>\u001b[1;34m()\u001b[0m\n\u001b[0;32m      1\u001b[0m \u001b[0mfig\u001b[0m \u001b[1;33m=\u001b[0m \u001b[0mplt\u001b[0m\u001b[1;33m.\u001b[0m\u001b[0mfigure\u001b[0m\u001b[1;33m(\u001b[0m\u001b[0mfigsize\u001b[0m\u001b[1;33m=\u001b[0m\u001b[1;33m(\u001b[0m\u001b[1;36m12\u001b[0m\u001b[1;33m,\u001b[0m\u001b[1;36m8\u001b[0m\u001b[1;33m)\u001b[0m\u001b[1;33m)\u001b[0m\u001b[1;33m\u001b[0m\u001b[0m\n\u001b[0;32m      2\u001b[0m \u001b[0mplt\u001b[0m\u001b[1;33m.\u001b[0m\u001b[0mplot\u001b[0m\u001b[1;33m(\u001b[0m\u001b[0mdon\u001b[0m\u001b[1;33m[\u001b[0m\u001b[1;34m'com'\u001b[0m\u001b[1;33m]\u001b[0m\u001b[1;33m,\u001b[0m \u001b[0mdon\u001b[0m\u001b[1;33m[\u001b[0m\u001b[1;34m'retweet_count'\u001b[0m\u001b[1;33m]\u001b[0m\u001b[1;33m)\u001b[0m\u001b[1;33m\u001b[0m\u001b[0m\n\u001b[1;32m----> 3\u001b[1;33m \u001b[0mplt\u001b[0m\u001b[1;33m.\u001b[0m\u001b[0mxticks\u001b[0m\u001b[1;33m(\u001b[0m\u001b[1;36m0\u001b[0m\u001b[1;33m,\u001b[0m\u001b[1;36m1\u001b[0m\u001b[1;33m)\u001b[0m\u001b[1;33m\u001b[0m\u001b[0m\n\u001b[0m\u001b[0;32m      4\u001b[0m \u001b[0mplt\u001b[0m\u001b[1;33m.\u001b[0m\u001b[0myticks\u001b[0m\u001b[1;33m(\u001b[0m\u001b[1;36m0\u001b[0m\u001b[1;33m,\u001b[0m \u001b[0mdon\u001b[0m\u001b[1;33m[\u001b[0m\u001b[1;34m'retweet_count'\u001b[0m\u001b[1;33m]\u001b[0m\u001b[1;33m.\u001b[0m\u001b[0mmax\u001b[0m\u001b[1;33m(\u001b[0m\u001b[1;33m)\u001b[0m\u001b[1;33m)\u001b[0m\u001b[1;33m\u001b[0m\u001b[0m\n\u001b[0;32m      5\u001b[0m \u001b[0mplt\u001b[0m\u001b[1;33m.\u001b[0m\u001b[0mshow\u001b[0m\u001b[1;33m(\u001b[0m\u001b[1;33m)\u001b[0m\u001b[1;33m\u001b[0m\u001b[0m\n",
      "\u001b[1;32m~\\Anaconda2\\envs\\neural_net\\lib\\site-packages\\matplotlib\\pyplot.py\u001b[0m in \u001b[0;36mxticks\u001b[1;34m(*args, **kwargs)\u001b[0m\n\u001b[0;32m   1699\u001b[0m         \u001b[0mlabels\u001b[0m \u001b[1;33m=\u001b[0m \u001b[0max\u001b[0m\u001b[1;33m.\u001b[0m\u001b[0mget_xticklabels\u001b[0m\u001b[1;33m(\u001b[0m\u001b[1;33m)\u001b[0m\u001b[1;33m\u001b[0m\u001b[0m\n\u001b[0;32m   1700\u001b[0m     \u001b[1;32melif\u001b[0m \u001b[0mlen\u001b[0m\u001b[1;33m(\u001b[0m\u001b[0margs\u001b[0m\u001b[1;33m)\u001b[0m\u001b[1;33m==\u001b[0m\u001b[1;36m2\u001b[0m\u001b[1;33m:\u001b[0m\u001b[1;33m\u001b[0m\u001b[0m\n\u001b[1;32m-> 1701\u001b[1;33m         \u001b[0mlocs\u001b[0m \u001b[1;33m=\u001b[0m \u001b[0max\u001b[0m\u001b[1;33m.\u001b[0m\u001b[0mset_xticks\u001b[0m\u001b[1;33m(\u001b[0m\u001b[0margs\u001b[0m\u001b[1;33m[\u001b[0m\u001b[1;36m0\u001b[0m\u001b[1;33m]\u001b[0m\u001b[1;33m)\u001b[0m\u001b[1;33m\u001b[0m\u001b[0m\n\u001b[0m\u001b[0;32m   1702\u001b[0m         \u001b[0mlabels\u001b[0m \u001b[1;33m=\u001b[0m \u001b[0max\u001b[0m\u001b[1;33m.\u001b[0m\u001b[0mset_xticklabels\u001b[0m\u001b[1;33m(\u001b[0m\u001b[0margs\u001b[0m\u001b[1;33m[\u001b[0m\u001b[1;36m1\u001b[0m\u001b[1;33m]\u001b[0m\u001b[1;33m,\u001b[0m \u001b[1;33m**\u001b[0m\u001b[0mkwargs\u001b[0m\u001b[1;33m)\u001b[0m\u001b[1;33m\u001b[0m\u001b[0m\n\u001b[0;32m   1703\u001b[0m     \u001b[1;32melse\u001b[0m\u001b[1;33m:\u001b[0m \u001b[1;32mraise\u001b[0m \u001b[0mTypeError\u001b[0m\u001b[1;33m(\u001b[0m\u001b[1;34m'Illegal number of arguments to xticks'\u001b[0m\u001b[1;33m)\u001b[0m\u001b[1;33m\u001b[0m\u001b[0m\n",
      "\u001b[1;32m~\\Anaconda2\\envs\\neural_net\\lib\\site-packages\\matplotlib\\axes\\_base.py\u001b[0m in \u001b[0;36mset_xticks\u001b[1;34m(self, ticks, minor)\u001b[0m\n\u001b[0;32m   2976\u001b[0m         \u001b[0mACCEPTS\u001b[0m\u001b[1;33m:\u001b[0m \u001b[0msequence\u001b[0m \u001b[0mof\u001b[0m \u001b[0mfloats\u001b[0m\u001b[1;33m\u001b[0m\u001b[0m\n\u001b[0;32m   2977\u001b[0m         \"\"\"\n\u001b[1;32m-> 2978\u001b[1;33m         \u001b[0mret\u001b[0m \u001b[1;33m=\u001b[0m \u001b[0mself\u001b[0m\u001b[1;33m.\u001b[0m\u001b[0mxaxis\u001b[0m\u001b[1;33m.\u001b[0m\u001b[0mset_ticks\u001b[0m\u001b[1;33m(\u001b[0m\u001b[0mticks\u001b[0m\u001b[1;33m,\u001b[0m \u001b[0mminor\u001b[0m\u001b[1;33m=\u001b[0m\u001b[0mminor\u001b[0m\u001b[1;33m)\u001b[0m\u001b[1;33m\u001b[0m\u001b[0m\n\u001b[0m\u001b[0;32m   2979\u001b[0m         \u001b[0mself\u001b[0m\u001b[1;33m.\u001b[0m\u001b[0mstale\u001b[0m \u001b[1;33m=\u001b[0m \u001b[1;32mTrue\u001b[0m\u001b[1;33m\u001b[0m\u001b[0m\n\u001b[0;32m   2980\u001b[0m         \u001b[1;32mreturn\u001b[0m \u001b[0mret\u001b[0m\u001b[1;33m\u001b[0m\u001b[0m\n",
      "\u001b[1;32m~\\Anaconda2\\envs\\neural_net\\lib\\site-packages\\matplotlib\\axis.py\u001b[0m in \u001b[0;36mset_ticks\u001b[1;34m(self, ticks, minor)\u001b[0m\n\u001b[0;32m   1623\u001b[0m         \u001b[1;31m# XXX if the user changes units, the information will be lost here\u001b[0m\u001b[1;33m\u001b[0m\u001b[1;33m\u001b[0m\u001b[0m\n\u001b[0;32m   1624\u001b[0m         \u001b[0mticks\u001b[0m \u001b[1;33m=\u001b[0m \u001b[0mself\u001b[0m\u001b[1;33m.\u001b[0m\u001b[0mconvert_units\u001b[0m\u001b[1;33m(\u001b[0m\u001b[0mticks\u001b[0m\u001b[1;33m)\u001b[0m\u001b[1;33m\u001b[0m\u001b[0m\n\u001b[1;32m-> 1625\u001b[1;33m         \u001b[1;32mif\u001b[0m \u001b[0mlen\u001b[0m\u001b[1;33m(\u001b[0m\u001b[0mticks\u001b[0m\u001b[1;33m)\u001b[0m \u001b[1;33m>\u001b[0m \u001b[1;36m1\u001b[0m\u001b[1;33m:\u001b[0m\u001b[1;33m\u001b[0m\u001b[0m\n\u001b[0m\u001b[0;32m   1626\u001b[0m             \u001b[0mxleft\u001b[0m\u001b[1;33m,\u001b[0m \u001b[0mxright\u001b[0m \u001b[1;33m=\u001b[0m \u001b[0mself\u001b[0m\u001b[1;33m.\u001b[0m\u001b[0mget_view_interval\u001b[0m\u001b[1;33m(\u001b[0m\u001b[1;33m)\u001b[0m\u001b[1;33m\u001b[0m\u001b[0m\n\u001b[0;32m   1627\u001b[0m             \u001b[1;32mif\u001b[0m \u001b[0mxright\u001b[0m \u001b[1;33m>\u001b[0m \u001b[0mxleft\u001b[0m\u001b[1;33m:\u001b[0m\u001b[1;33m\u001b[0m\u001b[0m\n",
      "\u001b[1;31mTypeError\u001b[0m: object of type 'int' has no len()"
     ]
    }
   ],
   "source": [
    "fig = plt.figure(figsize=(12,8))\n",
    "plt.plot(don['com'], don['retweet_count'])\n",
    "plt.xticks(0,1)\n",
    "plt.yticks(0, don['retweet_count'].max())\n",
    "plt.show()"
   ]
  },
  {
   "cell_type": "code",
   "execution_count": 41,
   "metadata": {},
   "outputs": [
    {
     "data": {
      "text/html": [
       "<div>\n",
       "<style>\n",
       "    .dataframe thead tr:only-child th {\n",
       "        text-align: right;\n",
       "    }\n",
       "\n",
       "    .dataframe thead th {\n",
       "        text-align: left;\n",
       "    }\n",
       "\n",
       "    .dataframe tbody tr th {\n",
       "        vertical-align: top;\n",
       "    }\n",
       "</style>\n",
       "<table border=\"1\" class=\"dataframe\">\n",
       "  <thead>\n",
       "    <tr style=\"text-align: right;\">\n",
       "      <th></th>\n",
       "      <th></th>\n",
       "      <th></th>\n",
       "      <th>favorite_count</th>\n",
       "      <th>id_str</th>\n",
       "      <th>in_reply_to_user_id_str</th>\n",
       "      <th>is_retweet</th>\n",
       "      <th>retweet_count</th>\n",
       "      <th>com</th>\n",
       "    </tr>\n",
       "    <tr>\n",
       "      <th>neg</th>\n",
       "      <th>neu</th>\n",
       "      <th>pos</th>\n",
       "      <th></th>\n",
       "      <th></th>\n",
       "      <th></th>\n",
       "      <th></th>\n",
       "      <th></th>\n",
       "      <th></th>\n",
       "    </tr>\n",
       "  </thead>\n",
       "  <tbody>\n",
       "    <tr>\n",
       "      <th rowspan=\"30\" valign=\"top\">0.000</th>\n",
       "      <th>0.000</th>\n",
       "      <th>0.000</th>\n",
       "      <td>18917.0</td>\n",
       "      <td>2.109312e+18</td>\n",
       "      <td>NaN</td>\n",
       "      <td>False</td>\n",
       "      <td>10072.0</td>\n",
       "      <td>0.0000</td>\n",
       "    </tr>\n",
       "    <tr>\n",
       "      <th>0.109</th>\n",
       "      <th>0.891</th>\n",
       "      <td>7144.0</td>\n",
       "      <td>7.405171e+17</td>\n",
       "      <td>NaN</td>\n",
       "      <td>False</td>\n",
       "      <td>1586.0</td>\n",
       "      <td>0.8469</td>\n",
       "    </tr>\n",
       "    <tr>\n",
       "      <th>0.122</th>\n",
       "      <th>0.878</th>\n",
       "      <td>14496.0</td>\n",
       "      <td>7.226287e+17</td>\n",
       "      <td>NaN</td>\n",
       "      <td>False</td>\n",
       "      <td>5354.0</td>\n",
       "      <td>0.8012</td>\n",
       "    </tr>\n",
       "    <tr>\n",
       "      <th>0.204</th>\n",
       "      <th>0.796</th>\n",
       "      <td>27688.0</td>\n",
       "      <td>7.101779e+17</td>\n",
       "      <td>NaN</td>\n",
       "      <td>False</td>\n",
       "      <td>7699.0</td>\n",
       "      <td>0.8313</td>\n",
       "    </tr>\n",
       "    <tr>\n",
       "      <th>0.208</th>\n",
       "      <th>0.792</th>\n",
       "      <td>4969.0</td>\n",
       "      <td>7.327366e+17</td>\n",
       "      <td>NaN</td>\n",
       "      <td>False</td>\n",
       "      <td>908.0</td>\n",
       "      <td>0.5859</td>\n",
       "    </tr>\n",
       "    <tr>\n",
       "      <th>0.222</th>\n",
       "      <th>0.778</th>\n",
       "      <td>14219.0</td>\n",
       "      <td>7.277095e+17</td>\n",
       "      <td>NaN</td>\n",
       "      <td>False</td>\n",
       "      <td>3480.0</td>\n",
       "      <td>0.7920</td>\n",
       "    </tr>\n",
       "    <tr>\n",
       "      <th>0.247</th>\n",
       "      <th>0.753</th>\n",
       "      <td>15681.0</td>\n",
       "      <td>7.787593e+17</td>\n",
       "      <td>NaN</td>\n",
       "      <td>False</td>\n",
       "      <td>4559.0</td>\n",
       "      <td>0.9215</td>\n",
       "    </tr>\n",
       "    <tr>\n",
       "      <th>0.264</th>\n",
       "      <th>0.736</th>\n",
       "      <td>199748.0</td>\n",
       "      <td>1.615692e+18</td>\n",
       "      <td>NaN</td>\n",
       "      <td>False</td>\n",
       "      <td>31565.0</td>\n",
       "      <td>0.8398</td>\n",
       "    </tr>\n",
       "    <tr>\n",
       "      <th>0.274</th>\n",
       "      <th>0.726</th>\n",
       "      <td>19522.0</td>\n",
       "      <td>7.012402e+17</td>\n",
       "      <td>NaN</td>\n",
       "      <td>False</td>\n",
       "      <td>5940.0</td>\n",
       "      <td>0.9691</td>\n",
       "    </tr>\n",
       "    <tr>\n",
       "      <th>0.291</th>\n",
       "      <th>0.709</th>\n",
       "      <td>5286.0</td>\n",
       "      <td>7.327297e+17</td>\n",
       "      <td>NaN</td>\n",
       "      <td>False</td>\n",
       "      <td>1015.0</td>\n",
       "      <td>0.8070</td>\n",
       "    </tr>\n",
       "    <tr>\n",
       "      <th>0.296</th>\n",
       "      <th>0.704</th>\n",
       "      <td>4341.0</td>\n",
       "      <td>6.902727e+17</td>\n",
       "      <td>NaN</td>\n",
       "      <td>False</td>\n",
       "      <td>1051.0</td>\n",
       "      <td>0.9358</td>\n",
       "    </tr>\n",
       "    <tr>\n",
       "      <th>0.300</th>\n",
       "      <th>0.700</th>\n",
       "      <td>4815.0</td>\n",
       "      <td>7.327333e+17</td>\n",
       "      <td>NaN</td>\n",
       "      <td>False</td>\n",
       "      <td>1008.0</td>\n",
       "      <td>0.7901</td>\n",
       "    </tr>\n",
       "    <tr>\n",
       "      <th>0.302</th>\n",
       "      <th>0.698</th>\n",
       "      <td>17388.0</td>\n",
       "      <td>7.645538e+17</td>\n",
       "      <td>NaN</td>\n",
       "      <td>False</td>\n",
       "      <td>4621.0</td>\n",
       "      <td>0.9735</td>\n",
       "    </tr>\n",
       "    <tr>\n",
       "      <th>0.309</th>\n",
       "      <th>0.691</th>\n",
       "      <td>4856.0</td>\n",
       "      <td>7.327261e+17</td>\n",
       "      <td>NaN</td>\n",
       "      <td>False</td>\n",
       "      <td>1016.0</td>\n",
       "      <td>0.7717</td>\n",
       "    </tr>\n",
       "    <tr>\n",
       "      <th>0.310</th>\n",
       "      <th>0.690</th>\n",
       "      <td>8110.0</td>\n",
       "      <td>7.407073e+17</td>\n",
       "      <td>NaN</td>\n",
       "      <td>False</td>\n",
       "      <td>1736.0</td>\n",
       "      <td>0.7712</td>\n",
       "    </tr>\n",
       "    <tr>\n",
       "      <th>0.313</th>\n",
       "      <th>0.687</th>\n",
       "      <td>6112.0</td>\n",
       "      <td>7.353450e+17</td>\n",
       "      <td>NaN</td>\n",
       "      <td>False</td>\n",
       "      <td>1422.0</td>\n",
       "      <td>0.8684</td>\n",
       "    </tr>\n",
       "    <tr>\n",
       "      <th>0.314</th>\n",
       "      <th>0.686</th>\n",
       "      <td>7844.0</td>\n",
       "      <td>7.353460e+17</td>\n",
       "      <td>NaN</td>\n",
       "      <td>False</td>\n",
       "      <td>1817.0</td>\n",
       "      <td>0.9199</td>\n",
       "    </tr>\n",
       "    <tr>\n",
       "      <th>0.328</th>\n",
       "      <th>0.672</th>\n",
       "      <td>22422.0</td>\n",
       "      <td>1.516210e+18</td>\n",
       "      <td>NaN</td>\n",
       "      <td>False</td>\n",
       "      <td>4630.0</td>\n",
       "      <td>1.2498</td>\n",
       "    </tr>\n",
       "    <tr>\n",
       "      <th>0.338</th>\n",
       "      <th>0.662</th>\n",
       "      <td>8087.0</td>\n",
       "      <td>7.195005e+17</td>\n",
       "      <td>NaN</td>\n",
       "      <td>False</td>\n",
       "      <td>2223.0</td>\n",
       "      <td>0.8687</td>\n",
       "    </tr>\n",
       "    <tr>\n",
       "      <th>0.339</th>\n",
       "      <th>0.661</th>\n",
       "      <td>6807.0</td>\n",
       "      <td>7.353454e+17</td>\n",
       "      <td>NaN</td>\n",
       "      <td>False</td>\n",
       "      <td>1684.0</td>\n",
       "      <td>0.5994</td>\n",
       "    </tr>\n",
       "    <tr>\n",
       "      <th>0.342</th>\n",
       "      <th>0.658</th>\n",
       "      <td>2665.0</td>\n",
       "      <td>6.867530e+17</td>\n",
       "      <td>NaN</td>\n",
       "      <td>False</td>\n",
       "      <td>688.0</td>\n",
       "      <td>0.8268</td>\n",
       "    </tr>\n",
       "    <tr>\n",
       "      <th>0.343</th>\n",
       "      <th>0.657</th>\n",
       "      <td>24061.0</td>\n",
       "      <td>1.444111e+18</td>\n",
       "      <td>NaN</td>\n",
       "      <td>False</td>\n",
       "      <td>5607.0</td>\n",
       "      <td>1.8478</td>\n",
       "    </tr>\n",
       "    <tr>\n",
       "      <th>0.349</th>\n",
       "      <th>0.651</th>\n",
       "      <td>31863.0</td>\n",
       "      <td>1.528942e+18</td>\n",
       "      <td>NaN</td>\n",
       "      <td>False</td>\n",
       "      <td>8343.0</td>\n",
       "      <td>1.6363</td>\n",
       "    </tr>\n",
       "    <tr>\n",
       "      <th>0.353</th>\n",
       "      <th>0.647</th>\n",
       "      <td>26589.0</td>\n",
       "      <td>1.506569e+18</td>\n",
       "      <td>NaN</td>\n",
       "      <td>False</td>\n",
       "      <td>6169.0</td>\n",
       "      <td>1.6883</td>\n",
       "    </tr>\n",
       "    <tr>\n",
       "      <th>0.354</th>\n",
       "      <th>0.646</th>\n",
       "      <td>21252.0</td>\n",
       "      <td>7.373768e+17</td>\n",
       "      <td>NaN</td>\n",
       "      <td>False</td>\n",
       "      <td>5172.0</td>\n",
       "      <td>0.8070</td>\n",
       "    </tr>\n",
       "    <tr>\n",
       "      <th>0.355</th>\n",
       "      <th>0.645</th>\n",
       "      <td>2780.0</td>\n",
       "      <td>6.830607e+17</td>\n",
       "      <td>NaN</td>\n",
       "      <td>False</td>\n",
       "      <td>654.0</td>\n",
       "      <td>0.8442</td>\n",
       "    </tr>\n",
       "    <tr>\n",
       "      <th>0.373</th>\n",
       "      <th>0.627</th>\n",
       "      <td>3149.0</td>\n",
       "      <td>6.842188e+17</td>\n",
       "      <td>NaN</td>\n",
       "      <td>False</td>\n",
       "      <td>852.0</td>\n",
       "      <td>0.9379</td>\n",
       "    </tr>\n",
       "    <tr>\n",
       "      <th>0.380</th>\n",
       "      <th>0.620</th>\n",
       "      <td>9323.0</td>\n",
       "      <td>7.182689e+17</td>\n",
       "      <td>NaN</td>\n",
       "      <td>False</td>\n",
       "      <td>2892.0</td>\n",
       "      <td>0.8469</td>\n",
       "    </tr>\n",
       "    <tr>\n",
       "      <th>0.382</th>\n",
       "      <th>0.618</th>\n",
       "      <td>275033.0</td>\n",
       "      <td>1.547862e+18</td>\n",
       "      <td>NaN</td>\n",
       "      <td>False</td>\n",
       "      <td>58200.0</td>\n",
       "      <td>1.6878</td>\n",
       "    </tr>\n",
       "    <tr>\n",
       "      <th>0.385</th>\n",
       "      <th>0.615</th>\n",
       "      <td>24854.0</td>\n",
       "      <td>7.606693e+17</td>\n",
       "      <td>NaN</td>\n",
       "      <td>False</td>\n",
       "      <td>5477.0</td>\n",
       "      <td>0.8398</td>\n",
       "    </tr>\n",
       "    <tr>\n",
       "      <th>...</th>\n",
       "      <th>...</th>\n",
       "      <th>...</th>\n",
       "      <td>...</td>\n",
       "      <td>...</td>\n",
       "      <td>...</td>\n",
       "      <td>...</td>\n",
       "      <td>...</td>\n",
       "      <td>...</td>\n",
       "    </tr>\n",
       "    <tr>\n",
       "      <th>0.438</th>\n",
       "      <th>0.524</th>\n",
       "      <th>0.038</th>\n",
       "      <td>27046.0</td>\n",
       "      <td>7.772803e+17</td>\n",
       "      <td>NaN</td>\n",
       "      <td>False</td>\n",
       "      <td>7958.0</td>\n",
       "      <td>-0.9046</td>\n",
       "    </tr>\n",
       "    <tr>\n",
       "      <th>0.439</th>\n",
       "      <th>0.462</th>\n",
       "      <th>0.099</th>\n",
       "      <td>84723.0</td>\n",
       "      <td>8.207641e+17</td>\n",
       "      <td>NaN</td>\n",
       "      <td>False</td>\n",
       "      <td>18845.0</td>\n",
       "      <td>-0.9354</td>\n",
       "    </tr>\n",
       "    <tr>\n",
       "      <th>0.440</th>\n",
       "      <th>0.560</th>\n",
       "      <th>0.000</th>\n",
       "      <td>248568.0</td>\n",
       "      <td>2.401790e+18</td>\n",
       "      <td>NaN</td>\n",
       "      <td>False</td>\n",
       "      <td>60760.0</td>\n",
       "      <td>-2.7473</td>\n",
       "    </tr>\n",
       "    <tr>\n",
       "      <th>0.443</th>\n",
       "      <th>0.475</th>\n",
       "      <th>0.081</th>\n",
       "      <td>26857.0</td>\n",
       "      <td>7.762691e+17</td>\n",
       "      <td>NaN</td>\n",
       "      <td>False</td>\n",
       "      <td>7725.0</td>\n",
       "      <td>-0.9178</td>\n",
       "    </tr>\n",
       "    <tr>\n",
       "      <th rowspan=\"2\" valign=\"top\">0.444</th>\n",
       "      <th>0.403</th>\n",
       "      <th>0.153</th>\n",
       "      <td>12502.0</td>\n",
       "      <td>6.999688e+17</td>\n",
       "      <td>NaN</td>\n",
       "      <td>False</td>\n",
       "      <td>25155.0</td>\n",
       "      <td>-0.7357</td>\n",
       "    </tr>\n",
       "    <tr>\n",
       "      <th>0.556</th>\n",
       "      <th>0.000</th>\n",
       "      <td>38018.0</td>\n",
       "      <td>1.470375e+18</td>\n",
       "      <td>NaN</td>\n",
       "      <td>False</td>\n",
       "      <td>12604.0</td>\n",
       "      <td>-1.4198</td>\n",
       "    </tr>\n",
       "    <tr>\n",
       "      <th>0.447</th>\n",
       "      <th>0.553</th>\n",
       "      <th>0.000</th>\n",
       "      <td>14397.0</td>\n",
       "      <td>7.104096e+17</td>\n",
       "      <td>NaN</td>\n",
       "      <td>False</td>\n",
       "      <td>4361.0</td>\n",
       "      <td>-0.9269</td>\n",
       "    </tr>\n",
       "    <tr>\n",
       "      <th>0.448</th>\n",
       "      <th>0.552</th>\n",
       "      <th>0.000</th>\n",
       "      <td>16189.0</td>\n",
       "      <td>7.130069e+17</td>\n",
       "      <td>NaN</td>\n",
       "      <td>False</td>\n",
       "      <td>5717.0</td>\n",
       "      <td>-0.9184</td>\n",
       "    </tr>\n",
       "    <tr>\n",
       "      <th>0.449</th>\n",
       "      <th>0.551</th>\n",
       "      <th>0.000</th>\n",
       "      <td>166517.0</td>\n",
       "      <td>1.567578e+18</td>\n",
       "      <td>NaN</td>\n",
       "      <td>False</td>\n",
       "      <td>40522.0</td>\n",
       "      <td>-1.8705</td>\n",
       "    </tr>\n",
       "    <tr>\n",
       "      <th>0.450</th>\n",
       "      <th>0.478</th>\n",
       "      <th>0.072</th>\n",
       "      <td>46998.0</td>\n",
       "      <td>7.115866e+17</td>\n",
       "      <td>NaN</td>\n",
       "      <td>False</td>\n",
       "      <td>17688.0</td>\n",
       "      <td>-0.9256</td>\n",
       "    </tr>\n",
       "    <tr>\n",
       "      <th>0.452</th>\n",
       "      <th>0.369</th>\n",
       "      <th>0.179</th>\n",
       "      <td>108710.0</td>\n",
       "      <td>8.353258e+17</td>\n",
       "      <td>NaN</td>\n",
       "      <td>False</td>\n",
       "      <td>26341.0</td>\n",
       "      <td>-0.8620</td>\n",
       "    </tr>\n",
       "    <tr>\n",
       "      <th>0.455</th>\n",
       "      <th>0.315</th>\n",
       "      <th>0.230</th>\n",
       "      <td>14700.0</td>\n",
       "      <td>7.691852e+17</td>\n",
       "      <td>NaN</td>\n",
       "      <td>False</td>\n",
       "      <td>5665.0</td>\n",
       "      <td>-0.6114</td>\n",
       "    </tr>\n",
       "    <tr>\n",
       "      <th>0.456</th>\n",
       "      <th>0.544</th>\n",
       "      <th>0.000</th>\n",
       "      <td>13308.0</td>\n",
       "      <td>7.834806e+17</td>\n",
       "      <td>NaN</td>\n",
       "      <td>False</td>\n",
       "      <td>3592.0</td>\n",
       "      <td>-0.7717</td>\n",
       "    </tr>\n",
       "    <tr>\n",
       "      <th>0.463</th>\n",
       "      <th>0.537</th>\n",
       "      <th>0.000</th>\n",
       "      <td>2.0</td>\n",
       "      <td>8.289374e+17</td>\n",
       "      <td>NaN</td>\n",
       "      <td>False</td>\n",
       "      <td>2.0</td>\n",
       "      <td>-0.9370</td>\n",
       "    </tr>\n",
       "    <tr>\n",
       "      <th>0.466</th>\n",
       "      <th>0.420</th>\n",
       "      <th>0.114</th>\n",
       "      <td>25376.0</td>\n",
       "      <td>7.315034e+17</td>\n",
       "      <td>NaN</td>\n",
       "      <td>False</td>\n",
       "      <td>8279.0</td>\n",
       "      <td>-0.8943</td>\n",
       "    </tr>\n",
       "    <tr>\n",
       "      <th>0.467</th>\n",
       "      <th>0.533</th>\n",
       "      <th>0.000</th>\n",
       "      <td>53145.0</td>\n",
       "      <td>7.568049e+17</td>\n",
       "      <td>NaN</td>\n",
       "      <td>False</td>\n",
       "      <td>23961.0</td>\n",
       "      <td>-0.9313</td>\n",
       "    </tr>\n",
       "    <tr>\n",
       "      <th>0.478</th>\n",
       "      <th>0.522</th>\n",
       "      <th>0.000</th>\n",
       "      <td>3844.0</td>\n",
       "      <td>6.927005e+17</td>\n",
       "      <td>NaN</td>\n",
       "      <td>False</td>\n",
       "      <td>1112.0</td>\n",
       "      <td>-0.6705</td>\n",
       "    </tr>\n",
       "    <tr>\n",
       "      <th rowspan=\"2\" valign=\"top\">0.484</th>\n",
       "      <th>0.330</th>\n",
       "      <th>0.187</th>\n",
       "      <td>10243.0</td>\n",
       "      <td>6.998025e+17</td>\n",
       "      <td>NaN</td>\n",
       "      <td>False</td>\n",
       "      <td>4132.0</td>\n",
       "      <td>-0.6597</td>\n",
       "    </tr>\n",
       "    <tr>\n",
       "      <th>0.516</th>\n",
       "      <th>0.000</th>\n",
       "      <td>21527.0</td>\n",
       "      <td>7.590241e+17</td>\n",
       "      <td>NaN</td>\n",
       "      <td>False</td>\n",
       "      <td>6406.0</td>\n",
       "      <td>-0.9631</td>\n",
       "    </tr>\n",
       "    <tr>\n",
       "      <th>0.485</th>\n",
       "      <th>0.441</th>\n",
       "      <th>0.074</th>\n",
       "      <td>14751.0</td>\n",
       "      <td>7.068126e+17</td>\n",
       "      <td>NaN</td>\n",
       "      <td>False</td>\n",
       "      <td>5028.0</td>\n",
       "      <td>-0.9324</td>\n",
       "    </tr>\n",
       "    <tr>\n",
       "      <th>0.493</th>\n",
       "      <th>0.403</th>\n",
       "      <th>0.104</th>\n",
       "      <td>6913.0</td>\n",
       "      <td>6.988540e+17</td>\n",
       "      <td>NaN</td>\n",
       "      <td>False</td>\n",
       "      <td>1964.0</td>\n",
       "      <td>-0.8259</td>\n",
       "    </tr>\n",
       "    <tr>\n",
       "      <th>0.497</th>\n",
       "      <th>0.424</th>\n",
       "      <th>0.079</th>\n",
       "      <td>56414.0</td>\n",
       "      <td>7.537209e+17</td>\n",
       "      <td>NaN</td>\n",
       "      <td>False</td>\n",
       "      <td>24772.0</td>\n",
       "      <td>-0.9413</td>\n",
       "    </tr>\n",
       "    <tr>\n",
       "      <th>0.500</th>\n",
       "      <th>0.373</th>\n",
       "      <th>0.127</th>\n",
       "      <td>104434.0</td>\n",
       "      <td>8.318305e+17</td>\n",
       "      <td>NaN</td>\n",
       "      <td>False</td>\n",
       "      <td>25838.0</td>\n",
       "      <td>-0.8999</td>\n",
       "    </tr>\n",
       "    <tr>\n",
       "      <th>0.510</th>\n",
       "      <th>0.490</th>\n",
       "      <th>0.000</th>\n",
       "      <td>9394.0</td>\n",
       "      <td>7.296465e+17</td>\n",
       "      <td>NaN</td>\n",
       "      <td>False</td>\n",
       "      <td>4314.0</td>\n",
       "      <td>-0.7430</td>\n",
       "    </tr>\n",
       "    <tr>\n",
       "      <th>0.519</th>\n",
       "      <th>0.403</th>\n",
       "      <th>0.077</th>\n",
       "      <td>4623.0</td>\n",
       "      <td>6.901677e+17</td>\n",
       "      <td>NaN</td>\n",
       "      <td>False</td>\n",
       "      <td>1851.0</td>\n",
       "      <td>-0.9210</td>\n",
       "    </tr>\n",
       "    <tr>\n",
       "      <th>0.528</th>\n",
       "      <th>0.382</th>\n",
       "      <th>0.091</th>\n",
       "      <td>32567.0</td>\n",
       "      <td>8.034232e+17</td>\n",
       "      <td>NaN</td>\n",
       "      <td>False</td>\n",
       "      <td>7723.0</td>\n",
       "      <td>-0.9293</td>\n",
       "    </tr>\n",
       "    <tr>\n",
       "      <th>0.536</th>\n",
       "      <th>0.464</th>\n",
       "      <th>0.000</th>\n",
       "      <td>26676.0</td>\n",
       "      <td>7.419651e+17</td>\n",
       "      <td>NaN</td>\n",
       "      <td>False</td>\n",
       "      <td>9368.0</td>\n",
       "      <td>-0.9286</td>\n",
       "    </tr>\n",
       "    <tr>\n",
       "      <th>0.596</th>\n",
       "      <th>0.404</th>\n",
       "      <th>0.000</th>\n",
       "      <td>93960.0</td>\n",
       "      <td>8.189907e+17</td>\n",
       "      <td>NaN</td>\n",
       "      <td>False</td>\n",
       "      <td>29205.0</td>\n",
       "      <td>-0.7088</td>\n",
       "    </tr>\n",
       "    <tr>\n",
       "      <th>0.605</th>\n",
       "      <th>0.395</th>\n",
       "      <th>0.000</th>\n",
       "      <td>209846.0</td>\n",
       "      <td>8.024992e+17</td>\n",
       "      <td>NaN</td>\n",
       "      <td>False</td>\n",
       "      <td>99483.0</td>\n",
       "      <td>-0.6800</td>\n",
       "    </tr>\n",
       "    <tr>\n",
       "      <th>0.630</th>\n",
       "      <th>0.370</th>\n",
       "      <th>0.000</th>\n",
       "      <td>10932.0</td>\n",
       "      <td>7.111633e+17</td>\n",
       "      <td>NaN</td>\n",
       "      <td>False</td>\n",
       "      <td>3455.0</td>\n",
       "      <td>-0.9360</td>\n",
       "    </tr>\n",
       "  </tbody>\n",
       "</table>\n",
       "<p>1303 rows × 6 columns</p>\n",
       "</div>"
      ],
      "text/plain": [
       "                   favorite_count        id_str  in_reply_to_user_id_str  \\\n",
       "neg   neu   pos                                                            \n",
       "0.000 0.000 0.000         18917.0  2.109312e+18                      NaN   \n",
       "      0.109 0.891          7144.0  7.405171e+17                      NaN   \n",
       "      0.122 0.878         14496.0  7.226287e+17                      NaN   \n",
       "      0.204 0.796         27688.0  7.101779e+17                      NaN   \n",
       "      0.208 0.792          4969.0  7.327366e+17                      NaN   \n",
       "      0.222 0.778         14219.0  7.277095e+17                      NaN   \n",
       "      0.247 0.753         15681.0  7.787593e+17                      NaN   \n",
       "      0.264 0.736        199748.0  1.615692e+18                      NaN   \n",
       "      0.274 0.726         19522.0  7.012402e+17                      NaN   \n",
       "      0.291 0.709          5286.0  7.327297e+17                      NaN   \n",
       "      0.296 0.704          4341.0  6.902727e+17                      NaN   \n",
       "      0.300 0.700          4815.0  7.327333e+17                      NaN   \n",
       "      0.302 0.698         17388.0  7.645538e+17                      NaN   \n",
       "      0.309 0.691          4856.0  7.327261e+17                      NaN   \n",
       "      0.310 0.690          8110.0  7.407073e+17                      NaN   \n",
       "      0.313 0.687          6112.0  7.353450e+17                      NaN   \n",
       "      0.314 0.686          7844.0  7.353460e+17                      NaN   \n",
       "      0.328 0.672         22422.0  1.516210e+18                      NaN   \n",
       "      0.338 0.662          8087.0  7.195005e+17                      NaN   \n",
       "      0.339 0.661          6807.0  7.353454e+17                      NaN   \n",
       "      0.342 0.658          2665.0  6.867530e+17                      NaN   \n",
       "      0.343 0.657         24061.0  1.444111e+18                      NaN   \n",
       "      0.349 0.651         31863.0  1.528942e+18                      NaN   \n",
       "      0.353 0.647         26589.0  1.506569e+18                      NaN   \n",
       "      0.354 0.646         21252.0  7.373768e+17                      NaN   \n",
       "      0.355 0.645          2780.0  6.830607e+17                      NaN   \n",
       "      0.373 0.627          3149.0  6.842188e+17                      NaN   \n",
       "      0.380 0.620          9323.0  7.182689e+17                      NaN   \n",
       "      0.382 0.618        275033.0  1.547862e+18                      NaN   \n",
       "      0.385 0.615         24854.0  7.606693e+17                      NaN   \n",
       "...                           ...           ...                      ...   \n",
       "0.438 0.524 0.038         27046.0  7.772803e+17                      NaN   \n",
       "0.439 0.462 0.099         84723.0  8.207641e+17                      NaN   \n",
       "0.440 0.560 0.000        248568.0  2.401790e+18                      NaN   \n",
       "0.443 0.475 0.081         26857.0  7.762691e+17                      NaN   \n",
       "0.444 0.403 0.153         12502.0  6.999688e+17                      NaN   \n",
       "      0.556 0.000         38018.0  1.470375e+18                      NaN   \n",
       "0.447 0.553 0.000         14397.0  7.104096e+17                      NaN   \n",
       "0.448 0.552 0.000         16189.0  7.130069e+17                      NaN   \n",
       "0.449 0.551 0.000        166517.0  1.567578e+18                      NaN   \n",
       "0.450 0.478 0.072         46998.0  7.115866e+17                      NaN   \n",
       "0.452 0.369 0.179        108710.0  8.353258e+17                      NaN   \n",
       "0.455 0.315 0.230         14700.0  7.691852e+17                      NaN   \n",
       "0.456 0.544 0.000         13308.0  7.834806e+17                      NaN   \n",
       "0.463 0.537 0.000             2.0  8.289374e+17                      NaN   \n",
       "0.466 0.420 0.114         25376.0  7.315034e+17                      NaN   \n",
       "0.467 0.533 0.000         53145.0  7.568049e+17                      NaN   \n",
       "0.478 0.522 0.000          3844.0  6.927005e+17                      NaN   \n",
       "0.484 0.330 0.187         10243.0  6.998025e+17                      NaN   \n",
       "      0.516 0.000         21527.0  7.590241e+17                      NaN   \n",
       "0.485 0.441 0.074         14751.0  7.068126e+17                      NaN   \n",
       "0.493 0.403 0.104          6913.0  6.988540e+17                      NaN   \n",
       "0.497 0.424 0.079         56414.0  7.537209e+17                      NaN   \n",
       "0.500 0.373 0.127        104434.0  8.318305e+17                      NaN   \n",
       "0.510 0.490 0.000          9394.0  7.296465e+17                      NaN   \n",
       "0.519 0.403 0.077          4623.0  6.901677e+17                      NaN   \n",
       "0.528 0.382 0.091         32567.0  8.034232e+17                      NaN   \n",
       "0.536 0.464 0.000         26676.0  7.419651e+17                      NaN   \n",
       "0.596 0.404 0.000         93960.0  8.189907e+17                      NaN   \n",
       "0.605 0.395 0.000        209846.0  8.024992e+17                      NaN   \n",
       "0.630 0.370 0.000         10932.0  7.111633e+17                      NaN   \n",
       "\n",
       "                   is_retweet  retweet_count     com  \n",
       "neg   neu   pos                                       \n",
       "0.000 0.000 0.000       False        10072.0  0.0000  \n",
       "      0.109 0.891       False         1586.0  0.8469  \n",
       "      0.122 0.878       False         5354.0  0.8012  \n",
       "      0.204 0.796       False         7699.0  0.8313  \n",
       "      0.208 0.792       False          908.0  0.5859  \n",
       "      0.222 0.778       False         3480.0  0.7920  \n",
       "      0.247 0.753       False         4559.0  0.9215  \n",
       "      0.264 0.736       False        31565.0  0.8398  \n",
       "      0.274 0.726       False         5940.0  0.9691  \n",
       "      0.291 0.709       False         1015.0  0.8070  \n",
       "      0.296 0.704       False         1051.0  0.9358  \n",
       "      0.300 0.700       False         1008.0  0.7901  \n",
       "      0.302 0.698       False         4621.0  0.9735  \n",
       "      0.309 0.691       False         1016.0  0.7717  \n",
       "      0.310 0.690       False         1736.0  0.7712  \n",
       "      0.313 0.687       False         1422.0  0.8684  \n",
       "      0.314 0.686       False         1817.0  0.9199  \n",
       "      0.328 0.672       False         4630.0  1.2498  \n",
       "      0.338 0.662       False         2223.0  0.8687  \n",
       "      0.339 0.661       False         1684.0  0.5994  \n",
       "      0.342 0.658       False          688.0  0.8268  \n",
       "      0.343 0.657       False         5607.0  1.8478  \n",
       "      0.349 0.651       False         8343.0  1.6363  \n",
       "      0.353 0.647       False         6169.0  1.6883  \n",
       "      0.354 0.646       False         5172.0  0.8070  \n",
       "      0.355 0.645       False          654.0  0.8442  \n",
       "      0.373 0.627       False          852.0  0.9379  \n",
       "      0.380 0.620       False         2892.0  0.8469  \n",
       "      0.382 0.618       False        58200.0  1.6878  \n",
       "      0.385 0.615       False         5477.0  0.8398  \n",
       "...                       ...            ...     ...  \n",
       "0.438 0.524 0.038       False         7958.0 -0.9046  \n",
       "0.439 0.462 0.099       False        18845.0 -0.9354  \n",
       "0.440 0.560 0.000       False        60760.0 -2.7473  \n",
       "0.443 0.475 0.081       False         7725.0 -0.9178  \n",
       "0.444 0.403 0.153       False        25155.0 -0.7357  \n",
       "      0.556 0.000       False        12604.0 -1.4198  \n",
       "0.447 0.553 0.000       False         4361.0 -0.9269  \n",
       "0.448 0.552 0.000       False         5717.0 -0.9184  \n",
       "0.449 0.551 0.000       False        40522.0 -1.8705  \n",
       "0.450 0.478 0.072       False        17688.0 -0.9256  \n",
       "0.452 0.369 0.179       False        26341.0 -0.8620  \n",
       "0.455 0.315 0.230       False         5665.0 -0.6114  \n",
       "0.456 0.544 0.000       False         3592.0 -0.7717  \n",
       "0.463 0.537 0.000       False            2.0 -0.9370  \n",
       "0.466 0.420 0.114       False         8279.0 -0.8943  \n",
       "0.467 0.533 0.000       False        23961.0 -0.9313  \n",
       "0.478 0.522 0.000       False         1112.0 -0.6705  \n",
       "0.484 0.330 0.187       False         4132.0 -0.6597  \n",
       "      0.516 0.000       False         6406.0 -0.9631  \n",
       "0.485 0.441 0.074       False         5028.0 -0.9324  \n",
       "0.493 0.403 0.104       False         1964.0 -0.8259  \n",
       "0.497 0.424 0.079       False        24772.0 -0.9413  \n",
       "0.500 0.373 0.127       False        25838.0 -0.8999  \n",
       "0.510 0.490 0.000       False         4314.0 -0.7430  \n",
       "0.519 0.403 0.077       False         1851.0 -0.9210  \n",
       "0.528 0.382 0.091       False         7723.0 -0.9293  \n",
       "0.536 0.464 0.000       False         9368.0 -0.9286  \n",
       "0.596 0.404 0.000       False        29205.0 -0.7088  \n",
       "0.605 0.395 0.000       False        99483.0 -0.6800  \n",
       "0.630 0.370 0.000       False         3455.0 -0.9360  \n",
       "\n",
       "[1303 rows x 6 columns]"
      ]
     },
     "execution_count": 41,
     "metadata": {},
     "output_type": "execute_result"
    }
   ],
   "source": []
  },
  {
   "cell_type": "code",
   "execution_count": 36,
   "metadata": {},
   "outputs": [
    {
     "data": {
      "text/plain": [
       "created_at                 1315\n",
       "favorite_count             1315\n",
       "id_str                     1315\n",
       "in_reply_to_user_id_str       2\n",
       "is_retweet                 1315\n",
       "retweet_count              1315\n",
       "source                     1315\n",
       "text                       1315\n",
       "neg                        1315\n",
       "neu                        1315\n",
       "pos                        1315\n",
       "com                        1315\n",
       "dtype: int64"
      ]
     },
     "execution_count": 36,
     "metadata": {},
     "output_type": "execute_result"
    }
   ],
   "source": [
    "don[don['com'] >= 0].count()"
   ]
  },
  {
   "cell_type": "code",
   "execution_count": 33,
   "metadata": {},
   "outputs": [
    {
     "data": {
      "text/plain": [
       "favorite_count             1666\n",
       "id_str                     1666\n",
       "in_reply_to_user_id_str      13\n",
       "is_retweet                 1666\n",
       "retweet_count              1666\n",
       "source                     1666\n",
       "text                       1666\n",
       "neg                        1666\n",
       "neu                        1666\n",
       "pos                        1666\n",
       "com                        1666\n",
       "dtype: int64"
      ]
     },
     "execution_count": 33,
     "metadata": {},
     "output_type": "execute_result"
    }
   ],
   "source": [
    "neg"
   ]
  },
  {
   "cell_type": "code",
   "execution_count": 61,
   "metadata": {
    "scrolled": true
   },
   "outputs": [
    {
     "data": {
      "text/html": [
       "<div>\n",
       "<style>\n",
       "    .dataframe thead tr:only-child th {\n",
       "        text-align: right;\n",
       "    }\n",
       "\n",
       "    .dataframe thead th {\n",
       "        text-align: left;\n",
       "    }\n",
       "\n",
       "    .dataframe tbody tr th {\n",
       "        vertical-align: top;\n",
       "    }\n",
       "</style>\n",
       "<table border=\"1\" class=\"dataframe\">\n",
       "  <thead>\n",
       "    <tr style=\"text-align: right;\">\n",
       "      <th></th>\n",
       "      <th>favorite_count</th>\n",
       "      <th>is_retweet</th>\n",
       "      <th>retweet_count</th>\n",
       "      <th>source</th>\n",
       "      <th>text</th>\n",
       "      <th>hours</th>\n",
       "      <th>weekday</th>\n",
       "      <th>num_words</th>\n",
       "      <th>num_unique_words</th>\n",
       "      <th>num_char</th>\n",
       "      <th>num_stops</th>\n",
       "      <th>num_punc</th>\n",
       "      <th>num_upper</th>\n",
       "      <th>num_title</th>\n",
       "      <th>com</th>\n",
       "    </tr>\n",
       "    <tr>\n",
       "      <th>created_at</th>\n",
       "      <th></th>\n",
       "      <th></th>\n",
       "      <th></th>\n",
       "      <th></th>\n",
       "      <th></th>\n",
       "      <th></th>\n",
       "      <th></th>\n",
       "      <th></th>\n",
       "      <th></th>\n",
       "      <th></th>\n",
       "      <th></th>\n",
       "      <th></th>\n",
       "      <th></th>\n",
       "      <th></th>\n",
       "      <th></th>\n",
       "    </tr>\n",
       "  </thead>\n",
       "  <tbody>\n",
       "    <tr>\n",
       "      <th>2016-01-01 00:44:14</th>\n",
       "      <td>6735</td>\n",
       "      <td>0</td>\n",
       "      <td>2108</td>\n",
       "      <td>Twitter for Android</td>\n",
       "      <td>I will be on  live,  with members of my family...</td>\n",
       "      <td>0</td>\n",
       "      <td>Friday</td>\n",
       "      <td>25</td>\n",
       "      <td>24</td>\n",
       "      <td>4.804021</td>\n",
       "      <td>12</td>\n",
       "      <td>1.945910</td>\n",
       "      <td>6</td>\n",
       "      <td>5</td>\n",
       "      <td>0.7519</td>\n",
       "    </tr>\n",
       "    <tr>\n",
       "      <th>2016-01-01 06:08:06</th>\n",
       "      <td>7490</td>\n",
       "      <td>0</td>\n",
       "      <td>2721</td>\n",
       "      <td>Twitter for Android</td>\n",
       "      <td>\" Hillary said she was in a \"Fog of War\" as ex...</td>\n",
       "      <td>6</td>\n",
       "      <td>Friday</td>\n",
       "      <td>25</td>\n",
       "      <td>24</td>\n",
       "      <td>4.828314</td>\n",
       "      <td>11</td>\n",
       "      <td>1.945910</td>\n",
       "      <td>2</td>\n",
       "      <td>7</td>\n",
       "      <td>-0.8478</td>\n",
       "    </tr>\n",
       "    <tr>\n",
       "      <th>2016-01-01 21:29:56</th>\n",
       "      <td>3330</td>\n",
       "      <td>0</td>\n",
       "      <td>933</td>\n",
       "      <td>Twitter for Android</td>\n",
       "      <td>\"   they're spending millions but you're still...</td>\n",
       "      <td>21</td>\n",
       "      <td>Friday</td>\n",
       "      <td>14</td>\n",
       "      <td>14</td>\n",
       "      <td>4.356709</td>\n",
       "      <td>2</td>\n",
       "      <td>1.609438</td>\n",
       "      <td>0</td>\n",
       "      <td>2</td>\n",
       "      <td>0.7351</td>\n",
       "    </tr>\n",
       "    <tr>\n",
       "      <th>2016-01-01 23:00:09</th>\n",
       "      <td>8495</td>\n",
       "      <td>0</td>\n",
       "      <td>2642</td>\n",
       "      <td>Twitter for Android</td>\n",
       "      <td>Well, the year has officially begun. I have ma...</td>\n",
       "      <td>23</td>\n",
       "      <td>Friday</td>\n",
       "      <td>27</td>\n",
       "      <td>27</td>\n",
       "      <td>4.934474</td>\n",
       "      <td>14</td>\n",
       "      <td>1.098612</td>\n",
       "      <td>1</td>\n",
       "      <td>2</td>\n",
       "      <td>0.6325</td>\n",
       "    </tr>\n",
       "    <tr>\n",
       "      <th>2016-01-01 23:02:05</th>\n",
       "      <td>2780</td>\n",
       "      <td>0</td>\n",
       "      <td>654</td>\n",
       "      <td>Twitter for Android</td>\n",
       "      <td>\"  we love u to Trump Family. God bless you.\"</td>\n",
       "      <td>23</td>\n",
       "      <td>Friday</td>\n",
       "      <td>10</td>\n",
       "      <td>10</td>\n",
       "      <td>3.806662</td>\n",
       "      <td>2</td>\n",
       "      <td>1.386294</td>\n",
       "      <td>0</td>\n",
       "      <td>3</td>\n",
       "      <td>0.8442</td>\n",
       "    </tr>\n",
       "  </tbody>\n",
       "</table>\n",
       "</div>"
      ],
      "text/plain": [
       "                     favorite_count  is_retweet  retweet_count  \\\n",
       "created_at                                                       \n",
       "2016-01-01 00:44:14            6735           0           2108   \n",
       "2016-01-01 06:08:06            7490           0           2721   \n",
       "2016-01-01 21:29:56            3330           0            933   \n",
       "2016-01-01 23:00:09            8495           0           2642   \n",
       "2016-01-01 23:02:05            2780           0            654   \n",
       "\n",
       "                                  source  \\\n",
       "created_at                                 \n",
       "2016-01-01 00:44:14  Twitter for Android   \n",
       "2016-01-01 06:08:06  Twitter for Android   \n",
       "2016-01-01 21:29:56  Twitter for Android   \n",
       "2016-01-01 23:00:09  Twitter for Android   \n",
       "2016-01-01 23:02:05  Twitter for Android   \n",
       "\n",
       "                                                                  text  hours  \\\n",
       "created_at                                                                      \n",
       "2016-01-01 00:44:14  I will be on  live,  with members of my family...      0   \n",
       "2016-01-01 06:08:06  \" Hillary said she was in a \"Fog of War\" as ex...      6   \n",
       "2016-01-01 21:29:56  \"   they're spending millions but you're still...     21   \n",
       "2016-01-01 23:00:09  Well, the year has officially begun. I have ma...     23   \n",
       "2016-01-01 23:02:05      \"  we love u to Trump Family. God bless you.\"     23   \n",
       "\n",
       "                    weekday  num_words  num_unique_words  num_char  num_stops  \\\n",
       "created_at                                                                      \n",
       "2016-01-01 00:44:14  Friday         25                24  4.804021         12   \n",
       "2016-01-01 06:08:06  Friday         25                24  4.828314         11   \n",
       "2016-01-01 21:29:56  Friday         14                14  4.356709          2   \n",
       "2016-01-01 23:00:09  Friday         27                27  4.934474         14   \n",
       "2016-01-01 23:02:05  Friday         10                10  3.806662          2   \n",
       "\n",
       "                     num_punc  num_upper  num_title     com  \n",
       "created_at                                                   \n",
       "2016-01-01 00:44:14  1.945910          6          5  0.7519  \n",
       "2016-01-01 06:08:06  1.945910          2          7 -0.8478  \n",
       "2016-01-01 21:29:56  1.609438          0          2  0.7351  \n",
       "2016-01-01 23:00:09  1.098612          1          2  0.6325  \n",
       "2016-01-01 23:02:05  1.386294          0          3  0.8442  "
      ]
     },
     "execution_count": 61,
     "metadata": {},
     "output_type": "execute_result"
    }
   ],
   "source": [
    "don.head()"
   ]
  },
  {
   "cell_type": "code",
   "execution_count": 62,
   "metadata": {
    "collapsed": true
   },
   "outputs": [],
   "source": [
    "#resample for daily time period, Calculate sentiment for all tweets per day\n",
    "trump_sent = pd.DataFrame(don.resample('D')['com'].sum())\n",
    "\n",
    "trump_sent.to_csv(trump_sent.csv')"
   ]
  },
  {
   "cell_type": "code",
   "execution_count": 66,
   "metadata": {},
   "outputs": [
    {
     "data": {
      "text/plain": [
       "(625, 11)"
      ]
     },
     "execution_count": 66,
     "metadata": {},
     "output_type": "execute_result"
    }
   ],
   "source": [
    "trump_sent = pd.DataFrame(trump.resample('D').sum())\n",
    "trump_sent.shape"
   ]
  },
  {
   "cell_type": "code",
   "execution_count": 64,
   "metadata": {},
   "outputs": [
    {
     "data": {
      "text/plain": [
       "(450, 1)"
      ]
     },
     "execution_count": 64,
     "metadata": {},
     "output_type": "execute_result"
    }
   ],
   "source": [
    "don_sent.shape"
   ]
  },
  {
   "cell_type": "code",
   "execution_count": 21,
   "metadata": {},
   "outputs": [
    {
     "data": {
      "text/html": [
       "<div>\n",
       "<style>\n",
       "    .dataframe thead tr:only-child th {\n",
       "        text-align: right;\n",
       "    }\n",
       "\n",
       "    .dataframe thead th {\n",
       "        text-align: left;\n",
       "    }\n",
       "\n",
       "    .dataframe tbody tr th {\n",
       "        vertical-align: top;\n",
       "    }\n",
       "</style>\n",
       "<table border=\"1\" class=\"dataframe\">\n",
       "  <thead>\n",
       "    <tr style=\"text-align: right;\">\n",
       "      <th></th>\n",
       "      <th>com</th>\n",
       "    </tr>\n",
       "    <tr>\n",
       "      <th>created_at</th>\n",
       "      <th></th>\n",
       "    </tr>\n",
       "  </thead>\n",
       "  <tbody>\n",
       "    <tr>\n",
       "      <th>2016-01-01</th>\n",
       "      <td>6.4942</td>\n",
       "    </tr>\n",
       "    <tr>\n",
       "      <th>2016-01-02</th>\n",
       "      <td>2.8296</td>\n",
       "    </tr>\n",
       "    <tr>\n",
       "      <th>2016-01-03</th>\n",
       "      <td>0.1894</td>\n",
       "    </tr>\n",
       "    <tr>\n",
       "      <th>2016-01-04</th>\n",
       "      <td>2.0465</td>\n",
       "    </tr>\n",
       "    <tr>\n",
       "      <th>2016-01-05</th>\n",
       "      <td>8.0538</td>\n",
       "    </tr>\n",
       "  </tbody>\n",
       "</table>\n",
       "</div>"
      ],
      "text/plain": [
       "               com\n",
       "created_at        \n",
       "2016-01-01  6.4942\n",
       "2016-01-02  2.8296\n",
       "2016-01-03  0.1894\n",
       "2016-01-04  2.0465\n",
       "2016-01-05  8.0538"
      ]
     },
     "execution_count": 21,
     "metadata": {},
     "output_type": "execute_result"
    }
   ],
   "source": [
    "trump_sent.head()"
   ]
  },
  {
   "cell_type": "code",
   "execution_count": null,
   "metadata": {
    "collapsed": true
   },
   "outputs": [],
   "source": []
  }
 ],
 "metadata": {
  "kernelspec": {
   "display_name": "Python 3",
   "language": "python",
   "name": "python3"
  },
  "language_info": {
   "codemirror_mode": {
    "name": "ipython",
    "version": 3
   },
   "file_extension": ".py",
   "mimetype": "text/x-python",
   "name": "python",
   "nbconvert_exporter": "python",
   "pygments_lexer": "ipython3",
   "version": "3.6.2"
  }
 },
 "nbformat": 4,
 "nbformat_minor": 2
}
