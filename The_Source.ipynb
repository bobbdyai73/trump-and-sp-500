{
 "cells": [
  {
   "cell_type": "markdown",
   "metadata": {},
   "source": [
    "# THE SOURCE"
   ]
  },
  {
   "cell_type": "code",
   "execution_count": 1,
   "metadata": {},
   "outputs": [
    {
     "name": "stderr",
     "output_type": "stream",
     "text": [
      "C:\\Users\\bobbyd\\Anaconda2\\envs\\neural_net\\lib\\site-packages\\sklearn\\cross_validation.py:41: DeprecationWarning: This module was deprecated in version 0.18 in favor of the model_selection module into which all the refactored classes and functions are moved. Also note that the interface of the new CV iterators are different from that of this module. This module will be removed in 0.20.\n",
      "  \"This module will be removed in 0.20.\", DeprecationWarning)\n"
     ]
    }
   ],
   "source": [
    "\"\"\"The purpose of this report is to do an analyzation of the Donald Trump Twitter account and design a predictive model\n",
    "    to predict the exact source of an individual tweet from the Donald Trump account. The result of the analysis will then be used\n",
    "    as a factor in a seperate model design to show the effect of Donal Trump's Twitter on the financial markets.\"\"\"\n",
    "\n",
    "import pandas as pd\n",
    "import numpy as np\n",
    "import re\n",
    "import matplotlib.pyplot as plt\n",
    "from vaderSentiment.vaderSentiment import SentimentIntensityAnalyzer\n",
    "import nltk\n",
    "import string\n",
    "import seaborn as sns\n",
    "import xgboost as xgb\n",
    "from sklearn.feature_extraction.text import TfidfVectorizer, CountVectorizer\n",
    "from sklearn.decomposition import TruncatedSVD\n",
    "from sklearn import ensemble, metrics, model_selection, naive_bayes\n",
    "from sklearn.model_selection import train_test_split\n",
    "from sklearn.preprocessing import LabelEncoder\n",
    "from sklearn.model_selection import KFold\n",
    "\n",
    "%matplotlib inline"
   ]
  },
  {
   "cell_type": "code",
   "execution_count": 2,
   "metadata": {},
   "outputs": [
    {
     "data": {
      "text/plain": [
       "(5884, 8)"
      ]
     },
     "execution_count": 2,
     "metadata": {},
     "output_type": "execute_result"
    }
   ],
   "source": [
    "#read in files\n",
    "trump_16 = pd.read_json('tweets_2016.json')\n",
    "trump_17 = pd.read_json('tweets_2017.json')\n",
    "trump_16.sort_index(ascending=False, inplace = True)\n",
    "trump_17.sort_index(ascending =False, inplace = True)\n",
    "trump = trump_16.append(trump_17, ignore_index=True)\n",
    "trump.shape"
   ]
  },
  {
   "cell_type": "markdown",
   "metadata": {},
   "source": [
    "# Preprocessing and Feature Addition"
   ]
  },
  {
   "cell_type": "markdown",
   "metadata": {},
   "source": [
    "The dataset consists of 5884 individual tweets and from Midnight Janbuary 1, 2016 to 11:00 p.m. on September 17, 2017. There are 8 different characteristics to every observation\n",
    "\n",
    "1) Time created \n",
    "\n",
    "2) Number of Likes \n",
    "\n",
    "3) Id of Individual Tweet \n",
    "\n",
    "4) Id of User tweet replies to(if applicable) \n",
    "\n",
    "5) Tweet is Retweet(if applicable)\n",
    "\n",
    "6) Number of times tweet was retweeted\n",
    "\n",
    "7) Source\n",
    "\n",
    "8) Tweet\n",
    "\n",
    "The text of the data will have to preprocessed and features will need to be added for a complete analyzation to take place.\n",
    "\n",
    "Let's start with an overall investigation of the dataset. "
   ]
  },
  {
   "cell_type": "code",
   "execution_count": 3,
   "metadata": {
    "collapsed": true
   },
   "outputs": [],
   "source": [
    "#preprocess trump tweets by removing all twitter special characters, leaving only the words of the text.\n",
    "trump.text = trump.text.apply(lambda x: re.sub(r\"&\\S+\", \"\", x, flags=re.MULTILINE))\n",
    "trump.text = trump.text.apply(lambda x: re.sub(r\"@\\S+\", \"\", x, flags=re.MULTILINE))\n",
    "trump.text = trump.text.apply(lambda x: re.sub(r\"http\\S+\", \"\", x, flags=re.MULTILINE))\n",
    "trump.text = trump.text.apply(lambda x: re.sub(r'\\d+', '',x, flags=re.MULTILINE))"
   ]
  },
  {
   "cell_type": "code",
   "execution_count": 4,
   "metadata": {},
   "outputs": [
    {
     "data": {
      "text/html": [
       "<div>\n",
       "<style>\n",
       "    .dataframe thead tr:only-child th {\n",
       "        text-align: right;\n",
       "    }\n",
       "\n",
       "    .dataframe thead th {\n",
       "        text-align: left;\n",
       "    }\n",
       "\n",
       "    .dataframe tbody tr th {\n",
       "        vertical-align: top;\n",
       "    }\n",
       "</style>\n",
       "<table border=\"1\" class=\"dataframe\">\n",
       "  <thead>\n",
       "    <tr style=\"text-align: right;\">\n",
       "      <th></th>\n",
       "      <th>created_at</th>\n",
       "      <th>favorite_count</th>\n",
       "      <th>id_str</th>\n",
       "      <th>in_reply_to_user_id_str</th>\n",
       "      <th>is_retweet</th>\n",
       "      <th>retweet_count</th>\n",
       "      <th>source</th>\n",
       "      <th>text</th>\n",
       "    </tr>\n",
       "  </thead>\n",
       "  <tbody>\n",
       "    <tr>\n",
       "      <th>0</th>\n",
       "      <td>2016-01-01 00:44:14</td>\n",
       "      <td>6735</td>\n",
       "      <td>682723973449289728</td>\n",
       "      <td>NaN</td>\n",
       "      <td>False</td>\n",
       "      <td>2108</td>\n",
       "      <td>Twitter for Android</td>\n",
       "      <td>I will be on  live,  with members of my family...</td>\n",
       "    </tr>\n",
       "    <tr>\n",
       "      <th>1</th>\n",
       "      <td>2016-01-01 03:25:27</td>\n",
       "      <td>8581</td>\n",
       "      <td>682764544402440192</td>\n",
       "      <td>NaN</td>\n",
       "      <td>False</td>\n",
       "      <td>3460</td>\n",
       "      <td>Twitter for iPhone</td>\n",
       "      <td>HAPPY NEW YEAR  THANK YOU!</td>\n",
       "    </tr>\n",
       "    <tr>\n",
       "      <th>2</th>\n",
       "      <td>2016-01-01 05:18:23</td>\n",
       "      <td>9143</td>\n",
       "      <td>682792967736848384</td>\n",
       "      <td>NaN</td>\n",
       "      <td>False</td>\n",
       "      <td>3434</td>\n",
       "      <td>Twitter for iPhone</td>\n",
       "      <td>#HappyNewYearAmerica!</td>\n",
       "    </tr>\n",
       "    <tr>\n",
       "      <th>3</th>\n",
       "      <td>2016-01-01 06:07:28</td>\n",
       "      <td>8258</td>\n",
       "      <td>682805320217980928</td>\n",
       "      <td>NaN</td>\n",
       "      <td>False</td>\n",
       "      <td>1948</td>\n",
       "      <td>Twitter for iPhone</td>\n",
       "      <td>Happy New Year from #MarALago! Thank you to my...</td>\n",
       "    </tr>\n",
       "    <tr>\n",
       "      <th>4</th>\n",
       "      <td>2016-01-01 06:08:06</td>\n",
       "      <td>7490</td>\n",
       "      <td>682805477168779264</td>\n",
       "      <td>NaN</td>\n",
       "      <td>False</td>\n",
       "      <td>2721</td>\n",
       "      <td>Twitter for Android</td>\n",
       "      <td>\" Hillary said she was in a \"Fog of War\" as ex...</td>\n",
       "    </tr>\n",
       "  </tbody>\n",
       "</table>\n",
       "</div>"
      ],
      "text/plain": [
       "           created_at  favorite_count              id_str  \\\n",
       "0 2016-01-01 00:44:14            6735  682723973449289728   \n",
       "1 2016-01-01 03:25:27            8581  682764544402440192   \n",
       "2 2016-01-01 05:18:23            9143  682792967736848384   \n",
       "3 2016-01-01 06:07:28            8258  682805320217980928   \n",
       "4 2016-01-01 06:08:06            7490  682805477168779264   \n",
       "\n",
       "   in_reply_to_user_id_str  is_retweet  retweet_count               source  \\\n",
       "0                      NaN       False           2108  Twitter for Android   \n",
       "1                      NaN       False           3460   Twitter for iPhone   \n",
       "2                      NaN       False           3434   Twitter for iPhone   \n",
       "3                      NaN       False           1948   Twitter for iPhone   \n",
       "4                      NaN       False           2721  Twitter for Android   \n",
       "\n",
       "                                                text  \n",
       "0  I will be on  live,  with members of my family...  \n",
       "1                       HAPPY NEW YEAR  THANK YOU!    \n",
       "2                             #HappyNewYearAmerica!   \n",
       "3  Happy New Year from #MarALago! Thank you to my...  \n",
       "4  \" Hillary said she was in a \"Fog of War\" as ex...  "
      ]
     },
     "execution_count": 4,
     "metadata": {},
     "output_type": "execute_result"
    }
   ],
   "source": [
    "trump.head()"
   ]
  },
  {
   "cell_type": "code",
   "execution_count": 5,
   "metadata": {},
   "outputs": [
    {
     "data": {
      "text/html": [
       "<div>\n",
       "<style>\n",
       "    .dataframe thead tr:only-child th {\n",
       "        text-align: right;\n",
       "    }\n",
       "\n",
       "    .dataframe thead th {\n",
       "        text-align: left;\n",
       "    }\n",
       "\n",
       "    .dataframe tbody tr th {\n",
       "        vertical-align: top;\n",
       "    }\n",
       "</style>\n",
       "<table border=\"1\" class=\"dataframe\">\n",
       "  <thead>\n",
       "    <tr style=\"text-align: right;\">\n",
       "      <th></th>\n",
       "      <th>created_at</th>\n",
       "      <th>favorite_count</th>\n",
       "      <th>id_str</th>\n",
       "      <th>in_reply_to_user_id_str</th>\n",
       "      <th>is_retweet</th>\n",
       "      <th>retweet_count</th>\n",
       "      <th>source</th>\n",
       "      <th>text</th>\n",
       "    </tr>\n",
       "  </thead>\n",
       "  <tbody>\n",
       "    <tr>\n",
       "      <th>5879</th>\n",
       "      <td>2017-09-15 22:58:30</td>\n",
       "      <td>44914</td>\n",
       "      <td>908827394856947712</td>\n",
       "      <td>NaN</td>\n",
       "      <td>False</td>\n",
       "      <td>11823</td>\n",
       "      <td>Twitter for iPhone</td>\n",
       "      <td>We will defend our people, our nations and our...</td>\n",
       "    </tr>\n",
       "    <tr>\n",
       "      <th>5880</th>\n",
       "      <td>2017-09-15 23:54:00</td>\n",
       "      <td>71686</td>\n",
       "      <td>908841360131743744</td>\n",
       "      <td>NaN</td>\n",
       "      <td>False</td>\n",
       "      <td>17473</td>\n",
       "      <td>Media Studio</td>\n",
       "      <td>HAPPY th BIRTHDAY to the  The American people ...</td>\n",
       "    </tr>\n",
       "    <tr>\n",
       "      <th>5881</th>\n",
       "      <td>2017-09-16 22:40:23</td>\n",
       "      <td>22322</td>\n",
       "      <td>909185223887347712</td>\n",
       "      <td>NaN</td>\n",
       "      <td>False</td>\n",
       "      <td>4691</td>\n",
       "      <td>Twitter for iPhone</td>\n",
       "      <td>A great deal of good things happening for our ...</td>\n",
       "    </tr>\n",
       "    <tr>\n",
       "      <th>5882</th>\n",
       "      <td>2017-09-16 22:59:06</td>\n",
       "      <td>13697</td>\n",
       "      <td>909189931154771968</td>\n",
       "      <td>NaN</td>\n",
       "      <td>False</td>\n",
       "      <td>3347</td>\n",
       "      <td>Twitter for iPhone</td>\n",
       "      <td>Attorney General Bill Shuette will be a fantas...</td>\n",
       "    </tr>\n",
       "    <tr>\n",
       "      <th>5883</th>\n",
       "      <td>2017-09-16 23:04:03</td>\n",
       "      <td>11893</td>\n",
       "      <td>909191177810915328</td>\n",
       "      <td>NaN</td>\n",
       "      <td>False</td>\n",
       "      <td>2504</td>\n",
       "      <td>Twitter for iPhone</td>\n",
       "      <td>I will be in Huntsville, Alabama, on Saturday ...</td>\n",
       "    </tr>\n",
       "  </tbody>\n",
       "</table>\n",
       "</div>"
      ],
      "text/plain": [
       "              created_at  favorite_count              id_str  \\\n",
       "5879 2017-09-15 22:58:30           44914  908827394856947712   \n",
       "5880 2017-09-15 23:54:00           71686  908841360131743744   \n",
       "5881 2017-09-16 22:40:23           22322  909185223887347712   \n",
       "5882 2017-09-16 22:59:06           13697  909189931154771968   \n",
       "5883 2017-09-16 23:04:03           11893  909191177810915328   \n",
       "\n",
       "      in_reply_to_user_id_str  is_retweet  retweet_count              source  \\\n",
       "5879                      NaN       False          11823  Twitter for iPhone   \n",
       "5880                      NaN       False          17473        Media Studio   \n",
       "5881                      NaN       False           4691  Twitter for iPhone   \n",
       "5882                      NaN       False           3347  Twitter for iPhone   \n",
       "5883                      NaN       False           2504  Twitter for iPhone   \n",
       "\n",
       "                                                   text  \n",
       "5879  We will defend our people, our nations and our...  \n",
       "5880  HAPPY th BIRTHDAY to the  The American people ...  \n",
       "5881  A great deal of good things happening for our ...  \n",
       "5882  Attorney General Bill Shuette will be a fantas...  \n",
       "5883  I will be in Huntsville, Alabama, on Saturday ...  "
      ]
     },
     "execution_count": 5,
     "metadata": {},
     "output_type": "execute_result"
    }
   ],
   "source": [
    "trump.tail()"
   ]
  },
  {
   "cell_type": "code",
   "execution_count": 6,
   "metadata": {},
   "outputs": [
    {
     "name": "stdout",
     "output_type": "stream",
     "text": [
      "<class 'pandas.core.frame.DataFrame'>\n",
      "RangeIndex: 5884 entries, 0 to 5883\n",
      "Data columns (total 8 columns):\n",
      "created_at                 5884 non-null datetime64[ns]\n",
      "favorite_count             5884 non-null int64\n",
      "id_str                     5884 non-null int64\n",
      "in_reply_to_user_id_str    35 non-null float64\n",
      "is_retweet                 5884 non-null bool\n",
      "retweet_count              5884 non-null int64\n",
      "source                     5884 non-null object\n",
      "text                       5884 non-null object\n",
      "dtypes: bool(1), datetime64[ns](1), float64(1), int64(3), object(2)\n",
      "memory usage: 327.6+ KB\n"
     ]
    }
   ],
   "source": [
    "trump.info()"
   ]
  },
  {
   "cell_type": "markdown",
   "metadata": {},
   "source": [
    "The is_reply_to_user_id column only has 35 values, the id_str column has no repeat values and is not of use for analyzation or predicitve modeling. Both columns can be dropped from the dataset."
   ]
  },
  {
   "cell_type": "code",
   "execution_count": 7,
   "metadata": {
    "collapsed": true
   },
   "outputs": [],
   "source": [
    "trump.drop('id_str', axis=1, inplace=True)\n",
    "trump.drop('in_reply_to_user_id_str', axis=1, inplace=True)"
   ]
  },
  {
   "cell_type": "code",
   "execution_count": 8,
   "metadata": {},
   "outputs": [
    {
     "data": {
      "text/plain": [
       "created_at        377\n",
       "favorite_count    377\n",
       "is_retweet        377\n",
       "retweet_count     377\n",
       "source            377\n",
       "text              377\n",
       "dtype: int64"
      ]
     },
     "execution_count": 8,
     "metadata": {},
     "output_type": "execute_result"
    }
   ],
   "source": [
    "trump[trump['is_retweet']==True].count()"
   ]
  },
  {
   "cell_type": "markdown",
   "metadata": {},
   "source": [
    "Less than 5% of the tweets are something Donald Trump has retweeted, but will leave it in the dataset to see what types of things he retweets."
   ]
  },
  {
   "cell_type": "code",
   "execution_count": 9,
   "metadata": {},
   "outputs": [
    {
     "data": {
      "text/plain": [
       "26     RT  So proud to be out on the campaign trail w...\n",
       "91     RT  Explosive Trump attack on HRC, Bill, Monic...\n",
       "167    RT  REUTERS ROLLING:  TRUMP %, CRUZ .%, BUSH ....\n",
       "187    RT      obvious to all that he raised some GRE...\n",
       "239     RT  I look forward to being on  with  at :pmET. \n",
       "Name: text, dtype: object"
      ]
     },
     "execution_count": 9,
     "metadata": {},
     "output_type": "execute_result"
    }
   ],
   "source": [
    "trump[trump['is_retweet']==True].text[0:5]"
   ]
  },
  {
   "cell_type": "markdown",
   "metadata": {},
   "source": [
    "Now lets investigate the target vartiable, the source of each individual tweet."
   ]
  },
  {
   "cell_type": "code",
   "execution_count": 10,
   "metadata": {},
   "outputs": [
    {
     "data": {
      "text/plain": [
       "Twitter for iPhone     3221\n",
       "Twitter for Android    2116\n",
       "Twitter Web Client      358\n",
       "Twitter Ads              96\n",
       "Media Studio             65\n",
       "Twitter for iPad         22\n",
       "Instagram                 2\n",
       "TweetDeck                 2\n",
       "Mobile Web (M5)           1\n",
       "Periscope                 1\n",
       "Name: source, dtype: int64"
      ]
     },
     "execution_count": 10,
     "metadata": {},
     "output_type": "execute_result"
    }
   ],
   "source": [
    "trump['source'].value_counts()"
   ]
  },
  {
   "cell_type": "markdown",
   "metadata": {},
   "source": [
    "Over 95% of the dataset comes one of three sources and any investigation can focus solely on Twitter for IPhone, Twitter for Android and Twitter Web Client."
   ]
  },
  {
   "cell_type": "code",
   "execution_count": 11,
   "metadata": {
    "collapsed": true
   },
   "outputs": [],
   "source": [
    "# Training dataframe with observations from three relevan sources only\n",
    "trump = trump[trump.source != 'Twitter Ads']\n",
    "trump = trump[trump.source != 'Media Studio']\n",
    "trump = trump[trump.source != 'Twitter for iPad']\n",
    "trump = trump[trump.source != 'TweetDeck']\n",
    "trump = trump[trump.source != 'Instagram']\n",
    "trump = trump[trump.source != 'Periscope']\n",
    "trump = trump[trump.source != 'Mobile Web (M5)']"
   ]
  },
  {
   "cell_type": "code",
   "execution_count": 12,
   "metadata": {},
   "outputs": [
    {
     "data": {
      "text/plain": [
       "created_at        datetime64[ns]\n",
       "favorite_count             int64\n",
       "is_retweet                  bool\n",
       "retweet_count              int64\n",
       "source                    object\n",
       "text                      object\n",
       "dtype: object"
      ]
     },
     "execution_count": 12,
     "metadata": {},
     "output_type": "execute_result"
    }
   ],
   "source": [
    "# Check the data types for the remaining columns\n",
    "trump.dtypes"
   ]
  },
  {
   "cell_type": "markdown",
   "metadata": {},
   "source": [
    "The final step in the preprocessing of the dataset is to make the index a datetime index"
   ]
  },
  {
   "cell_type": "code",
   "execution_count": 13,
   "metadata": {},
   "outputs": [
    {
     "data": {
      "text/plain": [
       "(5695, 5)"
      ]
     },
     "execution_count": 13,
     "metadata": {},
     "output_type": "execute_result"
    }
   ],
   "source": [
    "#Make dataframe a datetime index\n",
    "trump.index=pd.DatetimeIndex(trump['created_at'])\n",
    "trump.drop('created_at', axis = 1, inplace =True)\n",
    "trump.shape"
   ]
  },
  {
   "cell_type": "markdown",
   "metadata": {},
   "source": [
    "So our preprocessed dataset consist of 5695 observations and 5 characteristics for each observation"
   ]
  },
  {
   "cell_type": "markdown",
   "metadata": {},
   "source": [
    "# Data Analyzation\n"
   ]
  },
  {
   "cell_type": "markdown",
   "metadata": {},
   "source": [
    "Let's start by generating any new features that might be impoprtant factors in the source classification."
   ]
  },
  {
   "cell_type": "code",
   "execution_count": 14,
   "metadata": {
    "collapsed": true
   },
   "outputs": [],
   "source": [
    "# Obtain the hour of the day and the day of the week for each observation and add them as features to the dataframe\n",
    "trump['hours'] = trump.index.hour\n",
    "trump['weekday'] = trump.index.weekday_name"
   ]
  },
  {
   "cell_type": "markdown",
   "metadata": {},
   "source": [
    "## Natural Language Processing"
   ]
  },
  {
   "cell_type": "code",
   "execution_count": 15,
   "metadata": {
    "collapsed": true
   },
   "outputs": [],
   "source": [
    "from nltk.corpus import stopwords\n",
    "\n",
    "# get english stop words\n",
    "english = stopwords.words('english')"
   ]
  },
  {
   "cell_type": "markdown",
   "metadata": {},
   "source": [
    "Specific packages within Python allow us to analyze written text for both its Meta and Text attributes.\n"
   ]
  },
  {
   "cell_type": "markdown",
   "metadata": {},
   "source": [
    "### Meta Attributes:\n",
    "\n",
    "Meta attributes include:\n",
    "\n",
    "1) Number of words per tweet\n",
    "\n",
    "2) Number of unique words in tweet\n",
    "\n",
    "3) Number of characters in tweet\n",
    "\n",
    "4) Number of stopwords\n",
    "\n",
    "5) Number of punctuation\n",
    "\n",
    "6) Number of upper case words\n",
    "\n",
    "7) Number of title case words\n",
    "\n",
    "8) Average length of word"
   ]
  },
  {
   "cell_type": "code",
   "execution_count": 16,
   "metadata": {
    "collapsed": true
   },
   "outputs": [],
   "source": [
    "# Number of words in tweet\n",
    "trump['num_words'] = trump['text'].apply(lambda x: len(str(x).split()))\n",
    "\n",
    "# Number of unique word per tweet\n",
    "trump['num_unique_words'] = trump['text'].apply(lambda x: len(set(str(x).split())))\n",
    "\n",
    "# Number of characters in tweet\n",
    "trump['num_char'] = trump['text'].apply(lambda x: len(str(x)))\n",
    "\n",
    "# Number of stop words\n",
    "trump['num_stops'] = trump['text'].apply(lambda x: len([w for w in str(x).lower().split() if w in english]))\n",
    "\n",
    "# Number of puncuation in tweet\n",
    "trump['num_punc'] = trump['text'].apply(lambda x: len([c for c in str(x) if c in string.punctuation]))\n",
    "\n",
    "# Number of upper case words\n",
    "trump['num_upper'] = trump['text'].apply(lambda x: len([w for w in str(x).split() if w.isupper()]))\n",
    "\n",
    "# Number of title case words in tweet\n",
    "trump['num_title'] = trump['text'].apply(lambda x: len([w for w in str(x).split() if w.istitle()]))\n",
    "\n",
    "# Average length of word\n",
    "# trump['avg_len'] = trump['text'].apply(lambda x: np.mean([len(w) for w in str(x).split()]))\n",
    "\n"
   ]
  },
  {
   "cell_type": "code",
   "execution_count": 17,
   "metadata": {},
   "outputs": [
    {
     "data": {
      "text/html": [
       "<div>\n",
       "<style>\n",
       "    .dataframe thead tr:only-child th {\n",
       "        text-align: right;\n",
       "    }\n",
       "\n",
       "    .dataframe thead th {\n",
       "        text-align: left;\n",
       "    }\n",
       "\n",
       "    .dataframe tbody tr th {\n",
       "        vertical-align: top;\n",
       "    }\n",
       "</style>\n",
       "<table border=\"1\" class=\"dataframe\">\n",
       "  <thead>\n",
       "    <tr style=\"text-align: right;\">\n",
       "      <th></th>\n",
       "      <th>favorite_count</th>\n",
       "      <th>is_retweet</th>\n",
       "      <th>retweet_count</th>\n",
       "      <th>source</th>\n",
       "      <th>text</th>\n",
       "      <th>hours</th>\n",
       "      <th>weekday</th>\n",
       "      <th>num_words</th>\n",
       "      <th>num_unique_words</th>\n",
       "      <th>num_char</th>\n",
       "      <th>num_stops</th>\n",
       "      <th>num_punc</th>\n",
       "      <th>num_upper</th>\n",
       "      <th>num_title</th>\n",
       "    </tr>\n",
       "    <tr>\n",
       "      <th>created_at</th>\n",
       "      <th></th>\n",
       "      <th></th>\n",
       "      <th></th>\n",
       "      <th></th>\n",
       "      <th></th>\n",
       "      <th></th>\n",
       "      <th></th>\n",
       "      <th></th>\n",
       "      <th></th>\n",
       "      <th></th>\n",
       "      <th></th>\n",
       "      <th></th>\n",
       "      <th></th>\n",
       "      <th></th>\n",
       "    </tr>\n",
       "  </thead>\n",
       "  <tbody>\n",
       "    <tr>\n",
       "      <th>2016-01-01 00:44:14</th>\n",
       "      <td>6735</td>\n",
       "      <td>False</td>\n",
       "      <td>2108</td>\n",
       "      <td>Twitter for Android</td>\n",
       "      <td>I will be on  live,  with members of my family...</td>\n",
       "      <td>0</td>\n",
       "      <td>Friday</td>\n",
       "      <td>25</td>\n",
       "      <td>24</td>\n",
       "      <td>122</td>\n",
       "      <td>12</td>\n",
       "      <td>7</td>\n",
       "      <td>6</td>\n",
       "      <td>5</td>\n",
       "    </tr>\n",
       "    <tr>\n",
       "      <th>2016-01-01 03:25:27</th>\n",
       "      <td>8581</td>\n",
       "      <td>False</td>\n",
       "      <td>3460</td>\n",
       "      <td>Twitter for iPhone</td>\n",
       "      <td>HAPPY NEW YEAR  THANK YOU!</td>\n",
       "      <td>3</td>\n",
       "      <td>Friday</td>\n",
       "      <td>5</td>\n",
       "      <td>5</td>\n",
       "      <td>28</td>\n",
       "      <td>0</td>\n",
       "      <td>1</td>\n",
       "      <td>5</td>\n",
       "      <td>0</td>\n",
       "    </tr>\n",
       "    <tr>\n",
       "      <th>2016-01-01 05:18:23</th>\n",
       "      <td>9143</td>\n",
       "      <td>False</td>\n",
       "      <td>3434</td>\n",
       "      <td>Twitter for iPhone</td>\n",
       "      <td>#HappyNewYearAmerica!</td>\n",
       "      <td>5</td>\n",
       "      <td>Friday</td>\n",
       "      <td>1</td>\n",
       "      <td>1</td>\n",
       "      <td>22</td>\n",
       "      <td>0</td>\n",
       "      <td>2</td>\n",
       "      <td>0</td>\n",
       "      <td>0</td>\n",
       "    </tr>\n",
       "    <tr>\n",
       "      <th>2016-01-01 06:07:28</th>\n",
       "      <td>8258</td>\n",
       "      <td>False</td>\n",
       "      <td>1948</td>\n",
       "      <td>Twitter for iPhone</td>\n",
       "      <td>Happy New Year from #MarALago! Thank you to my...</td>\n",
       "      <td>6</td>\n",
       "      <td>Friday</td>\n",
       "      <td>16</td>\n",
       "      <td>16</td>\n",
       "      <td>86</td>\n",
       "      <td>8</td>\n",
       "      <td>3</td>\n",
       "      <td>0</td>\n",
       "      <td>4</td>\n",
       "    </tr>\n",
       "    <tr>\n",
       "      <th>2016-01-01 06:08:06</th>\n",
       "      <td>7490</td>\n",
       "      <td>False</td>\n",
       "      <td>2721</td>\n",
       "      <td>Twitter for Android</td>\n",
       "      <td>\" Hillary said she was in a \"Fog of War\" as ex...</td>\n",
       "      <td>6</td>\n",
       "      <td>Friday</td>\n",
       "      <td>25</td>\n",
       "      <td>24</td>\n",
       "      <td>125</td>\n",
       "      <td>11</td>\n",
       "      <td>7</td>\n",
       "      <td>2</td>\n",
       "      <td>7</td>\n",
       "    </tr>\n",
       "  </tbody>\n",
       "</table>\n",
       "</div>"
      ],
      "text/plain": [
       "                     favorite_count  is_retweet  retweet_count  \\\n",
       "created_at                                                       \n",
       "2016-01-01 00:44:14            6735       False           2108   \n",
       "2016-01-01 03:25:27            8581       False           3460   \n",
       "2016-01-01 05:18:23            9143       False           3434   \n",
       "2016-01-01 06:07:28            8258       False           1948   \n",
       "2016-01-01 06:08:06            7490       False           2721   \n",
       "\n",
       "                                  source  \\\n",
       "created_at                                 \n",
       "2016-01-01 00:44:14  Twitter for Android   \n",
       "2016-01-01 03:25:27   Twitter for iPhone   \n",
       "2016-01-01 05:18:23   Twitter for iPhone   \n",
       "2016-01-01 06:07:28   Twitter for iPhone   \n",
       "2016-01-01 06:08:06  Twitter for Android   \n",
       "\n",
       "                                                                  text  hours  \\\n",
       "created_at                                                                      \n",
       "2016-01-01 00:44:14  I will be on  live,  with members of my family...      0   \n",
       "2016-01-01 03:25:27                       HAPPY NEW YEAR  THANK YOU!        3   \n",
       "2016-01-01 05:18:23                             #HappyNewYearAmerica!       5   \n",
       "2016-01-01 06:07:28  Happy New Year from #MarALago! Thank you to my...      6   \n",
       "2016-01-01 06:08:06  \" Hillary said she was in a \"Fog of War\" as ex...      6   \n",
       "\n",
       "                    weekday  num_words  num_unique_words  num_char  num_stops  \\\n",
       "created_at                                                                      \n",
       "2016-01-01 00:44:14  Friday         25                24       122         12   \n",
       "2016-01-01 03:25:27  Friday          5                 5        28          0   \n",
       "2016-01-01 05:18:23  Friday          1                 1        22          0   \n",
       "2016-01-01 06:07:28  Friday         16                16        86          8   \n",
       "2016-01-01 06:08:06  Friday         25                24       125         11   \n",
       "\n",
       "                     num_punc  num_upper  num_title  \n",
       "created_at                                           \n",
       "2016-01-01 00:44:14         7          6          5  \n",
       "2016-01-01 03:25:27         1          5          0  \n",
       "2016-01-01 05:18:23         2          0          0  \n",
       "2016-01-01 06:07:28         3          0          4  \n",
       "2016-01-01 06:08:06         7          2          7  "
      ]
     },
     "execution_count": 17,
     "metadata": {},
     "output_type": "execute_result"
    }
   ],
   "source": [
    "trump.head()"
   ]
  },
  {
   "cell_type": "markdown",
   "metadata": {},
   "source": [
    "Let's plot some of the new variables to see any correlation. Obviously, we will start with difference in the number of words in a Tweet depending on the source."
   ]
  },
  {
   "cell_type": "code",
   "execution_count": 18,
   "metadata": {},
   "outputs": [
    {
     "data": {
      "text/plain": [
       "<matplotlib.text.Text at 0x26eaf64ab70>"
      ]
     },
     "execution_count": 18,
     "metadata": {},
     "output_type": "execute_result"
    },
    {
     "data": {
      "image/png": "[encoded data removed]",
      "text/plain": [
       "<matplotlib.figure.Figure at 0x26eafe22c50>"
      ]
     },
     "metadata": {},
     "output_type": "display_data"
    }
   ],
   "source": [
    "plt.figure(figsize=(12,8))\n",
    "sns.violinplot(x='source', y= 'num_words', data= trump)\n",
    "plt.xlabel(' Source of Tweet', fontsize=12)\n",
    "plt.ylabel('NUmber of Words', fontsize=12)\n",
    "plt.title('Number of Words per Tweet by Source', fontsize=15)"
   ]
  },
  {
   "cell_type": "markdown",
   "metadata": {},
   "source": [
    "There is a significantly higher mean with the android source versus the other two but the distibutions of the sources is consistent with each other. Basically, this graph says that the android source was used much more for Tweets ranging from 20-30 words. i.e. longer tweets."
   ]
  },
  {
   "cell_type": "markdown",
   "metadata": {},
   "source": [
    "Next let's investigate the amount of punctuation in each by source"
   ]
  },
  {
   "cell_type": "code",
   "execution_count": 19,
   "metadata": {},
   "outputs": [
    {
     "data": {
      "text/plain": [
       "<matplotlib.text.Text at 0x26eafe82e80>"
      ]
     },
     "execution_count": 19,
     "metadata": {},
     "output_type": "execute_result"
    },
    {
     "data": {
      "image/png": "[encoded data removed]",
      "text/plain": [
       "<matplotlib.figure.Figure at 0x26eaf6122e8>"
      ]
     },
     "metadata": {},
     "output_type": "display_data"
    }
   ],
   "source": [
    "plt.figure(figsize=(12,8))\n",
    "sns.violinplot(x=trump['source'], y= 'num_punc', data= trump)\n",
    "plt.xlabel(' Source of Tweet', fontsize=12)\n",
    "plt.ylabel('Amount of Punctuation', fontsize=12)\n",
    "plt.title('Amount of Punctuation per Tweet by Source', fontsize=15)"
   ]
  },
  {
   "cell_type": "markdown",
   "metadata": {},
   "source": [
    "There are some outliers within the Android and iPhone sources but the Web Client is normally distributed. The outliers can be dealt with by taking the log of the Android and iPhone punctuation values."
   ]
  },
  {
   "cell_type": "code",
   "execution_count": 20,
   "metadata": {
    "collapsed": true
   },
   "outputs": [],
   "source": [
    "trump['num_punc']= trump['num_punc'].apply(lambda x: np.log(x))"
   ]
  },
  {
   "cell_type": "code",
   "execution_count": 21,
   "metadata": {},
   "outputs": [
    {
     "data": {
      "text/plain": [
       "<matplotlib.text.Text at 0x26eb00f6048>"
      ]
     },
     "execution_count": 21,
     "metadata": {},
     "output_type": "execute_result"
    },
    {
     "data": {
      "image/png": "[encoded data removed]",
      "text/plain": [
       "<matplotlib.figure.Figure at 0x26eb00e6dd8>"
      ]
     },
     "metadata": {},
     "output_type": "display_data"
    }
   ],
   "source": [
    "plt.figure(figsize=(12,8))\n",
    "sns.violinplot(x=trump.source, y= 'num_unique_words', data= trump)\n",
    "plt.xlabel(' Source of Tweet', fontsize=12)\n",
    "plt.ylabel('NUmber of Unique Words', fontsize=12)\n",
    "plt.title('Number of Unique Words per Tweet by Source', fontsize=15)"
   ]
  },
  {
   "cell_type": "markdown",
   "metadata": {},
   "source": [
    "As expected there is some obvious correlation between number of words and the number of unique words. The graphs are nearly identical."
   ]
  },
  {
   "cell_type": "code",
   "execution_count": 22,
   "metadata": {},
   "outputs": [
    {
     "data": {
      "text/plain": [
       "<matplotlib.text.Text at 0x26eafae76a0>"
      ]
     },
     "execution_count": 22,
     "metadata": {},
     "output_type": "execute_result"
    },
    {
     "data": {
      "image/png": "[encoded data removed]",
      "text/plain": [
       "<matplotlib.figure.Figure at 0x26eb011b5f8>"
      ]
     },
     "metadata": {},
     "output_type": "display_data"
    }
   ],
   "source": [
    "plt.figure(figsize=(12,8))\n",
    "sns.violinplot(x=trump.source, y= 'num_char', data= trump)\n",
    "plt.xlabel(' Source of Tweet', fontsize=12)\n",
    "plt.ylabel('Number of Characters', fontsize=12)\n",
    "plt.title('Number of Characters per Tweet by Source', fontsize=15)"
   ]
  },
  {
   "cell_type": "markdown",
   "metadata": {},
   "source": [
    "Outliers on the low side of the charcter per tweet count might require another log function"
   ]
  },
  {
   "cell_type": "code",
   "execution_count": 23,
   "metadata": {
    "collapsed": true
   },
   "outputs": [],
   "source": [
    "trump['num_char']=trump['num_char'].apply(lambda x: np.log(x))"
   ]
  },
  {
   "cell_type": "code",
   "execution_count": 55,
   "metadata": {
    "collapsed": true
   },
   "outputs": [],
   "source": [
    "don = trump[trump['source']=='Twitter for Android']"
   ]
  },
  {
   "cell_type": "code",
   "execution_count": 57,
   "metadata": {},
   "outputs": [
    {
     "name": "stderr",
     "output_type": "stream",
     "text": [
      "C:\\Users\\bobbyd\\Anaconda2\\envs\\neural_net\\lib\\site-packages\\ipykernel_launcher.py:9: SettingWithCopyWarning: \n",
      "A value is trying to be set on a copy of a slice from a DataFrame.\n",
      "Try using .loc[row_indexer,col_indexer] = value instead\n",
      "\n",
      "See the caveats in the documentation: http://pandas.pydata.org/pandas-docs/stable/indexing.html#indexing-view-versus-copy\n",
      "  if __name__ == '__main__':\n"
     ]
    }
   ],
   "source": [
    "analyser = SentimentIntensityAnalyzer()\n",
    "\n",
    "com=[]\n",
    "for idx, text in enumerate(trump.text):\n",
    "    snt = analyser.polarity_scores(text)\n",
    "    com.append(snt['compound'])\n",
    "    \n",
    "\n",
    "trump['com']=com"
   ]
  },
  {
   "cell_type": "code",
   "execution_count": 58,
   "metadata": {},
   "outputs": [
    {
     "data": {
      "text/html": [
       "<div>\n",
       "<style>\n",
       "    .dataframe thead tr:only-child th {\n",
       "        text-align: right;\n",
       "    }\n",
       "\n",
       "    .dataframe thead th {\n",
       "        text-align: left;\n",
       "    }\n",
       "\n",
       "    .dataframe tbody tr th {\n",
       "        vertical-align: top;\n",
       "    }\n",
       "</style>\n",
       "<table border=\"1\" class=\"dataframe\">\n",
       "  <thead>\n",
       "    <tr style=\"text-align: right;\">\n",
       "      <th></th>\n",
       "      <th>favorite_count</th>\n",
       "      <th>is_retweet</th>\n",
       "      <th>retweet_count</th>\n",
       "      <th>source</th>\n",
       "      <th>text</th>\n",
       "      <th>hours</th>\n",
       "      <th>weekday</th>\n",
       "      <th>num_words</th>\n",
       "      <th>num_unique_words</th>\n",
       "      <th>num_char</th>\n",
       "      <th>num_stops</th>\n",
       "      <th>num_punc</th>\n",
       "      <th>num_upper</th>\n",
       "      <th>num_title</th>\n",
       "      <th>com</th>\n",
       "    </tr>\n",
       "    <tr>\n",
       "      <th>created_at</th>\n",
       "      <th></th>\n",
       "      <th></th>\n",
       "      <th></th>\n",
       "      <th></th>\n",
       "      <th></th>\n",
       "      <th></th>\n",
       "      <th></th>\n",
       "      <th></th>\n",
       "      <th></th>\n",
       "      <th></th>\n",
       "      <th></th>\n",
       "      <th></th>\n",
       "      <th></th>\n",
       "      <th></th>\n",
       "      <th></th>\n",
       "    </tr>\n",
       "  </thead>\n",
       "  <tbody>\n",
       "    <tr>\n",
       "      <th>2016-01-01 00:44:14</th>\n",
       "      <td>6735</td>\n",
       "      <td>0</td>\n",
       "      <td>2108</td>\n",
       "      <td>Twitter for Android</td>\n",
       "      <td>I will be on  live,  with members of my family...</td>\n",
       "      <td>0</td>\n",
       "      <td>Friday</td>\n",
       "      <td>25</td>\n",
       "      <td>24</td>\n",
       "      <td>4.804021</td>\n",
       "      <td>12</td>\n",
       "      <td>1.945910</td>\n",
       "      <td>6</td>\n",
       "      <td>5</td>\n",
       "      <td>0.7519</td>\n",
       "    </tr>\n",
       "    <tr>\n",
       "      <th>2016-01-01 06:08:06</th>\n",
       "      <td>7490</td>\n",
       "      <td>0</td>\n",
       "      <td>2721</td>\n",
       "      <td>Twitter for Android</td>\n",
       "      <td>\" Hillary said she was in a \"Fog of War\" as ex...</td>\n",
       "      <td>6</td>\n",
       "      <td>Friday</td>\n",
       "      <td>25</td>\n",
       "      <td>24</td>\n",
       "      <td>4.828314</td>\n",
       "      <td>11</td>\n",
       "      <td>1.945910</td>\n",
       "      <td>2</td>\n",
       "      <td>7</td>\n",
       "      <td>-0.8478</td>\n",
       "    </tr>\n",
       "    <tr>\n",
       "      <th>2016-01-01 21:29:56</th>\n",
       "      <td>3330</td>\n",
       "      <td>0</td>\n",
       "      <td>933</td>\n",
       "      <td>Twitter for Android</td>\n",
       "      <td>\"   they're spending millions but you're still...</td>\n",
       "      <td>21</td>\n",
       "      <td>Friday</td>\n",
       "      <td>14</td>\n",
       "      <td>14</td>\n",
       "      <td>4.356709</td>\n",
       "      <td>2</td>\n",
       "      <td>1.609438</td>\n",
       "      <td>0</td>\n",
       "      <td>2</td>\n",
       "      <td>0.7351</td>\n",
       "    </tr>\n",
       "    <tr>\n",
       "      <th>2016-01-01 23:00:09</th>\n",
       "      <td>8495</td>\n",
       "      <td>0</td>\n",
       "      <td>2642</td>\n",
       "      <td>Twitter for Android</td>\n",
       "      <td>Well, the year has officially begun. I have ma...</td>\n",
       "      <td>23</td>\n",
       "      <td>Friday</td>\n",
       "      <td>27</td>\n",
       "      <td>27</td>\n",
       "      <td>4.934474</td>\n",
       "      <td>14</td>\n",
       "      <td>1.098612</td>\n",
       "      <td>1</td>\n",
       "      <td>2</td>\n",
       "      <td>0.6325</td>\n",
       "    </tr>\n",
       "    <tr>\n",
       "      <th>2016-01-01 23:02:05</th>\n",
       "      <td>2780</td>\n",
       "      <td>0</td>\n",
       "      <td>654</td>\n",
       "      <td>Twitter for Android</td>\n",
       "      <td>\"  we love u to Trump Family. God bless you.\"</td>\n",
       "      <td>23</td>\n",
       "      <td>Friday</td>\n",
       "      <td>10</td>\n",
       "      <td>10</td>\n",
       "      <td>3.806662</td>\n",
       "      <td>2</td>\n",
       "      <td>1.386294</td>\n",
       "      <td>0</td>\n",
       "      <td>3</td>\n",
       "      <td>0.8442</td>\n",
       "    </tr>\n",
       "  </tbody>\n",
       "</table>\n",
       "</div>"
      ],
      "text/plain": [
       "                     favorite_count  is_retweet  retweet_count  \\\n",
       "created_at                                                       \n",
       "2016-01-01 00:44:14            6735           0           2108   \n",
       "2016-01-01 06:08:06            7490           0           2721   \n",
       "2016-01-01 21:29:56            3330           0            933   \n",
       "2016-01-01 23:00:09            8495           0           2642   \n",
       "2016-01-01 23:02:05            2780           0            654   \n",
       "\n",
       "                                  source  \\\n",
       "created_at                                 \n",
       "2016-01-01 00:44:14  Twitter for Android   \n",
       "2016-01-01 06:08:06  Twitter for Android   \n",
       "2016-01-01 21:29:56  Twitter for Android   \n",
       "2016-01-01 23:00:09  Twitter for Android   \n",
       "2016-01-01 23:02:05  Twitter for Android   \n",
       "\n",
       "                                                                  text  hours  \\\n",
       "created_at                                                                      \n",
       "2016-01-01 00:44:14  I will be on  live,  with members of my family...      0   \n",
       "2016-01-01 06:08:06  \" Hillary said she was in a \"Fog of War\" as ex...      6   \n",
       "2016-01-01 21:29:56  \"   they're spending millions but you're still...     21   \n",
       "2016-01-01 23:00:09  Well, the year has officially begun. I have ma...     23   \n",
       "2016-01-01 23:02:05      \"  we love u to Trump Family. God bless you.\"     23   \n",
       "\n",
       "                    weekday  num_words  num_unique_words  num_char  num_stops  \\\n",
       "created_at                                                                      \n",
       "2016-01-01 00:44:14  Friday         25                24  4.804021         12   \n",
       "2016-01-01 06:08:06  Friday         25                24  4.828314         11   \n",
       "2016-01-01 21:29:56  Friday         14                14  4.356709          2   \n",
       "2016-01-01 23:00:09  Friday         27                27  4.934474         14   \n",
       "2016-01-01 23:02:05  Friday         10                10  3.806662          2   \n",
       "\n",
       "                     num_punc  num_upper  num_title     com  \n",
       "created_at                                                   \n",
       "2016-01-01 00:44:14  1.945910          6          5  0.7519  \n",
       "2016-01-01 06:08:06  1.945910          2          7 -0.8478  \n",
       "2016-01-01 21:29:56  1.609438          0          2  0.7351  \n",
       "2016-01-01 23:00:09  1.098612          1          2  0.6325  \n",
       "2016-01-01 23:02:05  1.386294          0          3  0.8442  "
      ]
     },
     "execution_count": 58,
     "metadata": {},
     "output_type": "execute_result"
    }
   ],
   "source": [
    "don.head()"
   ]
  },
  {
   "cell_type": "markdown",
   "metadata": {},
   "source": [
    "One of the first attributes that is important , to any Presidential election, is the overall sentiment of their tweets. The polarizing nature of the 2016 Election, along with Donald Trump's incessant use of Twitter, only makes this attribute more interesting. Python's NLTK VaderSentiment package attempts to interpret the sentiment from any blurb of text."
   ]
  },
  {
   "cell_type": "code",
   "execution_count": null,
   "metadata": {
    "collapsed": true
   },
   "outputs": [],
   "source": []
  }
 ],
 "metadata": {
  "kernelspec": {
   "display_name": "Python 3",
   "language": "python",
   "name": "python3"
  },
  "language_info": {
   "codemirror_mode": {
    "name": "ipython",
    "version": 3
   },
   "file_extension": ".py",
   "mimetype": "text/x-python",
   "name": "python",
   "nbconvert_exporter": "python",
   "pygments_lexer": "ipython3",
   "version": "3.6.2"
  }
 },
 "nbformat": 4,
 "nbformat_minor": 2
}
